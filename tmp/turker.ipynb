{
 "cells": [
  {
   "cell_type": "code",
   "execution_count": 4,
   "metadata": {},
   "outputs": [],
   "source": [
    "import json\n",
    "import pandas as pd\n",
    "import glob\n",
    "import os"
   ]
  },
  {
   "cell_type": "code",
   "execution_count": 9,
   "metadata": {},
   "outputs": [
    {
     "data": {
      "text/plain": [
       "1613"
      ]
     },
     "execution_count": 9,
     "metadata": {},
     "output_type": "execute_result"
    }
   ],
   "source": [
    "len(glob.glob(\"/home/gujiashe/Tk-Instruct/data/tasks/*.json\"))\n",
    "# 😧🙈🙂😘😡😩🤬😂🤷 🏻🙄😔😮👊🇺🇸👍😈😎💪🤣😀😍😬 😊💃\n",
    "# \f"
   ]
  },
  {
   "cell_type": "code",
   "execution_count": 5,
   "metadata": {},
   "outputs": [],
   "source": [
    "tasks = {}\n",
    "\n",
    "tasks['Instuction'] = []\n",
    "tasks['Categories'] = []\n",
    "tasks['name'] = []\n",
    "for i in range(1, 11):\n",
    "    tasks['Example_' + str(i) + '_input'] = []\n",
    "    tasks['Example_' + str(i) + '_output'] = []\n",
    "    tasks['Example_' + str(i) + '_explanation'] = []\n",
    "paths = []\n",
    "task_dir = '/home/gujiashe/Tk-Instruct/data/tasks'\n",
    "path = '/home/gujiashe/Tk-Instruct/data/splits/default/test_tasks.txt'\n",
    "with open(path, encoding=\"utf-8\") as split_f:\n",
    "    for line in split_f:\n",
    "        task_name = line.strip()\n",
    "        task_path = os.path.join(task_dir, task_name + \".json\")\n",
    "        with open(task_path, \"r\") as task_f:\n",
    "            s = task_f.read()\n",
    "            task = json.loads(s)\n",
    "            if len(task[\"Input_language\"])>1 or task[\"Input_language\"][0] != \"English\":\n",
    "                continue\n",
    "            if len(task[\"Output_language\"])>1 or task[\"Output_language\"][0] != \"English\":\n",
    "                continue\n",
    "\n",
    "            i = 1\n",
    "            for example in task['Positive Examples']:\n",
    "                if i>10:\n",
    "                    break\n",
    "                tasks['Example_' + str(i) + '_input'].append(example['input'])\n",
    "                tasks['Example_' + str(i) + '_output'].append(example['output'])\n",
    "                tasks['Example_' + str(i) + '_explanation'].append('Positive. ' + example['explanation'])\n",
    "                i+=1\n",
    "                \n",
    "\n",
    "\n",
    "            for example in task['Negative Examples']:\n",
    "                if i>10:\n",
    "                    break\n",
    "                tasks['Example_' + str(i) + '_input'].append(example['input'])\n",
    "                tasks['Example_' + str(i) + '_output'].append(example['output'])\n",
    "                tasks['Example_' + str(i) + '_explanation'].append('Negative. ' + example['explanation'])\n",
    "                i+=1\n",
    "                \n",
    "            \n",
    "            for example in task['Instances']:\n",
    "                if i>10:\n",
    "                    break\n",
    "                tasks['Example_' + str(i) + '_input'].append(example['input'])\n",
    "                tasks['Example_' + str(i) + '_output'].append(example['output'][0])\n",
    "                tasks['Example_' + str(i) + '_explanation'].append(\"\")\n",
    "                i+=1\n",
    "\n",
    "            Categories = task['Categories'][0]\n",
    "            name = task_path.split(\"/\")[-1].split(\".\")[0]\n",
    "            tasks['Instuction'].append(task['Definition'][0])\n",
    "            tasks['name'].append(name)\n",
    "            tasks['Categories'].append(Categories)\n",
    "            paths.append(task_path)\n",
    "                # break\n",
    "tasks = pd.DataFrame(tasks)"
   ]
  },
  {
   "cell_type": "code",
   "execution_count": 7,
   "metadata": {},
   "outputs": [],
   "source": [
    "tasks.to_csv(\"tasks.csv\", index=None)"
   ]
  },
  {
   "cell_type": "code",
   "execution_count": 8,
   "metadata": {},
   "outputs": [],
   "source": [
    "with open('tasks.csv', 'r', encoding='utf-8') as f:\n",
    "    x = f.read()\n",
    "    with open('tasks1.csv', 'w', encoding='utf-8') as ff:\n",
    "        ff.write(''.join(char for char in x if ord(char) < 0x10000 and not repr(char).startswith(\"'\\\\x\")))"
   ]
  },
  {
   "cell_type": "code",
   "execution_count": 9,
   "metadata": {},
   "outputs": [],
   "source": [
    "import pandas as pd\n",
    "tasks = pd.read_csv(\"tasks1.csv\")\n",
    "tasks.iloc[:20].to_csv(\"tasks_subset.csv\", index=None)"
   ]
  }
 ],
 "metadata": {
  "kernelspec": {
   "display_name": "Python 3.9.12 ('instruction')",
   "language": "python",
   "name": "python3"
  },
  "language_info": {
   "codemirror_mode": {
    "name": "ipython",
    "version": 3
   },
   "file_extension": ".py",
   "mimetype": "text/x-python",
   "name": "python",
   "nbconvert_exporter": "python",
   "pygments_lexer": "ipython3",
   "version": "3.9.12"
  },
  "orig_nbformat": 4,
  "vscode": {
   "interpreter": {
    "hash": "bc2c0cd89e4ba02e191b1e7889aaaf3c8919053db7e24df61ffe975264e317e1"
   }
  }
 },
 "nbformat": 4,
 "nbformat_minor": 2
}
