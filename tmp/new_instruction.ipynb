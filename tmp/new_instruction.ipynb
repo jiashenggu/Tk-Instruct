{
 "cells": [
  {
   "cell_type": "code",
   "execution_count": 2,
   "metadata": {},
   "outputs": [],
   "source": [
    "import pandas as pd\n",
    "import numpy as np\n",
    "import json"
   ]
  },
  {
   "cell_type": "code",
   "execution_count": 3,
   "metadata": {},
   "outputs": [
    {
     "name": "stdout",
     "output_type": "stream",
     "text": [
      "task1356_xlsum_title_generation_new_1\n",
      "task893_gap_fill_the_blank_coreference_resolution_new_1\n",
      "task641_esnli_classification_new_1\n",
      "task1529_scitail1.1_classification_new_1\n",
      "task670_ambigqa_question_generation_new_1\n",
      "task1393_superglue_copa_text_completion_new_1\n",
      "task288_gigaword_summarization_new_1\n",
      "task1664_winobias_text_generation_new_1\n",
      "task880_schema_guided_dstc8_classification_new_1\n",
      "task1439_doqa_cooking_isanswerable_new_1\n",
      "task645_summarization_new_1\n",
      "task1728_web_nlg_data_to_text_new_1\n",
      "task1640_aqa1.0_answerable_unanswerable_question_classification_new_1\n",
      "task620_ohsumed_medical_subject_headings_answer_generation_new_1\n",
      "task1159_bard_analogical_reasoning_containers_new_1\n",
      "task039_qasc_find_overlapping_words_new_1\n",
      "task1154_bard_analogical_reasoning_travel_new_1\n",
      "task760_msr_sqa_long_text_generation_new_1\n",
      "task035_winogrande_question_modification_person_new_1\n",
      "task391_causal_relationship_new_1\n",
      "task1531_daily_dialog_type_classification_new_1\n",
      "task281_points_of_correspondence_new_1\n",
      "task1557_jfleg_answer_generation_new_1\n",
      "task1356_xlsum_title_generation_new_2\n",
      "task893_gap_fill_the_blank_coreference_resolution_new_2\n",
      "task641_esnli_classification_new_2\n",
      "task1529_scitail1.1_classification_new_2\n",
      "task670_ambigqa_question_generation_new_2\n",
      "task1393_superglue_copa_text_completion_new_2\n",
      "task288_gigaword_summarization_new_2\n",
      "task1664_winobias_text_generation_new_2\n",
      "task880_schema_guided_dstc8_classification_new_2\n",
      "task1439_doqa_cooking_isanswerable_new_2\n",
      "task645_summarization_new_2\n",
      "task1728_web_nlg_data_to_text_new_2\n",
      "task1640_aqa1.0_answerable_unanswerable_question_classification_new_2\n",
      "task620_ohsumed_medical_subject_headings_answer_generation_new_2\n",
      "task1159_bard_analogical_reasoning_containers_new_2\n",
      "task039_qasc_find_overlapping_words_new_2\n",
      "task1154_bard_analogical_reasoning_travel_new_2\n",
      "task760_msr_sqa_long_text_generation_new_2\n",
      "task035_winogrande_question_modification_person_new_2\n",
      "task391_causal_relationship_new_2\n",
      "task1531_daily_dialog_type_classification_new_2\n",
      "task281_points_of_correspondence_new_2\n",
      "task1557_jfleg_answer_generation_new_2\n",
      "task1356_xlsum_title_generation_new_3\n",
      "task893_gap_fill_the_blank_coreference_resolution_new_3\n",
      "task641_esnli_classification_new_3\n",
      "task1529_scitail1.1_classification_new_3\n",
      "task670_ambigqa_question_generation_new_3\n",
      "task1393_superglue_copa_text_completion_new_3\n",
      "task288_gigaword_summarization_new_3\n",
      "task1664_winobias_text_generation_new_3\n",
      "task880_schema_guided_dstc8_classification_new_3\n",
      "task1439_doqa_cooking_isanswerable_new_3\n",
      "task645_summarization_new_3\n",
      "task1728_web_nlg_data_to_text_new_3\n",
      "task1640_aqa1.0_answerable_unanswerable_question_classification_new_3\n",
      "task620_ohsumed_medical_subject_headings_answer_generation_new_3\n",
      "task1159_bard_analogical_reasoning_containers_new_3\n",
      "task039_qasc_find_overlapping_words_new_3\n",
      "task1154_bard_analogical_reasoning_travel_new_3\n",
      "task760_msr_sqa_long_text_generation_new_3\n",
      "task035_winogrande_question_modification_person_new_3\n",
      "task391_causal_relationship_new_3\n",
      "task1531_daily_dialog_type_classification_new_3\n",
      "task281_points_of_correspondence_new_3\n",
      "task1557_jfleg_answer_generation_new_3\n"
     ]
    }
   ],
   "source": [
    "for i in range(1, 4):\n",
    "    instruction = pd.read_csv(f'new_instruction_{i}.csv')\n",
    "    for name in instruction['name']:\n",
    "        path = './data/tasks/'+name+'.json'\n",
    "        new_path = './data/tasks/'+name+f'_new_{i}.json'\n",
    "        print(new_path.split('/')[-1].strip('.json'))\n",
    "        with open(path, encoding=\"utf-8\") as task_f:\n",
    "            s = task_f.read()\n",
    "            task_data = json.loads(s)\n",
    "            task_data[\"Definition\"] = [instruction[instruction['name']==name]['Write your instruction'].values[0]]\n",
    "            json.dump(task_data, open(new_path, 'w', encoding=\"utf-8\"), indent = 4)\n",
    "            # print(task_data)\n",
    "            "
   ]
  },
  {
   "cell_type": "code",
   "execution_count": 5,
   "metadata": {},
   "outputs": [
    {
     "name": "stdout",
     "output_type": "stream",
     "text": [
      "task1356_xlsum_title_generation\n",
      "task893_gap_fill_the_blank_coreference_resolution\n",
      "task641_esnli_classification\n",
      "task1529_scitail1.1_classification\n",
      "task670_ambigqa_question_generation\n",
      "task1393_superglue_copa_text_completion\n",
      "task288_gigaword_summarization\n",
      "task1664_winobias_text_generation\n",
      "task880_schema_guided_dstc8_classification\n",
      "task1439_doqa_cooking_isanswerable\n",
      "task645_summarization\n",
      "task1728_web_nlg_data_to_text\n",
      "task1640_aqa1.0_answerable_unanswerable_question_classification\n",
      "task620_ohsumed_medical_subject_headings_answer_generation\n",
      "task1159_bard_analogical_reasoning_containers\n",
      "task039_qasc_find_overlapping_words\n",
      "task1154_bard_analogical_reasoning_travel\n",
      "task760_msr_sqa_long_text_generation\n",
      "task035_winogrande_question_modification_person\n",
      "task391_causal_relationship\n",
      "task1531_daily_dialog_type_classification\n",
      "task281_points_of_correspondence\n",
      "task1557_jfleg_answer_generation\n"
     ]
    }
   ],
   "source": [
    "\n",
    "instruction = pd.read_csv(f'new_instruction_{i}.csv')\n",
    "for name in instruction['name']:\n",
    "    print(name)"
   ]
  }
 ],
 "metadata": {
  "kernelspec": {
   "display_name": "Python 3.9.12 ('instruction')",
   "language": "python",
   "name": "python3"
  },
  "language_info": {
   "codemirror_mode": {
    "name": "ipython",
    "version": 3
   },
   "file_extension": ".py",
   "mimetype": "text/x-python",
   "name": "python",
   "nbconvert_exporter": "python",
   "pygments_lexer": "ipython3",
   "version": "3.9.12 (main, Apr  5 2022, 06:56:58) \n[GCC 7.5.0]"
  },
  "orig_nbformat": 4,
  "vscode": {
   "interpreter": {
    "hash": "bc2c0cd89e4ba02e191b1e7889aaaf3c8919053db7e24df61ffe975264e317e1"
   }
  }
 },
 "nbformat": 4,
 "nbformat_minor": 2
}
