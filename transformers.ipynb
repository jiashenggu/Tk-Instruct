{
 "cells": [
  {
   "cell_type": "markdown",
   "metadata": {},
   "source": [
    "## metrics"
   ]
  },
  {
   "cell_type": "code",
   "execution_count": 8,
   "metadata": {},
   "outputs": [],
   "source": [
    "import json\n",
    "import collections\n",
    "import pandas as pd\n",
    "import numpy as np\n",
    "english_exp_names_1 = ['english', 'english_repeat_first_sentences', 'english_repeat_last_sentences', 'english_stopword']\n",
    "english_exp_names_3 = ['english_delete_5', 'english_delete_10', \\\n",
    "        'english_insert_5', 'english_insert_10', \\\n",
    "        'english_replace_5', 'english_replace_10', \\\n",
    "        'english_repeat_sentences', 'english_shuffle_sentences']\n",
    "\n",
    "exact_match = collections.defaultdict(list)\n",
    "rougeL = collections.defaultdict(list)\n",
    "classifications = ['answerability_classification', 'cause_effect_classification', 'coreference_resolution', \\\n",
    "    'dialogue_act_recognition', 'word_analogy', 'textual_entailment']\n",
    "non_classifications = ['data_to_text', 'grammar_error_correction', 'title_generation',\\\n",
    "    'keyword_tagging', 'overlap_extraction', 'question_rewriting']\n",
    "for english_exp_name in english_exp_names_1:\n",
    "    metric_file = open('/home/gujiashe/Tk-Instruct/output_{}/all_results.json'.format(english_exp_name), 'r')\n",
    "    metric = json.load(metric_file)\n",
    "\n",
    "\n",
    "    for classification in classifications:\n",
    "        exact_match[classification].append(metric['eval_exact_match_for_{}'.format(classification)])\n",
    "    exact_match['eval_exact_match'].append(metric['eval_exact_match'])\n",
    "    for non_classification in non_classifications:\n",
    "        rougeL[non_classification].append(metric['eval_rougeL_for_{}'.format(non_classification)])\n",
    "    rougeL['eval_rougeL'].append(metric['eval_rougeL'])\n",
    "\n",
    "metric_file = open('/home/gujiashe/Tk-Instruct/output_{}/all_results.json'.format(\"english\"), 'r')\n",
    "metric = json.load(metric_file)\n",
    "metric_names = metric.keys()\n",
    "def create_dict(keys):\n",
    "    d = {}\n",
    "    for key in keys:\n",
    "        d[key] = []\n",
    "    return d    \n",
    "for english_exp_name in english_exp_names_3:\n",
    "    metric_samples = create_dict(metric_names)\n",
    "    metric_means = create_dict(metric_names)\n",
    "    metric_stds = create_dict(metric_names)\n",
    "    for index in [1, 2, 3]:\n",
    "        _english_exp_name = english_exp_name + \"_{}\".format(index)\n",
    "\n",
    "        metric_file = open('/home/gujiashe/Tk-Instruct/output_{}/all_results.json'.format(_english_exp_name), 'r')\n",
    "        metric = json.load(metric_file)\n",
    "        for metric_name in metric_names:\n",
    "            metric_samples[metric_name].append(metric[metric_name])\n",
    "    \n",
    "    for metric_name in metric_names:\n",
    "        metric_means[metric_name] = np.mean(metric_samples[metric_name])\n",
    "    for metric_name in metric_names:\n",
    "        metric_stds[metric_name] = np.std(metric_samples[metric_name])\n",
    "\n",
    "    metrics = metric_means\n",
    "\n",
    "    for classification in classifications:\n",
    "        exact_match[classification].append(metrics['eval_exact_match_for_{}'.format(classification)])\n",
    "    \n",
    "    for non_classification in non_classifications:\n",
    "        rougeL[non_classification].append(metrics['eval_rougeL_for_{}'.format(non_classification)])\n",
    "    exact_match['eval_exact_match'].append(metrics['eval_exact_match'])\n",
    "    rougeL['eval_rougeL'].append(metrics['eval_rougeL'])\n",
    "english_rougeL = pd.DataFrame(rougeL)\n",
    "english_rougeL.index = english_exp_names_1 + english_exp_names_3\n",
    "english_exact_match = pd.DataFrame(exact_match)\n",
    "english_exact_match.index = english_exp_names_1 + english_exp_names_3"
   ]
  },
  {
   "cell_type": "code",
   "execution_count": 9,
   "metadata": {},
   "outputs": [],
   "source": [
    "import json\n",
    "import collections\n",
    "import pandas as pd\n",
    "import numpy as np\n",
    "xlingual_exp_names_1 = ['xlingual', 'xlingual_repeat_first_sentences', 'xlingual_repeat_last_sentences', 'xlingual_stopword']\n",
    "xlingual_exp_names_3 = ['xlingual_delete_5', 'xlingual_delete_10', \\\n",
    "        'xlingual_insert_5', 'xlingual_insert_10', \\\n",
    "        'xlingual_replace_5', 'xlingual_replace_10', \\\n",
    "        'xlingual_repeat_sentences', 'xlingual_shuffle_sentences']\n",
    "exact_match = collections.defaultdict(list)\n",
    "rougeL = collections.defaultdict(list)\n",
    "classifications = ['answerability_classification', 'cause_effect_classification', 'textual_entailment']\n",
    "non_classifications = ['title_generation']\n",
    "for xlingual_exp_name in xlingual_exp_names_1:\n",
    "    metric_file = open('/home/gujiashe/Tk-Instruct/output_{}/all_results.json'.format(xlingual_exp_name), 'r')\n",
    "    metric = json.load(metric_file)\n",
    "\n",
    "\n",
    "    for classification in classifications:\n",
    "        exact_match[classification].append(metric['eval_exact_match_for_{}'.format(classification)])\n",
    "    exact_match['eval_exact_match'].append(metric['eval_exact_match'])\n",
    "    for non_classification in non_classifications:\n",
    "        rougeL[non_classification].append(metric['eval_rougeL_for_{}'.format(non_classification)])\n",
    "    rougeL['eval_rougeL'].append(metric['eval_rougeL'])\n",
    "\n",
    "metric_file = open('/home/gujiashe/Tk-Instruct/output_{}/all_results.json'.format(\"xlingual\"), 'r')\n",
    "metric = json.load(metric_file)\n",
    "metric_names = metric.keys()\n",
    "def create_dict(keys):\n",
    "    d = {}\n",
    "    for key in keys:\n",
    "        d[key] = []\n",
    "    return d    \n",
    "for xlingual_exp_name in xlingual_exp_names_3:\n",
    "    metric_samples = create_dict(metric_names)\n",
    "    metric_means = create_dict(metric_names)\n",
    "    metric_stds = create_dict(metric_names)\n",
    "    for index in [1, 2, 3]:\n",
    "        _xlingual_exp_name = xlingual_exp_name + \"_{}\".format(index)\n",
    "\n",
    "        metric_file = open('/home/gujiashe/Tk-Instruct/output_{}/all_results.json'.format(_xlingual_exp_name), 'r')\n",
    "        metric = json.load(metric_file)\n",
    "        for metric_name in metric_names:\n",
    "            metric_samples[metric_name].append(metric[metric_name])\n",
    "    for metric_name in metric_names:\n",
    "        metric_means[metric_name] = np.mean(metric_samples[metric_name])\n",
    "    for metric_name in metric_names:\n",
    "        metric_stds[metric_name] = np.std(metric_samples[metric_name])\n",
    "\n",
    "    metrics = metric_means\n",
    "\n",
    "    for classification in classifications:\n",
    "        exact_match[classification].append(metrics['eval_exact_match_for_{}'.format(classification)])\n",
    "    \n",
    "    for non_classification in non_classifications:\n",
    "        rougeL[non_classification].append(metrics['eval_rougeL_for_{}'.format(non_classification)])\n",
    "    exact_match['eval_exact_match'].append(metrics['eval_exact_match'])\n",
    "    rougeL['eval_rougeL'].append(metrics['eval_rougeL'])\n",
    "xlingual_rougeL = pd.DataFrame(rougeL)\n",
    "xlingual_rougeL.index = xlingual_exp_names_1 + xlingual_exp_names_3\n",
    "xlingual_exact_match = pd.DataFrame(exact_match)\n",
    "xlingual_exact_match.index = xlingual_exp_names_1 + xlingual_exp_names_3"
   ]
  },
  {
   "cell_type": "code",
   "execution_count": 56,
   "metadata": {},
   "outputs": [],
   "source": [
    "metrics = {'english_exact_match': english_exact_match, 'english_rougeL': english_rougeL, \\\n",
    "    'xlingual_exact_match': xlingual_exact_match, 'xlingual_rougeL': xlingual_rougeL}\n",
    "for metric_name, metric_var in metrics.items():\n",
    "    metric_var.to_csv(metric_name+'_means.csv')\n"
   ]
  },
  {
   "cell_type": "markdown",
   "metadata": {},
   "source": [
    "## test tk_instruct"
   ]
  },
  {
   "cell_type": "code",
   "execution_count": 4,
   "metadata": {},
   "outputs": [],
   "source": [
    "from transformers import AutoTokenizer, AutoModelForSeq2SeqLM\n"
   ]
  },
  {
   "cell_type": "code",
   "execution_count": 17,
   "metadata": {},
   "outputs": [],
   "source": [
    "tokenizer = AutoTokenizer.from_pretrained(\"allenai/tk-instruct-3b-def\")\n",
    "model = AutoModelForSeq2SeqLM.from_pretrained(\"allenai/tk-instruct-3b-def\")\n"
   ]
  },
  {
   "cell_type": "code",
   "execution_count": 18,
   "metadata": {},
   "outputs": [
    {
     "name": "stdout",
     "output_type": "stream",
     "text": [
      "    \n"
     ]
    }
   ],
   "source": [
    "input_ids = tokenizer.encode(\n",
    "        # \"Definition: return the currency of the country. Now complete the following example - Input: China. Output:\", \n",
    "        \"فتوسنتز فرایندی زیست‌شیمیایی است که در آن، انرژی نورانی خورشید توسط گیاهان و برخی از باکتری‌ها به انرژی شیمیایی ذخیره‌شده در مواد غذایی آن‌ها تبدیل می‌شود. کمابیش همهٔ جانداران روی زمین به آن وابسته‌اند. در عمل فتوسنتز، اندام‌هایی مانند برگ که دارای سبزینه هستند، کربن دی‌اکسید، آب و نور را جذب کرده و به کلروپلاست می‌رسانند. طی واکنش‌هایی که درون کلروپلاست انجام می‌گیرد، این مواد به اکسیژن و کربوهیدرات‌ها تبدیل می‌شوند. همه اکسیژن کنونی موجود بر روی زمین، فراوردهٔ فتوسنتز است. برخی از کربوهیدرات‌های مهم تولیدشده مانند گلوکز، می‌توانند به دیگر مواد آلی، لیپیدها، نشاسته، سلولز و پروتئین تبدیل شوند که برای تبدیل‌شدن به پروتئین، نیاز به نیتروژن دارند. ژان باپتیست ون هلمونت، یکی از نخستین آزمایش‌های مربوط به فتوسنتز را انجام داد. همه بخش‌های سبزرنگ گیاه، قادر به انجام عمل فتوسنتز هستند. مادهٔ سبز موجود در گیاهان که سبزینه یا کلروفیل نام دارد، آغازکنندهٔ واکنش‌های فتوسنتز است. فتوسنتز در اندام‌هایی که فاقد سبزینه هستند، انجام نمی‌گیرد.\",\n",
    "        return_tensors=\"pt\"\n",
    "    )\n",
    "output = model.generate(input_ids, max_length=10)\n",
    "output = tokenizer.decode(output[0], skip_special_tokens=True)\n",
    "print(output)"
   ]
  },
  {
   "cell_type": "markdown",
   "metadata": {},
   "source": [
    "## load ni_dataset_crud"
   ]
  },
  {
   "cell_type": "code",
   "execution_count": 6,
   "metadata": {},
   "outputs": [
    {
     "name": "stderr",
     "output_type": "stream",
     "text": [
      "Using custom data configuration default-e8e348fe903ab36e\n"
     ]
    },
    {
     "name": "stdout",
     "output_type": "stream",
     "text": [
      "Downloading and preparing dataset natural_instructions/default to ./cache/natural_instructions/default-e8e348fe903ab36e/2.0.0/9d79d929ec5b960bcc28ae845fc7ad6589788e47719f59a4dab084ea99335007...\n"
     ]
    },
    {
     "data": {
      "application/vnd.jupyter.widget-view+json": {
       "model_id": "9a2732c37391499b837faacc3924c8fd",
       "version_major": 2,
       "version_minor": 0
      },
      "text/plain": [
       "0 examples [00:00, ? examples/s]"
      ]
     },
     "metadata": {},
     "output_type": "display_data"
    },
    {
     "data": {
      "application/vnd.jupyter.widget-view+json": {
       "model_id": "46829b0d411441b19ac4f8ab5538ab90",
       "version_major": 2,
       "version_minor": 0
      },
      "text/plain": [
       "0 examples [00:00, ? examples/s]"
      ]
     },
     "metadata": {},
     "output_type": "display_data"
    },
    {
     "data": {
      "application/vnd.jupyter.widget-view+json": {
       "model_id": "b97eab92714540128e7986008b79b6d8",
       "version_major": 2,
       "version_minor": 0
      },
      "text/plain": [
       "0 examples [00:00, ? examples/s]"
      ]
     },
     "metadata": {},
     "output_type": "display_data"
    },
    {
     "name": "stdout",
     "output_type": "stream",
     "text": [
      "Dataset natural_instructions downloaded and prepared to ./cache/natural_instructions/default-e8e348fe903ab36e/2.0.0/9d79d929ec5b960bcc28ae845fc7ad6589788e47719f59a4dab084ea99335007. Subsequent calls will reuse this data.\n"
     ]
    },
    {
     "data": {
      "application/vnd.jupyter.widget-view+json": {
       "model_id": "6fab21161ac14003ac142391448d9c29",
       "version_major": 2,
       "version_minor": 0
      },
      "text/plain": [
       "  0%|          | 0/3 [00:00<?, ?it/s]"
      ]
     },
     "metadata": {},
     "output_type": "display_data"
    }
   ],
   "source": [
    "from datasets import load_dataset, load_metric\n",
    "from transformers import set_seed\n",
    "set_seed(0)\n",
    "raw_datasets = load_dataset(\n",
    "    \"src/ni_dataset.py\", \n",
    "    data_dir='data/splits/default', \n",
    "    task_dir='data/tasks', \n",
    "    cache_dir='./cache/',\n",
    "    max_num_instances_per_task=100,\n",
    "    max_num_instances_per_eval_task=100,\n",
    "    download_mode = 'reuse_cache_if_exists'\n",
    ")\n",
    "print(raw_datasets['test'][101]['Definition'])"
   ]
  },
  {
   "cell_type": "code",
   "execution_count": 7,
   "metadata": {},
   "outputs": [
    {
     "name": "stdout",
     "output_type": "stream",
     "text": [
      "[\"Read the passage and find the corresponding pronoun for the given name. The pronoun should match the given blank(_). The word between ** ** is the target name. The pronoun should be one of 'her', 'him', 'he', 'she' and 'his' with proper casing based on the position in the passage.\"]\n"
     ]
    }
   ],
   "source": [
    "print(raw_datasets['test'][101]['Definition'])"
   ]
  },
  {
   "cell_type": "code",
   "execution_count": 14,
   "metadata": {},
   "outputs": [
    {
     "name": "stderr",
     "output_type": "stream",
     "text": [
      "Using custom data configuration default-e8e348fe903ab36e\n"
     ]
    },
    {
     "name": "stdout",
     "output_type": "stream",
     "text": [
      "Downloading and preparing dataset natural_instructions/default to ./cache/natural_instructions/default-e8e348fe903ab36e/2.0.0/1780ecade7b2862d4b7420a0323bf2e9324f66876bb596bcfa72c3542c950ec4...\n"
     ]
    },
    {
     "data": {
      "application/vnd.jupyter.widget-view+json": {
       "model_id": "73bfaeb2bca34191893705520e0c7130",
       "version_major": 2,
       "version_minor": 0
      },
      "text/plain": [
       "0 examples [00:00, ? examples/s]"
      ]
     },
     "metadata": {},
     "output_type": "display_data"
    },
    {
     "data": {
      "application/vnd.jupyter.widget-view+json": {
       "model_id": "eb72818774264a999620e4b12f0b9cfc",
       "version_major": 2,
       "version_minor": 0
      },
      "text/plain": [
       "0 examples [00:00, ? examples/s]"
      ]
     },
     "metadata": {},
     "output_type": "display_data"
    },
    {
     "name": "stdout",
     "output_type": "stream",
     "text": [
      "Definition_native:  Generate an appropriate title for the given text. The generated title must be short and include the main topic of the text. The preferred titles are under fifteen words.\n",
      "Definition_change:  Generate an appropriate title for the given text. The generated title must be short and include the main topic of the text. The preferred titles are under fifteen words.\n",
      "Definition_native:  Read the passage and find the corresponding pronoun for the given name. The pronoun should match the given blank(_). The word between ** ** is the target name. The pronoun should be one of 'her', 'him', 'he', 'she' and 'his' with proper casing based on the position in the passage.\n",
      "Definition_change:  Read the passage and find the corresponding pronoun for the given name. The pronoun should match the given blank(_). The word between ** ** is the target name. The pronoun should be one of 'her', 'him', 'he', 'she' and 'his' with proper casing based on the position in the passage.\n",
      "Definition_native:  Determine whether the two given sentences clearly agree with each other (entailment), disagree with each other (contradiction), or if this cannot be determined (neutral). Answer must be the letters E, C, and N, respectively.\n",
      "Definition_change:  Determine whether the two given sentences clearly agree with each other (entailment), disagree with each other (contradiction), or if this cannot be determined (neutral). Answer must be the letters E, C, and N, respectively.\n",
      "Definition_native:  You are given two sentences. You have to find if there is entailment or agreement of the Hypothesis by the Premise. From the given pair of sentences, you should identify if there is enough information in the Premise to support the claim made in the Hypothesis. The Premise may not exactly be the same as Hypothesis. Your task is to return 'entails' if the premise supports hypothesis else return 'neutral'.\n",
      "Definition_change:  You are given two sentences. You have to find if there is entailment or agreement of the Hypothesis by the Premise. From the given pair of sentences, you should identify if there is enough information in the Premise to support the claim made in the Hypothesis. The Premise may not exactly be the same as Hypothesis. Your task is to return 'entails' if the premise supports hypothesis else return 'neutral'.\n",
      "Definition_native:  In this task, you're given a statement, and three sentences as choices. Your job is to determine which sentence clearly disagrees with the statement. Indicate your answer as '1', '2', or '3' corresponding to the choice number of the selected sentence.\n",
      "Definition_change:  In this task, you're given a statement, and three sentences as choices. Your job is to determine which sentence clearly disagrees with the statement. Indicate your answer as '1', '2', or '3' corresponding to the choice number of the selected sentence.\n",
      "Definition_native:  In this task, you're given an ambiguous question (which can be answered in more than one way). Your task is to write a question that clarifies the given question in such a way that the generated question has one unique answer.\n",
      "Definition_change:  In this task, you're given an ambiguous question (which can be answered in more than one way). Your task is to write a question that clarifies the given question in such a way that the generated question has one unique answer.\n",
      "Definition_native:  In this task, you are given a premise sentence, two possible options and a question word. If the question was cause you should select the option that is a possible cause of the premise sentence, and if the question word was effect you should find the option which is a possible effect of the premise sentence. Answer with \"A\" or \"B\".\n",
      "Definition_change:  In this task, you are given a premise sentence, two possible options and a question word. If the question was cause you should select the option that is a possible cause of the premise sentence, and if the question word was effect you should find the option which is a possible effect of the premise sentence. Answer with \"A\" or \"B\".\n",
      "Definition_native:  In this task, you're given two sentences. Indicate if the first sentence clearly entails the second sentence (i.e., one can conclude the 2nd sentence by reading the 1st one). Indicate your answer with '1' if the first sentence entails the second sentence, otherwise answer with '0'.\n",
      "Definition_change:  In this task, you're given two sentences. Indicate if the first sentence clearly entails the second sentence (i.e., one can conclude the 2nd sentence by reading the 1st one). Indicate your answer with '1' if the first sentence entails the second sentence, otherwise answer with '0'.\n",
      "Definition_native:  In this task, you are given a text of the article. Your task is to generate a headline (title) for this article.\n",
      "Definition_change:  In this task, you are given a text of the article. Your task is to generate a headline (title) for this article.\n",
      "Definition_native:  In this task, you will be presented with a premise and a hypothesis sentence. Determine whether the hypothesis sentence entails (implies), contradicts (opposes), or is neutral with respect to the given premise sentence. Please answer with \"Contradiction\", \"Neutral\", or \"Entailment\".\n",
      "Definition_change:  In this task, you will be presented with a premise and a hypothesis sentence. Determine whether the hypothesis sentence entails (implies), contradicts (opposes), or is neutral with respect to the given premise sentence. Please answer with \"Contradiction\", \"Neutral\", or \"Entailment\".\n",
      "Definition_native:  In this task, you will be given a sentence, and you need to identify the set of coreference words. Coreferences are generally a set of words in the text that refer to the same person or thing. Your output set of coreference words must be strictly present in the given input sentence. Do not use any outside knowledge to create the set of coreference words. If there is a 'the' article before the person or thing you should include 'the' as well. Please separate the coreference words by commas in the output.\n",
      "Definition_change:  In this task, you will be given a sentence, and you need to identify the set of coreference words. Coreferences are generally a set of words in the text that refer to the same person or thing. Your output set of coreference words must be strictly present in the given input sentence. Do not use any outside knowledge to create the set of coreference words. If there is a 'the' article before the person or thing you should include 'the' as well. Please separate the coreference words by commas in the output.\n",
      "Definition_native:  In this task, you're given a paragraph from the research paper and your task is to generate a suitable title for the research paper based on the given paper. Under 100 words is a good title length.\n",
      "Definition_change:  In this task, you're given a paragraph from the research paper and your task is to generate a suitable title for the research paper based on the given paper. Under 100 words is a good title length.\n",
      "Definition_native:  You are given a sentence from a conversation between a human and a virtual assistant. Your task is to classify the sentence into one of the following five action categories - INFORM, INFORM_INTENT, OFFER, REQUEST, REQUEST_ALTS. If the sentence is about informing something, generate 'INFORM'. If it is about requesting something, generate 'REQUEST'. If the sentence mentions requesting an alternative option than the one provided, generate 'REQUEST_ALTS'. Similarly, generate 'OFFER' if the sentence is offering some information. If the sentence is about showing intent to do something, generate 'INFORM_INTENT'.\n",
      "Definition_change:  You are given a sentence from a conversation between a human and a virtual assistant. Your task is to classify the sentence into one of the following five action categories - INFORM, INFORM_INTENT, OFFER, REQUEST, REQUEST_ALTS. If the sentence is about informing something, generate 'INFORM'. If it is about requesting something, generate 'REQUEST'. If the sentence mentions requesting an alternative option than the one provided, generate 'REQUEST_ALTS'. Similarly, generate 'OFFER' if the sentence is offering some information. If the sentence is about showing intent to do something, generate 'INFORM_INTENT'.\n",
      "Definition_native:  In this task you will be given a claim and a perspective. You should determine whether that perspective supports or undermines the claim. If the perspective could possibly convince someone with different view, it is supporting, otherwise it is undermining.\n",
      "Definition_change:  In this task you will be given a claim and a perspective. You should determine whether that perspective supports or undermines the claim. If the perspective could possibly convince someone with different view, it is supporting, otherwise it is undermining.\n",
      "Definition_native:  Given a paragraph about cooking, and a set of conversational questions and answers about the paragraph, say whether the passage contains sufficient information to answer the follow-up question. Say Yes if it is answerable; otherwise, say No. The paragraph has the prefix 'CONTEXT:'. Each conversation question has a prefix `Q:` followed by the answer prefix `A:`, and the follow-up question has a prefix `FOLLOWUP_Q:`.\n",
      "Definition_change:  Given a paragraph about cooking, and a set of conversational questions and answers about the paragraph, say whether the passage contains sufficient information to answer the follow-up question. Say Yes if it is answerable; otherwise, say No. The paragraph has the prefix 'CONTEXT:'. Each conversation question has a prefix `Q:` followed by the answer prefix `A:`, and the follow-up question has a prefix `FOLLOWUP_Q:`.\n",
      "Definition_native:  Generate a topic word for the given sentence. A topic word is usually the name of a person, place, animal, concept or object the sentence is focusing on.\n",
      "Definition_change:  Generate a topic word for the given sentence. A topic word is usually the name of a person, place, animal, concept or object the sentence is focusing on.\n",
      "Definition_native:  Given an abstract of a paper, generate a title for this paper such that conveys the key focus of the paper.\n",
      "Definition_change:  Given an abstract of a paper, generate a title for this paper such that conveys the key focus of the paper.\n",
      "Definition_native:  You will be given one or more triples. The second part of each triple shows the relation between the first and the third element. Your task is to write a simple and short piece of text (sentence(s)) that describes the triples in natural language.\n",
      "Definition_change:  You will be given one or more triples. The second part of each triple shows the relation between the first and the third element. Your task is to write a simple and short piece of text (sentence(s)) that describes the triples in natural language.\n",
      "Definition_native:  Given a paragraph from a Wikipedia article about some topic, and a question related to the topic, determine whether the question is answerable from the paragraph. If the question is answerable, answer \"True\", otherwise, answer \"False\".\n",
      "Definition_change:  Given a paragraph from a Wikipedia article about some topic, and a question related to the topic, determine whether the question is answerable from the paragraph. If the question is answerable, answer \"True\", otherwise, answer \"False\".\n",
      "Definition_native:  You will see a sentence and a given pronoun. Answer with the word in the sentence to which the pronoun is referring.\n",
      "Definition_change:  You will see a sentence and a given pronoun. Answer with the word in the sentence to which the pronoun is referring.\n",
      "Definition_native:  In this task, you are given a context tweet, a question and corresponding answer of given question. Your task is to classify given passage into two categories: (1) \"yes\" if the given context is useful in answering the question, and (2) \"no\" if the given context is not useful.\n",
      "Definition_change:  In this task, you are given a context tweet, a question and corresponding answer of given question. Your task is to classify given passage into two categories: (1) \"yes\" if the given context is useful in answering the question, and (2) \"no\" if the given context is not useful.\n",
      "Definition_native:  Given an abstract, generate a keyword (a noun phrase) that best describes the focus or contribution of the paper. Such keywords can be directly from the given abstract or outside it.\n",
      "Definition_change:  Given an abstract, generate a keyword (a noun phrase) that best describes the focus or contribution of the paper. Such keywords can be directly from the given abstract or outside it.\n",
      "Definition_native:  Two analogies that relate items to the associated containers is given in the form \"A : B. C : ?\". \"A : B\" relates item A to its associated container B. Your task is to replace the question mark (?) with the appropriate container for the given item C, following the \"A : B\" relation.\n",
      "Definition_change:  Two analogies that relate items to the associated containers is given in the form \"A : B. C : ?\". \"A : B\" relates item A to its associated container B. Your task is to replace the question mark (?) with the appropriate container for the given item C, following the \"A : B\" relation.\n",
      "Definition_native:  Given a real-life anecdote of a complex ethical situation, generate a suitable title that describes the main event/root cause of the situation. Imagine that the given text is a social media post, and you have to write the title of the post, so the users can decide to read the main text or not.\n",
      "Definition_change:  Given a real-life anecdote of a complex ethical situation, generate a suitable title that describes the main event/root cause of the situation. Imagine that the given text is a social media post, and you have to write the title of the post, so the users can decide to read the main text or not.\n",
      "Definition_native:  Read the passage and find if the passage agrees, disagrees, or has a neutral stance on whether Global warming is caused by human activities. Answer only with keyword (a) agrees - if passage agrees with the target (b) disagrees - if passage disagrees with the target (c) neutral - if the given passage neither agrees nor disagrees with the target. You don't need to use external knowledge in this task, and you have to answer based on the given passage.\n",
      "Definition_change:  Read the passage and find if the passage agrees, disagrees, or has a neutral stance on whether Global warming is caused by human activities. Answer only with keyword (a) agrees - if passage agrees with the target (b) disagrees - if passage disagrees with the target (c) neutral - if the given passage neither agrees nor disagrees with the target. You don't need to use external knowledge in this task, and you have to answer based on the given passage.\n",
      "Definition_native:  Generate an overlapping word between the given two sentences. When you find the overlapping words, they don't have to match exactly, e.g., \"survival\" and \"survive\" are valid overlapping words. Little words like \"the\" or \"of\" don't count! You must generate significant words which are not the stop words.\n",
      "Definition_change:  Generate an overlapping word between the given two sentences. When you find the overlapping words, they don't have to match exactly, e.g., \"survival\" and \"survive\" are valid overlapping words. Little words like \"the\" or \"of\" don't count! You must generate significant words which are not the stop words.\n",
      "Definition_native:  Two analogies that relate places/locations to the associated travel mode is given in the form \"A : B. C : ?\". \"A : B\" relates place A to travel mode B. Your task is to replace the question mark (?) with the appropriate travel mode for the given place C, following the \"A : B\" relation.\n",
      "Definition_change:  Two analogies that relate places/locations to the associated travel mode is given in the form \"A : B. C : ?\". \"A : B\" relates place A to travel mode B. Your task is to replace the question mark (?) with the appropriate travel mode for the given place C, following the \"A : B\" relation.\n",
      "Definition_native:  In this task, you're given a pair of sentences, sentence 1 and sentence 2. Your job is to choose whether the two sentences clearly agree (entailment)/disagree (contradiction) with each other, or if this cannot be determined (neutral). Your answer must be in the form of the numbers 0 (entailment), 1 (neutral), or 2(contradiction).\n",
      "Definition_change:  In this task, you're given a pair of sentences, sentence 1 and sentence 2. Your job is to choose whether the two sentences clearly agree (entailment)/disagree (contradiction) with each other, or if this cannot be determined (neutral). Your answer must be in the form of the numbers 0 (entailment), 1 (neutral), or 2(contradiction).\n",
      "Definition_native:  Given a paragraph about movies and a set of conversational questions and answers about the paragraph, say whether the passage contains sufficient information to answer the follow-up question. Say Yes if it is answerable; otherwise, say No. The paragraph has the prefix 'CONTEXT:'. Each conversation question has a prefix `Q:` followed by the answer prefix `A:`, and the follow-up question has a prefix `FOLLOWUP_Q:`.\n",
      "Definition_change:  Given a paragraph about movies and a set of conversational questions and answers about the paragraph, say whether the passage contains sufficient information to answer the follow-up question. Say Yes if it is answerable; otherwise, say No. The paragraph has the prefix 'CONTEXT:'. Each conversation question has a prefix `Q:` followed by the answer prefix `A:`, and the follow-up question has a prefix `FOLLOWUP_Q:`.\n",
      "Definition_native:  In this task, you're given a question, along with a context passage. The passage will not have a direct answer to the question, but can include some information and a clue for the answer. Assuming you can only obtain information about one entity in the passage, your job is to determine whether information from the passage can be used to answer the question. Indicate your choice as `a` for Yes or `b` for No.\n",
      "Definition_change:  In this task, you're given a question, along with a context passage. The passage will not have a direct answer to the question, but can include some information and a clue for the answer. Assuming you can only obtain information about one entity in the passage, your job is to determine whether information from the passage can be used to answer the question. Indicate your choice as `a` for Yes or `b` for No.\n",
      "Definition_native:  In this task, you are given a premise, a hypothesis, and an update. The premise sentence describes a real-world situation and is always assumed to be true. The hypothesis sentence describes an assumption or inference that you might make about that situation having read the premise. The update provides additional information about the situation that might weaken or strengthen the hypothesis. A weakener is a statement that weakens the hypothesis, that is, it makes you much less likely to believe the hypothesis is true. A strengthener is a statement that strengthens the hypothesis, that is, it makes you much more likely to believe the hypothesis is true. Your task is to answer with 'strengthener' or 'weakener' if the update strengthens or weakens the hypothesis, respectively.\n",
      "Definition_change:  In this task, you are given a premise, a hypothesis, and an update. The premise sentence describes a real-world situation and is always assumed to be true. The hypothesis sentence describes an assumption or inference that you might make about that situation having read the premise. The update provides additional information about the situation that might weaken or strengthen the hypothesis. A weakener is a statement that weakens the hypothesis, that is, it makes you much less likely to believe the hypothesis is true. A strengthener is a statement that strengthens the hypothesis, that is, it makes you much more likely to believe the hypothesis is true. Your task is to answer with 'strengthener' or 'weakener' if the update strengthens or weakens the hypothesis, respectively.\n",
      "Definition_native:  In this task, you will be presented with a premise and a hypothesis sentence. Determine whether the hypothesis sentence entails (implies), contradicts (opposes), or is neutral with respect to the given premise. Please answer with \"Contradiction\", \"Neutral\", or \"Entailment\".\n",
      "Definition_change:  In this task, you will be presented with a premise and a hypothesis sentence. Determine whether the hypothesis sentence entails (implies), contradicts (opposes), or is neutral with respect to the given premise. Please answer with \"Contradiction\", \"Neutral\", or \"Entailment\".\n",
      "Definition_native:  Two analogies that relate actions with their consequences are given in the form \"A : B. C : ?\". The phrase \"A : B\" relates action A to consequence B. Your task is to replace the question mark (?) with the appropriate consquence of the given action C, following the \"A : B\" relation. Your answer should be a single verb, without further explanation.\n",
      "Definition_change:  Two analogies that relate actions with their consequences are given in the form \"A : B. C : ?\". The phrase \"A : B\" relates action A to consequence B. Your task is to replace the question mark (?) with the appropriate consquence of the given action C, following the \"A : B\" relation. Your answer should be a single verb, without further explanation.\n",
      "Definition_native:  In this task you are given a story and a question regarding that story. You must judge whether the question is answerable based on the info given to you. Label the instances as \"Answerable\" or \"Not Answerable\" based on your judgment. the story and the question are separated by a new line character.\n",
      "Definition_change:  In this task you are given a story and a question regarding that story. You must judge whether the question is answerable based on the info given to you. Label the instances as \"Answerable\" or \"Not Answerable\" based on your judgment. the story and the question are separated by a new line character.\n",
      "Definition_native:  In this task, you will use your knowledge about language (and common sense) to determine what element the marked number refers to. The numbers are marked with two underlines around them, like: _ number _. There are several possible answers, you'll need to choose the proper one. Carefully read the given text, pay special attention to the marked number, think about what (unwritten) information the marked number holds inside, choose the most adequate word(s) from the optional answers. If none of them seems right to you, there's also an option for other. If your answer is \"REFERENCE\", also write the reference entity, otherwise write the implicit option name. Options to choose from are:\n",
      "REFERENCE: Some object which is being mentioned in the text before or after the target number. The reference answer has a higher priority than any other. If both Reference and another answer are possible, prioritize the Reference.\n",
      "YEAR: Describing a calendric year\n",
      "AGE: Describing someone's age\n",
      "CURRENCY: Reference to some monetary value e.g dollar, euro etc.\n",
      "PEOPLE: Describing a single/plural persons\n",
      "TIME: Describing a time of the day. Usually you can add the word o'clock after those numbers.\n",
      "OTHER: Some other option, which isn't listed here.\n",
      "Definition_change:  In this task, you will use your knowledge about language (and common sense) to determine what element the marked number refers to. The numbers are marked with two underlines around them, like: _ number _. There are several possible answers, you'll need to choose the proper one. Carefully read the given text, pay special attention to the marked number, think about what (unwritten) information the marked number holds inside, choose the most adequate word(s) from the optional answers. If none of them seems right to you, there's also an option for other. If your answer is \"REFERENCE\", also write the reference entity, otherwise write the implicit option name. Options to choose from are:\n",
      "REFERENCE: Some object which is being mentioned in the text before or after the target number. The reference answer has a higher priority than any other. If both Reference and another answer are possible, prioritize the Reference.\n",
      "YEAR: Describing a calendric year\n",
      "AGE: Describing someone's age\n",
      "CURRENCY: Reference to some monetary value e.g dollar, euro etc.\n",
      "PEOPLE: Describing a single/plural persons\n",
      "TIME: Describing a time of the day. Usually you can add the word o'clock after those numbers.\n",
      "OTHER: Some other option, which isn't listed here.\n",
      "Definition_native:  You are given data in tabular format and you need to generate a passage with content in plain text format based on the information present in the table.\n",
      "Definition_change:  You are given data in tabular format and you need to generate a passage with content in plain text format based on the information present in the table.\n",
      "Definition_native:  You're given a fill-in-the-blank question where the answer is PersonX. You need to minimally change the given question so that the answer flips to PersonY. This task typically involves replacing one word i.e., the 'trigger word' with its antonym (e.g., changing from \"sympathetic\" to \"stern\"). You should not change any content in the given question beyond a word or two i.e. the trigger word/phrase. PersonX and PersonY should not be equally likely to fill the blank. For your question, PersonY should be a well-agreed answer to fill in the blank. Your generations should NOT contain potentially explicit, offensive, or adult content. Do not use the names of real people or generic names (e.g., Donald Trump, John Doe, etc.) in your question. Avoid repeating the same style or phrase in generating your modified question e.g. this task can be always solved using a simple negation i.e. by adding not, never, etc. Instead, try to increase the word diversity. Your question must contain at least 15 and at most 30 words. Your question must have at least 70% overlapping words with the given question. You must utilize the given context word while writing the question. Your question must contain only one blank. Make sure that PersonX and PersonY have the same gender. In your question, PersonX and PersonY should be used only ONCE and PersonX should appear earlier than PersonY. Although there are many correct answers, you only need to write one of them.\n",
      "Definition_change:  You're given a fill-in-the-blank question where the answer is PersonX. You need to minimally change the given question so that the answer flips to PersonY. This task typically involves replacing one word i.e., the 'trigger word' with its antonym (e.g., changing from \"sympathetic\" to \"stern\"). You should not change any content in the given question beyond a word or two i.e. the trigger word/phrase. PersonX and PersonY should not be equally likely to fill the blank. For your question, PersonY should be a well-agreed answer to fill in the blank. Your generations should NOT contain potentially explicit, offensive, or adult content. Do not use the names of real people or generic names (e.g., Donald Trump, John Doe, etc.) in your question. Avoid repeating the same style or phrase in generating your modified question e.g. this task can be always solved using a simple negation i.e. by adding not, never, etc. Instead, try to increase the word diversity. Your question must contain at least 15 and at most 30 words. Your question must have at least 70% overlapping words with the given question. You must utilize the given context word while writing the question. Your question must contain only one blank. Make sure that PersonX and PersonY have the same gender. In your question, PersonX and PersonY should be used only ONCE and PersonX should appear earlier than PersonY. Although there are many correct answers, you only need to write one of them.\n",
      "Definition_native:  In this task, you have to generate the title of the recipe given its required ingredients and directions.\n",
      "Definition_change:  In this task, you have to generate the title of the recipe given its required ingredients and directions.\n",
      "Definition_native:  In this task, you will be given two sentences separated by \", so\". You should decide whether the first sentence can be the cause of the second sentence. If you can see a possible causation, answer with \"plausible\", otherwise answer with \"not plausible\".\n",
      "Definition_change:  In this task, you will be given two sentences separated by \", so\". You should decide whether the first sentence can be the cause of the second sentence. If you can see a possible causation, answer with \"plausible\", otherwise answer with \"not plausible\".\n",
      "Definition_native:  Read the passage and find the corresponding person for the given pronoun. The word between ** ** is the target pronoun.\n",
      "Definition_change:  Read the passage and find the corresponding person for the given pronoun. The word between ** ** is the target pronoun.\n",
      "Definition_native:  In this task, you are given an abstract of article. Your task is to generate title for this article. Preferred titles are under thirty words.\n",
      "Definition_change:  In this task, you are given an abstract of article. Your task is to generate title for this article. Preferred titles are under thirty words.\n",
      "Definition_native:  Given a text passage, you need to generate a suitable title as the output. The output title should be one of the words/phrases used in the passage and must be no longer than five words. \n",
      "Definition_change:  Given a text passage, you need to generate a suitable title as the output. The output title should be one of the words/phrases used in the passage and must be no longer than five words. \n",
      "Definition_native:  Given a disfluent sentence, modify the sentence to it to its equivalent fluent form, preserving the meaning of the sentence.\n",
      "Definition_change:  Given a disfluent sentence, modify the sentence to it to its equivalent fluent form, preserving the meaning of the sentence.\n",
      "Definition_native:  In this task, you are given triplets. Each triplet is in the form of [subject, predicate, object]. Your task is to generate proper sentence that utilizes these triples. The objective is to construct a sentence that (a) captures the facts specified in the triples and (b) is a well-formed sentence easily understandable by a human. All triple values need not be used directly in the sentence as long as the facts are adequately captured.\n",
      "Definition_change:  In this task, you are given triplets. Each triplet is in the form of [subject, predicate, object]. Your task is to generate proper sentence that utilizes these triples. The objective is to construct a sentence that (a) captures the facts specified in the triples and (b) is a well-formed sentence easily understandable by a human. All triple values need not be used directly in the sentence as long as the facts are adequately captured.\n",
      "Definition_native:  You need to answer a given question containing a blank (_). Your answer must be one of the two objects mentioned in the question, for example \"trophy\" and \"suitcase\". Your answer must not contain a word that is not present in the question. Please don't use articles (e.g., the, a) before the answer.\n",
      "Definition_change:  You need to answer a given question containing a blank (_). Your answer must be one of the two objects mentioned in the question, for example \"trophy\" and \"suitcase\". Your answer must not contain a word that is not present in the question. Please don't use articles (e.g., the, a) before the answer.\n",
      "Definition_native:  In this task you are given a list of triplets of the form [subject, predicate, object] and the output should be a question based on the triplets but with the subject and/or object replaced with blanks (represented using two or more consecutive underscores). Triplet values encompassed in [*] are special tokens that can be replaced with synonyms. The objective is to construct a question in a manner that (a) captures the facts specified in at least one of the triplets, and (b) ideally contains a limited number of blanks such that it is a well-formed question that is easy to answer. A blank can represent a single word or a phrase.\n",
      "Definition_change:  In this task you are given a list of triplets of the form [subject, predicate, object] and the output should be a question based on the triplets but with the subject and/or object replaced with blanks (represented using two or more consecutive underscores). Triplet values encompassed in [*] are special tokens that can be replaced with synonyms. The objective is to construct a question in a manner that (a) captures the facts specified in at least one of the triplets, and (b) ideally contains a limited number of blanks such that it is a well-formed question that is easy to answer. A blank can represent a single word or a phrase.\n",
      "Definition_native:  Compose a new way to ask the same question. The new question must be asking the exact same thing as the original question does. Without any other information, you should be able to tell that the original question and the new question are the same. Preserve bracketed phrases in your new question. You can change the rest of the question provided the above requirements are satisfied. The new question must have a natural, fluent formulation, as if it were composed by a native English speaker. You will be given three pieces of information to help you create better questions. Those are: \"Answer\": the answer to the question, e.g., \"Honolulu\". \"Answer Type\": the type of the answer, e.g., \"Location\". \"Auxiliary Information\" is a detailed description of some concepts mentioned in the question, if any.\n",
      "Definition_change:  Compose a new way to ask the same question. The new question must be asking the exact same thing as the original question does. Without any other information, you should be able to tell that the original question and the new question are the same. Preserve bracketed phrases in your new question. You can change the rest of the question provided the above requirements are satisfied. The new question must have a natural, fluent formulation, as if it were composed by a native English speaker. You will be given three pieces of information to help you create better questions. Those are: \"Answer\": the answer to the question, e.g., \"Honolulu\". \"Answer Type\": the type of the answer, e.g., \"Location\". \"Auxiliary Information\" is a detailed description of some concepts mentioned in the question, if any.\n",
      "Definition_native:  In this task, you're given a statement and three sentences as choices. Your job is to determine the neutral choice based on your inference from the statement and your commonsense knowledge. The neutral choice is a sentence that neither agrees nor disagrees with the statement. Indicate your answer as '1', '2', or '3', corresponding to the choice number of the selected sentence. If sentence X agrees with sentence Y, one's correctness follows from the other one. If sentence X disagrees with sentence Y, they can not be correct at the same time.\n",
      "Definition_change:  In this task, you're given a statement and three sentences as choices. Your job is to determine the neutral choice based on your inference from the statement and your commonsense knowledge. The neutral choice is a sentence that neither agrees nor disagrees with the statement. Indicate your answer as '1', '2', or '3', corresponding to the choice number of the selected sentence. If sentence X agrees with sentence Y, one's correctness follows from the other one. If sentence X disagrees with sentence Y, they can not be correct at the same time.\n",
      "Definition_native:  In this task you will be given a question and a passage. You need to determine if the answer to the question is contained in the passage. If the answer can be found in the passage you should output 'True'. If the answer cannot be found in the passage you should output 'False'.\n",
      "Definition_change:  In this task you will be given a question and a passage. You need to determine if the answer to the question is contained in the passage. If the answer can be found in the passage you should output 'True'. If the answer cannot be found in the passage you should output 'False'.\n",
      "Definition_native:  Read the passage and find the corresponding pronoun for the given name. The word between ** ** is the target name. The pronoun should be one of 'her', 'him', 'he', 'she' and 'his' with proper casing based on the position in the passage.\n",
      "Definition_change:  Read the passage and find the corresponding pronoun for the given name. The word between ** ** is the target name. The pronoun should be one of 'her', 'him', 'he', 'she' and 'his' with proper casing based on the position in the passage.\n",
      "Definition_native:  In this task your given two statements. You must judge whether the second sentence is the cause or effect of the first one. Label the instances as \"cause\" or \"effect\" based on your judgment. The sentences are separated by a newline character.\n",
      "Definition_change:  In this task your given two statements. You must judge whether the second sentence is the cause or effect of the first one. Label the instances as \"cause\" or \"effect\" based on your judgment. The sentences are separated by a newline character.\n",
      "Definition_native:  Given a text passage, come up with an appropriate title for it. The title should accurately represent what the main focus of the passage is. The title of a passage may be present in the first few sentences of the passage and/or be referred to multiple times in the passage. The title should be 1-5 words long.\n",
      "Definition_change:  Given a text passage, come up with an appropriate title for it. The title should accurately represent what the main focus of the passage is. The title of a passage may be present in the first few sentences of the passage and/or be referred to multiple times in the passage. The title should be 1-5 words long.\n",
      "Definition_native:  Two analogies that relate items to whether they are trash or treasure is given in the form \"A : B. C : ?\". Items marked as \"trash\" are considered to not have value and can be disposed, whereas those marked as \"treasure\" are considered valuable items that must be retained. \"A : \"B relates item A to whether it is trash or treasure, as specified by B. Your task is to replace the question mark (?) with either `trash` or `treasure` for the given item C, following the \"A : B\" relation.\n",
      "Definition_change:  Two analogies that relate items to whether they are trash or treasure is given in the form \"A : B. C : ?\". Items marked as \"trash\" are considered to not have value and can be disposed, whereas those marked as \"treasure\" are considered valuable items that must be retained. \"A : \"B relates item A to whether it is trash or treasure, as specified by B. Your task is to replace the question mark (?) with either `trash` or `treasure` for the given item C, following the \"A : B\" relation.\n",
      "Definition_native:  In this task, you will be presented with a premise and a hypothesis sentence. Determine whether the hypothesis sentence entails (implies), contradicts (opposes), or is neutral with respect to the given premise sentence. Please answer with \"Contradiction\", \"Neutral\", or \"Entailment\".\n",
      "Definition_change:  In this task, you will be presented with a premise and a hypothesis sentence. Determine whether the hypothesis sentence entails (implies), contradicts (opposes), or is neutral with respect to the given premise sentence. Please answer with \"Contradiction\", \"Neutral\", or \"Entailment\".\n",
      "Definition_native:  You have to predict the type of conversation sentence given as input. Your predictions can be one among: 'information' if the input statement states a piece of information, 'question' if the input statement asks for some information, 'directive' if the input sentence involves the management or guidance of operations, and 'commissive' when it constitutes a statement that commits the speaker to some future action.\n",
      "Definition_change:  You have to predict the type of conversation sentence given as input. Your predictions can be one among: 'information' if the input statement states a piece of information, 'question' if the input statement asks for some information, 'directive' if the input sentence involves the management or guidance of operations, and 'commissive' when it constitutes a statement that commits the speaker to some future action.\n",
      "Definition_native:  In this task, you are given a premise and hypothesis. The task is to classify them into three categories: 'positive' if the hypothesis supports the premise, 'negated' if it opposes the premise, and 'neutral' if it neither supports nor opposes it.\n",
      "Definition_change:  In this task, you are given a premise and hypothesis. The task is to classify them into three categories: 'positive' if the hypothesis supports the premise, 'negated' if it opposes the premise, and 'neutral' if it neither supports nor opposes it.\n",
      "Definition_native:  In this task, you are given four sentences: a bot task sentence, a bot role sentence, a user task sentence and a user role sentence. Your job is to classify given sentences into one of the 47 different domains. The domains are: 'UPDATE_CALENDAR', 'PRESENT_IDEAS', 'MOVIE_LISTINGS', 'AUTO_SORT', 'GAME_RULES', 'CONTACT_MANAGER', 'BANK_BOT', 'MUSIC_SUGGESTER', 'CHECK_STATUS', 'PET_ADVICE', 'HOW_TO_BASIC', 'NAME_SUGGESTER', 'QUOTE_OF_THE_DAY_BOT', 'GUINESS_CHECK', 'INSURANCE', 'RESTAURANT_PICKER', 'MAKE_RESTAURANT_RESERVATIONS', 'WEDDING_PLANNER', 'SKI_BOT', 'HOME_BOT', 'PLAY_TIMES', 'BUS_SCHEDULE_BOT', 'WHAT_IS_IT', 'PHONE_PLAN_BOT', 'DECIDER_BOT', 'PHONE_SETTINGS', 'TIME_ZONE', 'LIBRARY_REQUEST', 'UPDATE_CONTACT', 'CATALOGUE_BOT', 'PROMPT_GENERATOR', 'SCAM_LOOKUP', 'SPORTS_INFO', 'POLICY_BOT', 'CITY_INFO', 'APARTMENT_FINDER', 'EVENT_RESERVE', 'SHOPPING', 'EDIT_PLAYLIST', 'LOOK_UP_INFO', 'ORDER_PIZZA', 'WEATHER_CHECK', 'APPOINTMENT_REMINDER', 'GEOGRAPHY', 'STORE_DETAILS', 'AGREEMENT_BOT', 'ALARM_SET'.\n",
      "Definition_change:  In this task, you are given four sentences: a bot task sentence, a bot role sentence, a user task sentence and a user role sentence. Your job is to classify given sentences into one of the 47 different domains. The domains are: 'UPDATE_CALENDAR', 'PRESENT_IDEAS', 'MOVIE_LISTINGS', 'AUTO_SORT', 'GAME_RULES', 'CONTACT_MANAGER', 'BANK_BOT', 'MUSIC_SUGGESTER', 'CHECK_STATUS', 'PET_ADVICE', 'HOW_TO_BASIC', 'NAME_SUGGESTER', 'QUOTE_OF_THE_DAY_BOT', 'GUINESS_CHECK', 'INSURANCE', 'RESTAURANT_PICKER', 'MAKE_RESTAURANT_RESERVATIONS', 'WEDDING_PLANNER', 'SKI_BOT', 'HOME_BOT', 'PLAY_TIMES', 'BUS_SCHEDULE_BOT', 'WHAT_IS_IT', 'PHONE_PLAN_BOT', 'DECIDER_BOT', 'PHONE_SETTINGS', 'TIME_ZONE', 'LIBRARY_REQUEST', 'UPDATE_CONTACT', 'CATALOGUE_BOT', 'PROMPT_GENERATOR', 'SCAM_LOOKUP', 'SPORTS_INFO', 'POLICY_BOT', 'CITY_INFO', 'APARTMENT_FINDER', 'EVENT_RESERVE', 'SHOPPING', 'EDIT_PLAYLIST', 'LOOK_UP_INFO', 'ORDER_PIZZA', 'WEATHER_CHECK', 'APPOINTMENT_REMINDER', 'GEOGRAPHY', 'STORE_DETAILS', 'AGREEMENT_BOT', 'ALARM_SET'.\n",
      "Definition_native:  In this task, you will use your knowledge about language (and common sense) to determine what element the marked number refers to. The numbers are marked with two underlines around them, like: _ number _. Your answer should be chosen from the given text, and should not contain other words.\n",
      "Definition_change:  In this task, you will use your knowledge about language (and common sense) to determine what element the marked number refers to. The numbers are marked with two underlines around them, like: _ number _. Your answer should be chosen from the given text, and should not contain other words.\n",
      "Definition_native:  The task is to write a full sentence or two using all of the information given. The sentence(s) will be a brief review of a restaurant. Use all of the information provided.\n",
      "Definition_change:  The task is to write a full sentence or two using all of the information given. The sentence(s) will be a brief review of a restaurant. Use all of the information provided.\n",
      "Definition_native:  In this task, given 2 input sentences, you must classify the relation between them. If the second sentence has a similar meaning to that of the first sentence then the output is ' B_entails_A', if the second sentence has the opposite meaning to the first sentence then it is classified as ' B_contradicts_A'. If you cannot clearly ascertain agreement/disagreement between the two sentences, the label is ' B_neutral_A'.\n",
      "Definition_change:  In this task, given 2 input sentences, you must classify the relation between them. If the second sentence has a similar meaning to that of the first sentence then the output is ' B_entails_A', if the second sentence has the opposite meaning to the first sentence then it is classified as ' B_contradicts_A'. If you cannot clearly ascertain agreement/disagreement between the two sentences, the label is ' B_neutral_A'.\n",
      "Definition_native:  In this task, you will be given two sentences sentence1 and sentence2. You should decide whether the second sentence is entailed(agreed) by the first sentence. If it does entail, answer \"yes\", else answer \"no\".\n",
      "Definition_change:  In this task, you will be given two sentences sentence1 and sentence2. You should decide whether the second sentence is entailed(agreed) by the first sentence. If it does entail, answer \"yes\", else answer \"no\".\n",
      "Definition_native:  You are given a context, a pronoun, and a noun in this task. The given pronoun is shown in the context within parentheses. You should determine if the pronoun refers to the given noun or not. Please answer with \"True\" and \"False\".\n",
      "Definition_change:  You are given a context, a pronoun, and a noun in this task. The given pronoun is shown in the context within parentheses. You should determine if the pronoun refers to the given noun or not. Please answer with \"True\" and \"False\".\n",
      "Definition_native:  In this task, you're given a pair of sentences, sentence 1 and sentence 2. Your job is to determine if the two sentences clearly agree/disagree with each other, or if this can't be determined. Indicate your answer as yes or no respectively.\n",
      "Definition_change:  In this task, you're given a pair of sentences, sentence 1 and sentence 2. Your job is to determine if the two sentences clearly agree/disagree with each other, or if this can't be determined. Indicate your answer as yes or no respectively.\n",
      "Definition_native:  In this task, you're given a fill-in-the-blank question that contains two object names. Additionally, you're given one answer which is one of the objects present in the question. In this task, you need to minimally change the given question so that the answer flips to another object in the question. Remember the question has to be about both objects which are related but different; for example, \"trophy\" and \"suitcase\". This task typically involves replacing one word i.e., the 'trigger word' with its antonym (e.g., changing from \"small\" to \"big\"). You should not change any content in the given question beyond a word or two, i.e., the trigger word/phrase. The expected answer to your question must not be associated with just the trigger word; instead, it should depend on the context present in the question. The expected answer should not be ambiguous. For your question, there should be an agreed upon answer to fill in the blank. Your generations should NOT contain potentially explicit, offensive, or adult content. In your generated question, retain the object names from the input question. Avoid repeating the same style or phrase in generating your modified question e.g. this task can be always solved using a simple negation i.e. by adding not, never, etc. Instead, try to increase the word diversity. Your question must contain at least 15 and at most 30 words. Your question must have at least 70% overlapping words with the given question. You must utilize the given context word while writing the question. Your question must contain only one blank. The two objects should be used ONCE in your question. Here is a list of attributes and associated contrastive words that may help write contrastive trigger words. Note that contrastive trigger words help in flipping the label.\n",
      "| Attribute | triggerword | contrastive triggerword | \n",
      "| age | old | new | \n",
      "| altitude | low | high |\n",
      "| area | small | vast | \n",
      "| brightness | dark | light | \n",
      "| clarity | obscure | clear | \n",
      "| cleanness | dirty | clean | \n",
      "| complexity | simple | complex | \n",
      "| cost | cheap | expensive |\n",
      "| density | sparse | dense |\n",
      "| depth | shallow | deep |\n",
      "| distance | near | far |  \n",
      "| electric conductivity | low | high |\n",
      "| flexibility | rigid | flexible |\n",
      "| granularity | fine | coarse | \n",
      "| hardness | soft | hard | \n",
      "| length | short | long | \n",
      "| magnitude | small | large | \n",
      "| mass | small | large | \n",
      "| odor | weak | strong | \n",
      "| pressure | low | high | \n",
      "| resistance | low | high | \n",
      "| shape | round | sharp |\n",
      "| shape | flat | spiky |\n",
      "| size | small | large | \n",
      "| sound | quiet | loud | \n",
      "| sound pitch | low | high | \n",
      "| speed | slow | fast | \n",
      "| stability | unstable | stable | \n",
      "| strength | weak | strong | \n",
      "| temperature | low | high | \n",
      "| texture | smooth | rough | \n",
      "| thermal conductivity | low | high |\n",
      "| thickness | thin | thick | \n",
      "| volume | small | large |\n",
      "| weight | light | heavy | \n",
      "| width | narrow | wide | \n",
      "| location | in | out |\n",
      "| location | up | down |\n",
      "| location | above | below |\n",
      "| location | on | off |\n",
      "| location | to | from |\n",
      "\n",
      "Definition_change:  In this task, you're given a fill-in-the-blank question that contains two object names. Additionally, you're given one answer which is one of the objects present in the question. In this task, you need to minimally change the given question so that the answer flips to another object in the question. Remember the question has to be about both objects which are related but different; for example, \"trophy\" and \"suitcase\". This task typically involves replacing one word i.e., the 'trigger word' with its antonym (e.g., changing from \"small\" to \"big\"). You should not change any content in the given question beyond a word or two, i.e., the trigger word/phrase. The expected answer to your question must not be associated with just the trigger word; instead, it should depend on the context present in the question. The expected answer should not be ambiguous. For your question, there should be an agreed upon answer to fill in the blank. Your generations should NOT contain potentially explicit, offensive, or adult content. In your generated question, retain the object names from the input question. Avoid repeating the same style or phrase in generating your modified question e.g. this task can be always solved using a simple negation i.e. by adding not, never, etc. Instead, try to increase the word diversity. Your question must contain at least 15 and at most 30 words. Your question must have at least 70% overlapping words with the given question. You must utilize the given context word while writing the question. Your question must contain only one blank. The two objects should be used ONCE in your question. Here is a list of attributes and associated contrastive words that may help write contrastive trigger words. Note that contrastive trigger words help in flipping the label.\n",
      "| Attribute | triggerword | contrastive triggerword | \n",
      "| age | old | new | \n",
      "| altitude | low | high |\n",
      "| area | small | vast | \n",
      "| brightness | dark | light | \n",
      "| clarity | obscure | clear | \n",
      "| cleanness | dirty | clean | \n",
      "| complexity | simple | complex | \n",
      "| cost | cheap | expensive |\n",
      "| density | sparse | dense |\n",
      "| depth | shallow | deep |\n",
      "| distance | near | far |  \n",
      "| electric conductivity | low | high |\n",
      "| flexibility | rigid | flexible |\n",
      "| granularity | fine | coarse | \n",
      "| hardness | soft | hard | \n",
      "| length | short | long | \n",
      "| magnitude | small | large | \n",
      "| mass | small | large | \n",
      "| odor | weak | strong | \n",
      "| pressure | low | high | \n",
      "| resistance | low | high | \n",
      "| shape | round | sharp |\n",
      "| shape | flat | spiky |\n",
      "| size | small | large | \n",
      "| sound | quiet | loud | \n",
      "| sound pitch | low | high | \n",
      "| speed | slow | fast | \n",
      "| stability | unstable | stable | \n",
      "| strength | weak | strong | \n",
      "| temperature | low | high | \n",
      "| texture | smooth | rough | \n",
      "| thermal conductivity | low | high |\n",
      "| thickness | thin | thick | \n",
      "| volume | small | large |\n",
      "| weight | light | heavy | \n",
      "| width | narrow | wide | \n",
      "| location | in | out |\n",
      "| location | up | down |\n",
      "| location | above | below |\n",
      "| location | on | off |\n",
      "| location | to | from |\n",
      "\n",
      "Definition_native:  In this task you need to indicate the plausibility of reasoning for the pronoun coreference relations. Each of the provided inputs contains a sentence with a target pronoun and a sentence that justifies which noun phrase the pronoun refers to. Correct reasons do not need to use all the knowledge from the sentence. The resolution of the pronoun coreference relations typically involve one or multiple following knowledge types about commonsense: First: 'Property', the knowledge about property of objects (e.g., ice is cold). Second: 'Object', the knowledge about objects (e.g., cats have ears). Third: 'Eventuality', the knowledge about eventuality (e.g., 'wake up' happens before 'open eyes'). Forth: 'Spatial', the knowledge about spatial position (e.g., object at the back can be blocked). Fifth: 'Quantity', the knowledge about numbers (e.g., 2 is smaller than 10). Sixth: all other knowledge if above ones are not suitable. You should answer 'Correct' if the reasoning made sense, otherwise, you should answer 'Wrong'.\n",
      "Definition_change:  In this task you need to indicate the plausibility of reasoning for the pronoun coreference relations. Each of the provided inputs contains a sentence with a target pronoun and a sentence that justifies which noun phrase the pronoun refers to. Correct reasons do not need to use all the knowledge from the sentence. The resolution of the pronoun coreference relations typically involve one or multiple following knowledge types about commonsense: First: 'Property', the knowledge about property of objects (e.g., ice is cold). Second: 'Object', the knowledge about objects (e.g., cats have ears). Third: 'Eventuality', the knowledge about eventuality (e.g., 'wake up' happens before 'open eyes'). Forth: 'Spatial', the knowledge about spatial position (e.g., object at the back can be blocked). Fifth: 'Quantity', the knowledge about numbers (e.g., 2 is smaller than 10). Sixth: all other knowledge if above ones are not suitable. You should answer 'Correct' if the reasoning made sense, otherwise, you should answer 'Wrong'.\n",
      "Definition_native:  Given the Question and Answer pair, detect whether the answer is acceptable or not. Denote acceptable answer as \"yes\", otherwise denote as \"no\". An acceptable answer is consistent with the context in question, detailed, long, and uses general knowledge of English. Answers that are not definite and suggest a variety of options are not acceptable answers.\n",
      "Definition_change:  Given the Question and Answer pair, detect whether the answer is acceptable or not. Denote acceptable answer as \"yes\", otherwise denote as \"no\". An acceptable answer is consistent with the context in question, detailed, long, and uses general knowledge of English. Answers that are not definite and suggest a variety of options are not acceptable answers.\n",
      "Definition_native:  In this task, you are given a Reddit post as a text. Your task is to generate a title for this text. The title should start with \"TIFU by\", followed by a situation that caused humor. The title should contain 7-12 words, ideally.\n",
      "Definition_change:  In this task, you are given a Reddit post as a text. Your task is to generate a title for this text. The title should start with \"TIFU by\", followed by a situation that caused humor. The title should contain 7-12 words, ideally.\n",
      "Definition_native:  In this task, you are given a premise, a hypothesis, and an update. The premise sentence describes a real-world situation and is always assumed to be true. The hypothesis sentence describes an assumption or inference that you might make about that situation having read the premise. The update provides additional information about the situation that might weaken or strengthen the hypothesis. A weakener is a statement that weakens the hypothesis. It makes you much less likely to believe the hypothesis is true. A strengthener is a statement that strengthens the hypothesis. It makes you much more likely to believe the hypothesis is true. Your task is to output 'strengthener' or 'weakener' if the update strengths or weakens the hypothesis, respectively.\n",
      "Definition_change:  In this task, you are given a premise, a hypothesis, and an update. The premise sentence describes a real-world situation and is always assumed to be true. The hypothesis sentence describes an assumption or inference that you might make about that situation having read the premise. The update provides additional information about the situation that might weaken or strengthen the hypothesis. A weakener is a statement that weakens the hypothesis. It makes you much less likely to believe the hypothesis is true. A strengthener is a statement that strengthens the hypothesis. It makes you much more likely to believe the hypothesis is true. Your task is to output 'strengthener' or 'weakener' if the update strengths or weakens the hypothesis, respectively.\n",
      "Definition_native:  In this task, you are given a passage and a question regarding that passage. You must determine whether or not the question is answerable from the given passage. If a question is answerable, output should be 'True', otherwise 'False'. You must not consider any other information that is not provided in the passage while labelling True or False.\n",
      "Definition_change:  In this task, you are given a passage and a question regarding that passage. You must determine whether or not the question is answerable from the given passage. If a question is answerable, output should be 'True', otherwise 'False'. You must not consider any other information that is not provided in the passage while labelling True or False.\n",
      "Definition_native:  Two analogies that relate objects to the associated rooms is given in the form \"A : B. C : ?\". \"A : B\" relates object A to room B. Your task is to replace the question mark (?) with the appropriate room for the given object C, following the \"A : B\" relation.\n",
      "Definition_change:  Two analogies that relate objects to the associated rooms is given in the form \"A : B. C : ?\". \"A : B\" relates object A to room B. Your task is to replace the question mark (?) with the appropriate room for the given object C, following the \"A : B\" relation.\n",
      "Definition_native:  In this task, you are given a hypothesis and an update. The hypothesis sentence is a statement that speaks of a socially normative behavior. In other words, it is a generalizing statement about how we expect people to behave in society. The update provides additional contexts about the situation that might UNDERMINE or SUPPORT the generalization. An undermining context provides a situation that weakens the hypothesis. A supporting context provides a situation that strengthens the generalization. Your task is to output 'strengthener' or 'weakener' if the update supports or undermines the hypothesis, respectively\n",
      "Definition_change:  In this task, you are given a hypothesis and an update. The hypothesis sentence is a statement that speaks of a socially normative behavior. In other words, it is a generalizing statement about how we expect people to behave in society. The update provides additional contexts about the situation that might UNDERMINE or SUPPORT the generalization. An undermining context provides a situation that weakens the hypothesis. A supporting context provides a situation that strengthens the generalization. Your task is to output 'strengthener' or 'weakener' if the update supports or undermines the hypothesis, respectively\n",
      "Definition_native:  In this task, you are provided with an article about the legal acts. Your task is to generate a headline for that article.\n",
      "Definition_change:  In this task, you are provided with an article about the legal acts. Your task is to generate a headline for that article.\n",
      "Definition_native:  In this task, you will be presented with a premise and a hypothesis sentence. Determine whether the hypothesis sentence entails (implies), contradicts (opposes), or is neutral with respect to the given premise. Please answer with \"Contradiction\", \"Neutral\", or \"Entailment\".\n",
      "Definition_change:  In this task, you will be presented with a premise and a hypothesis sentence. Determine whether the hypothesis sentence entails (implies), contradicts (opposes), or is neutral with respect to the given premise. Please answer with \"Contradiction\", \"Neutral\", or \"Entailment\".\n",
      "Definition_native:  In this task, you're given an ambiguous question (which can be answered in more than one way). Your task is to provide one question which clarifies the input question and it has one unique answer, and also provide an answer to the generated question. Generated question and answer should be separated with a new line.\n",
      "Definition_change:  In this task, you're given an ambiguous question (which can be answered in more than one way). Your task is to provide one question which clarifies the input question and it has one unique answer, and also provide an answer to the generated question. Generated question and answer should be separated with a new line.\n",
      "Definition_native:  In this task, you are given two questions about a domain. Your task is to combine the main subjects of the questions to write a new, natural-sounding question. For example, if the first question is about the tallness of the president and the second question is about his performance at college, the new question can be about his tallness at college. Try to find the main idea of each question, then combine them; you can use different words or make the subjects negative (i.e., ask about shortness instead of tallness) to combine the subjects. The questions are in three domains: presidents, national parks, and dogs. Each question has a keyword indicating its domain. Keywords are \"this national park\", \"this dog breed\", and \"this president\", which will be replaced with the name of an actual president, a national park, or a breed of dog. Hence, in the new question, this keyword should also be used the same way. Do not write unnatural questions. (i.e., would not be a question someone might normally ask about domains). Do not write open-ended or subjective questions. (e.g., questions that can be answered differently by different people.) If you couldn't find the answer to your question from a single Google search, try to write a different question. You do not have to stick with the original question word for word, but you should try to create a question that combines the main subjects of the question.\n",
      "Definition_change:  In this task, you are given two questions about a domain. Your task is to combine the main subjects of the questions to write a new, natural-sounding question. For example, if the first question is about the tallness of the president and the second question is about his performance at college, the new question can be about his tallness at college. Try to find the main idea of each question, then combine them; you can use different words or make the subjects negative (i.e., ask about shortness instead of tallness) to combine the subjects. The questions are in three domains: presidents, national parks, and dogs. Each question has a keyword indicating its domain. Keywords are \"this national park\", \"this dog breed\", and \"this president\", which will be replaced with the name of an actual president, a national park, or a breed of dog. Hence, in the new question, this keyword should also be used the same way. Do not write unnatural questions. (i.e., would not be a question someone might normally ask about domains). Do not write open-ended or subjective questions. (e.g., questions that can be answered differently by different people.) If you couldn't find the answer to your question from a single Google search, try to write a different question. You do not have to stick with the original question word for word, but you should try to create a question that combines the main subjects of the question.\n",
      "Definition_native:  In this task you're given a question and you have to paraphrase the question to create the output question while retaining the meaning of the original question.\n",
      "Definition_change:  In this task you're given a question and you have to paraphrase the question to create the output question while retaining the meaning of the original question.\n",
      "Definition_native:  In this task, you will be presented with a text and a pronoun. You should write the name that the pronoun refers to. Position of the pronoun in the text is showed within two \"_\"s.\n",
      "Definition_change:  In this task, you will be presented with a text and a pronoun. You should write the name that the pronoun refers to. Position of the pronoun in the text is showed within two \"_\"s.\n",
      "Definition_native:  Given an Amazon customer review, write a title for the review. The preferred titles are under fifteen words.\n",
      "Definition_change:  Given an Amazon customer review, write a title for the review. The preferred titles are under fifteen words.\n",
      "Definition_native:  In this task, you will be presented with a text, a pronoun from the text, and two candidate names. You should determine what the pronoun refers to and classify the answers into A, B, or Neither. A and B here are referring to option A and option B. Position of the pronoun in the text is showed within two \"_\"s.\n",
      "Definition_change:  In this task, you will be presented with a text, a pronoun from the text, and two candidate names. You should determine what the pronoun refers to and classify the answers into A, B, or Neither. A and B here are referring to option A and option B. Position of the pronoun in the text is showed within two \"_\"s.\n",
      "Definition_native:  You will be given three sentences. Read them, then identify a noun phrase (person, place, or thing) or event that is shared between all three sentences. As the output, write the span of the text corresponding to that phrase in each sentence. Keep the order of the sentences, that is, your answer should look like: 1: *a phras from sentence 1e* 2: *a phras from sentence 2* 3: *a phrase from sentence 3*\n",
      "Definition_change:  You will be given three sentences. Read them, then identify a noun phrase (person, place, or thing) or event that is shared between all three sentences. As the output, write the span of the text corresponding to that phrase in each sentence. Keep the order of the sentences, that is, your answer should look like: 1: *a phras from sentence 1e* 2: *a phras from sentence 2* 3: *a phrase from sentence 3*\n",
      "Definition_native:  In this task, you need to write a topic word from the given fact. The topic word must have at least one word overlap with the given fact. The topic word often involves adding a new word from a related concept. In your topic word, use at least one word from the given fact. Topic words with two or more words work best.\n",
      "Definition_change:  In this task, you need to write a topic word from the given fact. The topic word must have at least one word overlap with the given fact. The topic word often involves adding a new word from a related concept. In your topic word, use at least one word from the given fact. Topic words with two or more words work best.\n",
      "Definition_native:  In this task, you are given two statements. The task is to output whether a given textual premise, i.e. Statement 2, entails or implies a given scientific fact, i.e. Statement 1. The output should be 'entails' if Statement 2 supports Statement 1 and should be 'neutral' otherwise.\n",
      "Definition_change:  In this task, you are given two statements. The task is to output whether a given textual premise, i.e. Statement 2, entails or implies a given scientific fact, i.e. Statement 1. The output should be 'entails' if Statement 2 supports Statement 1 and should be 'neutral' otherwise.\n",
      "Definition_native:  You are given a sentence and a question in the input. If the information provided in the sentence is enough to answer the question, label \"Yes\", otherwise label \"No\". Do not use any facts other than those provided in the sentence while labeling \"Yes\" or \"No\". There are only two types of valid responses: Yes and No.\n",
      "Definition_change:  You are given a sentence and a question in the input. If the information provided in the sentence is enough to answer the question, label \"Yes\", otherwise label \"No\". Do not use any facts other than those provided in the sentence while labeling \"Yes\" or \"No\". There are only two types of valid responses: Yes and No.\n",
      "Definition_native:  \"Yes, and\" is a rule-of-thumb in improvisational comedy that suggests that a participant in a dialogue should accept what another participant has stated (\"Yes\") and then expand on that line of thought or context (\"and...\"). Given a prompt and two responses, identify which response is the type of \"yes, and\". Indicate your answer by 'Response 1' if the first response is correct, otherwise 'Response 2'.  Note that a \"Yes, and\" does not require someone explicitly saying 'yes, and...' as part of a dialogue exchange.\n",
      "Definition_change:  \"Yes, and\" is a rule-of-thumb in improvisational comedy that suggests that a participant in a dialogue should accept what another participant has stated (\"Yes\") and then expand on that line of thought or context (\"and...\"). Given a prompt and two responses, identify which response is the type of \"yes, and\". Indicate your answer by 'Response 1' if the first response is correct, otherwise 'Response 2'.  Note that a \"Yes, and\" does not require someone explicitly saying 'yes, and...' as part of a dialogue exchange.\n",
      "Definition_native:  In this task, you will be shown an incorrect English sentence. You need to generate a corrected form of the input sentence.\n",
      "Definition_change:  In this task, you will be shown an incorrect English sentence. You need to generate a corrected form of the input sentence.\n",
      "Definition_native:  In each example you will read a short sentence (or two). Then, a pronoun in the text is mentioned. Your task is to choose a referent which the mentioned pronoun refers to. You will be given two options in each case and one choice should seem much more likely to you than the other.\n",
      "Definition_change:  In each example you will read a short sentence (or two). Then, a pronoun in the text is mentioned. Your task is to choose a referent which the mentioned pronoun refers to. You will be given two options in each case and one choice should seem much more likely to you than the other.\n",
      "Definition_native:  In this task, we ask you convert a data table of restaurant descriptions into fluent natural-sounding English sentences. The input is a string of key-value pairs; the output should be a natural and grammatical English sentence containing all the information from the input.\n",
      "Definition_change:  In this task, we ask you convert a data table of restaurant descriptions into fluent natural-sounding English sentences. The input is a string of key-value pairs; the output should be a natural and grammatical English sentence containing all the information from the input.\n",
      "Definition_native:  Given a document, generate a short title of the document. The title should convey the main idea/event/topic about which the document is being written. Note that URLs in the text have been replaced with [Link].\n",
      "Definition_change:  Given a document, generate a short title of the document. The title should convey the main idea/event/topic about which the document is being written. Note that URLs in the text have been replaced with [Link].\n",
      "Definition_native:  In this task, you will be given a short story. One sentence from the story is chosen. Consider the events that happen before that sentence, or are likely to have happened before it. Does any of them directly cause it, or simply make it possible? You should write your answer in the form \" A >causes/enables> B\". Try to use phrases and sentences from the story to compose your answer when possible.\n",
      "Definition_change:  In this task, you will be given a short story. One sentence from the story is chosen. Consider the events that happen before that sentence, or are likely to have happened before it. Does any of them directly cause it, or simply make it possible? You should write your answer in the form \" A >causes/enables> B\". Try to use phrases and sentences from the story to compose your answer when possible.\n",
      "Definition_native:  Given two noun phrases (arguments) and relationship between them, form a sentence that expresses theses arguments with the given relationship.\n",
      "Definition_change:  Given two noun phrases (arguments) and relationship between them, form a sentence that expresses theses arguments with the given relationship.\n",
      "Definition_native:  In this task, you're given five sentences, numbered 1 through 5, and two options a and b for possible titles for the story. Your job is to choose the title that better fits the story. Indicate your choice by 'a' or 'b'.\n",
      "Definition_change:  In this task, you're given five sentences, numbered 1 through 5, and two options a and b for possible titles for the story. Your job is to choose the title that better fits the story. Indicate your choice by 'a' or 'b'.\n",
      "Definition_native:  Given an entity, a before event, an after event, and an attribute related to the entity, generate a sentence as output. Your sentence should show the changes in the attribute of the entity.\n",
      "Definition_change:  Given an entity, a before event, an after event, and an attribute related to the entity, generate a sentence as output. Your sentence should show the changes in the attribute of the entity.\n",
      "Definition_native:  In this task, you're given a question, along with a context passage which has extra information available on certain terms mentioned in it, i.e., the proper nouns in the passage. Your job is to determine whether information from more than one term is needed to answer the question. Indicate your choice as `a` for Yes or `b` for No.\n",
      "Definition_change:  In this task, you're given a question, along with a context passage which has extra information available on certain terms mentioned in it, i.e., the proper nouns in the passage. Your job is to determine whether information from more than one term is needed to answer the question. Indicate your choice as `a` for Yes or `b` for No.\n",
      "Definition_native:  In this task, you are given a question containing a blank (_) and two options. You should pick the best option to answer the question. Please answer with \"A\" or \"B\".\n",
      "Definition_change:  In this task, you are given a question containing a blank (_) and two options. You should pick the best option to answer the question. Please answer with \"A\" or \"B\".\n",
      "Definition_native:  In this task, you need to generate an appropriate title for the given summary of some paragraph. The generated title must be short and should include the main topic of the given text. Your summary should be less than 20 words long.\n",
      "Definition_change:  In this task, you need to generate an appropriate title for the given summary of some paragraph. The generated title must be short and should include the main topic of the given text. Your summary should be less than 20 words long.\n",
      "Definition_native:  You are given a conversation between two people. 'Person1:' and 'Person2:' are used to separate their respective dialogues. You are required to assign a label 'formal' if there is an absence of emotion and a presence of questions anywhere within the conversation. If such pattern is not found assign the label 'informal'.\n",
      "Definition_change:  You are given a conversation between two people. 'Person1:' and 'Person2:' are used to separate their respective dialogues. You are required to assign a label 'formal' if there is an absence of emotion and a presence of questions anywhere within the conversation. If such pattern is not found assign the label 'informal'.\n",
      "Definition_native:  Two analogies that relate actions to the tools used to perform the action is given in the form \"A : B. C : ?\". \"A : B\" relates action A to tool B. Your task is to replace the question mark (?) with the appropriate tool for the given action C, following the \"A : B\" relation.\n",
      "Definition_change:  Two analogies that relate actions to the tools used to perform the action is given in the form \"A : B. C : ?\". \"A : B\" relates action A to tool B. Your task is to replace the question mark (?) with the appropriate tool for the given action C, following the \"A : B\" relation.\n",
      "Definition_native:  In this task, you are given a summary for US Congressional and California state bill, your task is to generate a Title for this bill. The preferred titles are under forty words and mention the purpose of the bill.\n",
      "Definition_change:  In this task, you are given a summary for US Congressional and California state bill, your task is to generate a Title for this bill. The preferred titles are under forty words and mention the purpose of the bill.\n",
      "Definition_native:  In this task you are given a disfluent question, a proper question and a context. A disfluent question is a question that has some interruptions in it while framing and a proper question is the correct form of the question without any disfluency. Classify whether the question is answerable or not based on the given context.\n",
      "Definition_change:  In this task you are given a disfluent question, a proper question and a context. A disfluent question is a question that has some interruptions in it while framing and a proper question is the correct form of the question without any disfluency. Classify whether the question is answerable or not based on the given context.\n",
      "Definition_native:  Two analogies on manipulating items in a kitchen is given in the form \"A : B. C : ?\". The phrase \"A : B\" relates item A to its appropriate manipulation B. Your task is to replace the question mark (?) with the appropriate manipulation of item C, following the \"A : B\" relation. Your answer should be a verb which shows a way to manipulate the given object.\n",
      "Definition_change:  Two analogies on manipulating items in a kitchen is given in the form \"A : B. C : ?\". The phrase \"A : B\" relates item A to its appropriate manipulation B. Your task is to replace the question mark (?) with the appropriate manipulation of item C, following the \"A : B\" relation. Your answer should be a verb which shows a way to manipulate the given object.\n",
      "Definition_native:  Given a premise and two alternatives, choose the alternative that is a more plausible cause or effect of the situation described by the premise. The input format is \"premise\n",
      "(1)alternative_1(2)alternative_2\", the output should either be \"1\" or \"2\" based on your judgment.\n",
      "Definition_change:  Given a premise and two alternatives, choose the alternative that is a more plausible cause or effect of the situation described by the premise. The input format is \"premise\n",
      "(1)alternative_1(2)alternative_2\", the output should either be \"1\" or \"2\" based on your judgment.\n",
      "Definition_native:  Two analogies that signify affordances are given in the form \"A : B. C : ?\". Affordance is the possibility of an action being done on an object, for example book is an affordance of writing. The phrase \"A : B\" implies that B is an affordance of A. Your task is to replace the question mark (?) with the appropriate affordance of the given action C, following the \"A : B\" relation. Your answer should be a single object without further explanation.\n",
      "Definition_change:  Two analogies that signify affordances are given in the form \"A : B. C : ?\". Affordance is the possibility of an action being done on an object, for example book is an affordance of writing. The phrase \"A : B\" implies that B is an affordance of A. Your task is to replace the question mark (?) with the appropriate affordance of the given action C, following the \"A : B\" relation. Your answer should be a single object without further explanation.\n",
      "Definition_native:  In this task, you will be given a sentence, followed by \", so\". You should complete the given text with another sentence, such that the whole text is plausible. The sentence you enter must be a likely result of the given sentence.\n",
      "Definition_change:  In this task, you will be given a sentence, followed by \", so\". You should complete the given text with another sentence, such that the whole text is plausible. The sentence you enter must be a likely result of the given sentence.\n",
      "Definition_native:  You are given a sentence from a conversation between a human and a virtual assistant. Your task is to identify whether the sentence is a question or not. Answer with Yes or No.\n",
      "Definition_change:  You are given a sentence from a conversation between a human and a virtual assistant. Your task is to identify whether the sentence is a question or not. Answer with Yes or No.\n",
      "Definition_native:  In this task, you are given a statement spoken by a politician in natural language. Your task is to generate the subject of the discussion for the given statement. The subject generated is not necessarily a part of the given input. Your answer should contain one or more words.\n",
      "Definition_change:  In this task, you are given a statement spoken by a politician in natural language. Your task is to generate the subject of the discussion for the given statement. The subject generated is not necessarily a part of the given input. Your answer should contain one or more words.\n",
      "Definition_native:  In this task, you're given five sentences, numbered 1 through 5. Your job is to generate a title for the story that makes complete sense. The title must be short, with less than three words, use simple language, and include the main topic of the story.\n",
      "Definition_change:  In this task, you're given five sentences, numbered 1 through 5. Your job is to generate a title for the story that makes complete sense. The title must be short, with less than three words, use simple language, and include the main topic of the story.\n",
      "Definition_native:  In this task, you're given a pair of sentences, sentence 1 and sentence 2. Your job is to choose whether the two sentences clearly agree (entailment)/disagree (contradiction) with each other, or if this cannot be determined (neutral). Your answer must be in the form of the letters E, C, and N respectively.\n",
      "Definition_change:  In this task, you're given a pair of sentences, sentence 1 and sentence 2. Your job is to choose whether the two sentences clearly agree (entailment)/disagree (contradiction) with each other, or if this cannot be determined (neutral). Your answer must be in the form of the letters E, C, and N respectively.\n",
      "Definition_native:  In this task, you're given a statement and three sentences as choices. Your job is to determine which sentence can be inferred from the statement. Incorrect choices change the meaning in important ways or have details that are not mentioned in the statement. Indicate your answer as 1,2, or 3 corresponding to the choice number of the selected sentence.\n",
      "Definition_change:  In this task, you're given a statement and three sentences as choices. Your job is to determine which sentence can be inferred from the statement. Incorrect choices change the meaning in important ways or have details that are not mentioned in the statement. Indicate your answer as 1,2, or 3 corresponding to the choice number of the selected sentence.\n",
      "Definition_native:  You are given a conversation between two people. 'Person1:' and 'Person2:' are used to separate their respective dialogues. If the conversation begins with a question, label it '1' otherwise '0'.\n",
      "Definition_change:  You are given a conversation between two people. 'Person1:' and 'Person2:' are used to separate their respective dialogues. If the conversation begins with a question, label it '1' otherwise '0'.\n",
      "Definition_native:  In this task, you are given a part of an article. Your task is to generate headline (title) for this text. Preferred headlines are under fifteen words.\n",
      "Definition_change:  In this task, you are given a part of an article. Your task is to generate headline (title) for this text. Preferred headlines are under fifteen words.\n",
      "Definition_native:  Given a question, generate a paraphrase of that question wihout changing the meaning of it. Your answer should reword the given sentence, but not add information to it or remove information from it. The answer to your question should be the same as the answer to the original question.\n",
      "Definition_change:  Given a question, generate a paraphrase of that question wihout changing the meaning of it. Your answer should reword the given sentence, but not add information to it or remove information from it. The answer to your question should be the same as the answer to the original question.\n",
      "Definition_native:  In this task, you will be given two sentences separated by \"because\". You should decide whether the first sentence can be the result of the second sentence. If you can see a possible cause and effect relationship, answer with \"plausible\", otherwise answer with \"not plausible\".\n",
      "Definition_change:  In this task, you will be given two sentences separated by \"because\". You should decide whether the first sentence can be the result of the second sentence. If you can see a possible cause and effect relationship, answer with \"plausible\", otherwise answer with \"not plausible\".\n",
      "Definition_native:  Paraphrase the given questions to have different wording. Your paraphrased questions should have the same answer as the original question. Try to change the sentence as much as possible using synonyms and/or rearranging the structure of the sentence. The questions are in three domains: presidents, national parks, and dogs. Each question has a keyword indicating its domain. Keywords are \"this national park\", \"this dog breed\", and \"this president\", which will be replaced with the name of an actual president, a national park, or a breed of dog. Hence, in paraphrasing, this keyword should also be used the same way. Do not write questions that compare or involve multiple domains. Do not write open-ended or subjective questions (e.g., questions that can be answered differently by different people.) Make your questions specific and concrete. Your question should have the same type of answer as the original question(e.g., if the question is extractive, the paraphrased question should be extractive as well.)\n",
      "Definition_change:  Paraphrase the given questions to have different wording. Your paraphrased questions should have the same answer as the original question. Try to change the sentence as much as possible using synonyms and/or rearranging the structure of the sentence. The questions are in three domains: presidents, national parks, and dogs. Each question has a keyword indicating its domain. Keywords are \"this national park\", \"this dog breed\", and \"this president\", which will be replaced with the name of an actual president, a national park, or a breed of dog. Hence, in paraphrasing, this keyword should also be used the same way. Do not write questions that compare or involve multiple domains. Do not write open-ended or subjective questions (e.g., questions that can be answered differently by different people.) Make your questions specific and concrete. Your question should have the same type of answer as the original question(e.g., if the question is extractive, the paraphrased question should be extractive as well.)\n",
      "Definition_native:  Given a premise and a hypothesis, determine if the hypothesis (second sentence) can be concluded from the premise and assigning it a label among entailment, neutral, or contradiction. Entailment means thats the hypothesis makes sense/follows after the premise. Neutral means that the hypothesis does not follow the premise but also does not contradict the premise. Contradiction means that the hypothesis clearly contradicts the premise.\n",
      "Definition_change:  Given a premise and a hypothesis, determine if the hypothesis (second sentence) can be concluded from the premise and assigning it a label among entailment, neutral, or contradiction. Entailment means thats the hypothesis makes sense/follows after the premise. Neutral means that the hypothesis does not follow the premise but also does not contradict the premise. Contradiction means that the hypothesis clearly contradicts the premise.\n",
      "Definition_native:  Convert a disfluent question to a proper question. A disfluent question is a question that has some interruptions in it while framing. A proper question is the correct form of the question without any disfluency.\n",
      "Definition_change:  Convert a disfluent question to a proper question. A disfluent question is a question that has some interruptions in it while framing. A proper question is the correct form of the question without any disfluency.\n",
      "Definition_native:  Given an abstract, and a few options, indicate if any of the given options appropriately describe the given abstract. If any of them is a proper keyword, answer 'Yes', otherwise answer 'No'.\n",
      "Definition_change:  Given an abstract, and a few options, indicate if any of the given options appropriately describe the given abstract. If any of them is a proper keyword, answer 'Yes', otherwise answer 'No'.\n",
      "Definition_native:  The answer will be 'yes' if the provided sentence contains an explicit mention that answers the given question. Otherwise, the answer should be 'no'. Instances where the answer is implied from the sentence using \"instinct\" or \"common sense\" (as opposed to being written explicitly in the sentence) should be labeled as 'no'.\n",
      "Definition_change:  The answer will be 'yes' if the provided sentence contains an explicit mention that answers the given question. Otherwise, the answer should be 'no'. Instances where the answer is implied from the sentence using \"instinct\" or \"common sense\" (as opposed to being written explicitly in the sentence) should be labeled as 'no'.\n",
      "Definition_native:  Given Sentence 1 and Sentence 2, indicate your answer as yes when the two sentences clearly agree or clearly disagree with each other. If the relationship cannot be determined, answer with 'no'.\n",
      "Definition_change:  Given Sentence 1 and Sentence 2, indicate your answer as yes when the two sentences clearly agree or clearly disagree with each other. If the relationship cannot be determined, answer with 'no'.\n",
      "Definition_native:  In this task, you are given concept set (with 3 to 5 concepts) that contain mentions of names of people, places, activities, or things. These concept sets reflect reasonable concept co-occurrences in everyday situations. All concepts given as input are separated by \"#\". Your job is to generate a sentence describing a day-to-day scene using all concepts from a given concept set.\n",
      "Definition_change:  In this task, you are given concept set (with 3 to 5 concepts) that contain mentions of names of people, places, activities, or things. These concept sets reflect reasonable concept co-occurrences in everyday situations. All concepts given as input are separated by \"#\". Your job is to generate a sentence describing a day-to-day scene using all concepts from a given concept set.\n"
     ]
    },
    {
     "data": {
      "application/vnd.jupyter.widget-view+json": {
       "model_id": "e46d43daa0d746318b8885d70a0cb715",
       "version_major": 2,
       "version_minor": 0
      },
      "text/plain": [
       "0 examples [00:00, ? examples/s]"
      ]
     },
     "metadata": {},
     "output_type": "display_data"
    },
    {
     "name": "stdout",
     "output_type": "stream",
     "text": [
      "Definition_native:  Generate an appropriate title for the given text. The generated title must be short and include the main topic of the text. The preferred titles are under fifteen words.\n",
      "Definition_change:  Generate an appropriate title for the given text. The generated title must be short and include the main topic of the text. The preferred titles are under fifteen words.\n",
      "Definition_native:  Read the passage and find the corresponding pronoun for the given name. The pronoun should match the given blank(_). The word between ** ** is the target name. The pronoun should be one of 'her', 'him', 'he', 'she' and 'his' with proper casing based on the position in the passage.\n",
      "Definition_change:  Read the passage and find the corresponding pronoun for the given name. The pronoun should match the given blank(_). The word between ** ** is the target name. The pronoun should be one of 'her', 'him', 'he', 'she' and 'his' with proper casing based on the position in the passage.\n",
      "Definition_native:  Determine whether the two given sentences clearly agree with each other (entailment), disagree with each other (contradiction), or if this cannot be determined (neutral). Answer must be the letters E, C, and N, respectively.\n",
      "Definition_change:  Determine whether the two given sentences clearly agree with each other (entailment), disagree with each other (contradiction), or if this cannot be determined (neutral). Answer must be the letters E, C, and N, respectively.\n",
      "Definition_native:  You are given two sentences. You have to find if there is entailment or agreement of the Hypothesis by the Premise. From the given pair of sentences, you should identify if there is enough information in the Premise to support the claim made in the Hypothesis. The Premise may not exactly be the same as Hypothesis. Your task is to return 'entails' if the premise supports hypothesis else return 'neutral'.\n",
      "Definition_change:  You are given two sentences. You have to find if there is entailment or agreement of the Hypothesis by the Premise. From the given pair of sentences, you should identify if there is enough information in the Premise to support the claim made in the Hypothesis. The Premise may not exactly be the same as Hypothesis. Your task is to return 'entails' if the premise supports hypothesis else return 'neutral'.\n",
      "Definition_native:  In this task, you're given a statement, and three sentences as choices. Your job is to determine which sentence clearly disagrees with the statement. Indicate your answer as '1', '2', or '3' corresponding to the choice number of the selected sentence.\n",
      "Definition_change:  In this task, you're given a statement, and three sentences as choices. Your job is to determine which sentence clearly disagrees with the statement. Indicate your answer as '1', '2', or '3' corresponding to the choice number of the selected sentence.\n",
      "Definition_native:  In this task, you're given an ambiguous question (which can be answered in more than one way). Your task is to write a question that clarifies the given question in such a way that the generated question has one unique answer.\n",
      "Definition_change:  In this task, you're given an ambiguous question (which can be answered in more than one way). Your task is to write a question that clarifies the given question in such a way that the generated question has one unique answer.\n",
      "Definition_native:  In this task, you are given a premise sentence, two possible options and a question word. If the question was cause you should select the option that is a possible cause of the premise sentence, and if the question word was effect you should find the option which is a possible effect of the premise sentence. Answer with \"A\" or \"B\".\n",
      "Definition_change:  In this task, you are given a premise sentence, two possible options and a question word. If the question was cause you should select the option that is a possible cause of the premise sentence, and if the question word was effect you should find the option which is a possible effect of the premise sentence. Answer with \"A\" or \"B\".\n",
      "Definition_native:  In this task, you're given two sentences. Indicate if the first sentence clearly entails the second sentence (i.e., one can conclude the 2nd sentence by reading the 1st one). Indicate your answer with '1' if the first sentence entails the second sentence, otherwise answer with '0'.\n",
      "Definition_change:  In this task, you're given two sentences. Indicate if the first sentence clearly entails the second sentence (i.e., one can conclude the 2nd sentence by reading the 1st one). Indicate your answer with '1' if the first sentence entails the second sentence, otherwise answer with '0'.\n",
      "Definition_native:  In this task, you are given a text of the article. Your task is to generate a headline (title) for this article.\n",
      "Definition_change:  In this task, you are given a text of the article. Your task is to generate a headline (title) for this article.\n",
      "Definition_native:  In this task, you will be presented with a premise and a hypothesis sentence. Determine whether the hypothesis sentence entails (implies), contradicts (opposes), or is neutral with respect to the given premise sentence. Please answer with \"Contradiction\", \"Neutral\", or \"Entailment\".\n",
      "Definition_change:  In this task, you will be presented with a premise and a hypothesis sentence. Determine whether the hypothesis sentence entails (implies), contradicts (opposes), or is neutral with respect to the given premise sentence. Please answer with \"Contradiction\", \"Neutral\", or \"Entailment\".\n",
      "Definition_native:  In this task, you will be given a sentence, and you need to identify the set of coreference words. Coreferences are generally a set of words in the text that refer to the same person or thing. Your output set of coreference words must be strictly present in the given input sentence. Do not use any outside knowledge to create the set of coreference words. If there is a 'the' article before the person or thing you should include 'the' as well. Please separate the coreference words by commas in the output.\n",
      "Definition_change:  In this task, you will be given a sentence, and you need to identify the set of coreference words. Coreferences are generally a set of words in the text that refer to the same person or thing. Your output set of coreference words must be strictly present in the given input sentence. Do not use any outside knowledge to create the set of coreference words. If there is a 'the' article before the person or thing you should include 'the' as well. Please separate the coreference words by commas in the output.\n",
      "Definition_native:  In this task, you're given a paragraph from the research paper and your task is to generate a suitable title for the research paper based on the given paper. Under 100 words is a good title length.\n",
      "Definition_change:  In this task, you're given a paragraph from the research paper and your task is to generate a suitable title for the research paper based on the given paper. Under 100 words is a good title length.\n",
      "Definition_native:  You are given a sentence from a conversation between a human and a virtual assistant. Your task is to classify the sentence into one of the following five action categories - INFORM, INFORM_INTENT, OFFER, REQUEST, REQUEST_ALTS. If the sentence is about informing something, generate 'INFORM'. If it is about requesting something, generate 'REQUEST'. If the sentence mentions requesting an alternative option than the one provided, generate 'REQUEST_ALTS'. Similarly, generate 'OFFER' if the sentence is offering some information. If the sentence is about showing intent to do something, generate 'INFORM_INTENT'.\n",
      "Definition_change:  You are given a sentence from a conversation between a human and a virtual assistant. Your task is to classify the sentence into one of the following five action categories - INFORM, INFORM_INTENT, OFFER, REQUEST, REQUEST_ALTS. If the sentence is about informing something, generate 'INFORM'. If it is about requesting something, generate 'REQUEST'. If the sentence mentions requesting an alternative option than the one provided, generate 'REQUEST_ALTS'. Similarly, generate 'OFFER' if the sentence is offering some information. If the sentence is about showing intent to do something, generate 'INFORM_INTENT'.\n",
      "Definition_native:  In this task you will be given a claim and a perspective. You should determine whether that perspective supports or undermines the claim. If the perspective could possibly convince someone with different view, it is supporting, otherwise it is undermining.\n",
      "Definition_change:  In this task you will be given a claim and a perspective. You should determine whether that perspective supports or undermines the claim. If the perspective could possibly convince someone with different view, it is supporting, otherwise it is undermining.\n",
      "Definition_native:  Given a paragraph about cooking, and a set of conversational questions and answers about the paragraph, say whether the passage contains sufficient information to answer the follow-up question. Say Yes if it is answerable; otherwise, say No. The paragraph has the prefix 'CONTEXT:'. Each conversation question has a prefix `Q:` followed by the answer prefix `A:`, and the follow-up question has a prefix `FOLLOWUP_Q:`.\n",
      "Definition_change:  Given a paragraph about cooking, and a set of conversational questions and answers about the paragraph, say whether the passage contains sufficient information to answer the follow-up question. Say Yes if it is answerable; otherwise, say No. The paragraph has the prefix 'CONTEXT:'. Each conversation question has a prefix `Q:` followed by the answer prefix `A:`, and the follow-up question has a prefix `FOLLOWUP_Q:`.\n",
      "Definition_native:  Generate a topic word for the given sentence. A topic word is usually the name of a person, place, animal, concept or object the sentence is focusing on.\n",
      "Definition_change:  Generate a topic word for the given sentence. A topic word is usually the name of a person, place, animal, concept or object the sentence is focusing on.\n",
      "Definition_native:  Given an abstract of a paper, generate a title for this paper such that conveys the key focus of the paper.\n",
      "Definition_change:  Given an abstract of a paper, generate a title for this paper such that conveys the key focus of the paper.\n",
      "Definition_native:  You will be given one or more triples. The second part of each triple shows the relation between the first and the third element. Your task is to write a simple and short piece of text (sentence(s)) that describes the triples in natural language.\n",
      "Definition_change:  You will be given one or more triples. The second part of each triple shows the relation between the first and the third element. Your task is to write a simple and short piece of text (sentence(s)) that describes the triples in natural language.\n",
      "Definition_native:  Given a paragraph from a Wikipedia article about some topic, and a question related to the topic, determine whether the question is answerable from the paragraph. If the question is answerable, answer \"True\", otherwise, answer \"False\".\n",
      "Definition_change:  Given a paragraph from a Wikipedia article about some topic, and a question related to the topic, determine whether the question is answerable from the paragraph. If the question is answerable, answer \"True\", otherwise, answer \"False\".\n",
      "Definition_native:  You will see a sentence and a given pronoun. Answer with the word in the sentence to which the pronoun is referring.\n",
      "Definition_change:  You will see a sentence and a given pronoun. Answer with the word in the sentence to which the pronoun is referring.\n",
      "Definition_native:  In this task, you are given a context tweet, a question and corresponding answer of given question. Your task is to classify given passage into two categories: (1) \"yes\" if the given context is useful in answering the question, and (2) \"no\" if the given context is not useful.\n",
      "Definition_change:  In this task, you are given a context tweet, a question and corresponding answer of given question. Your task is to classify given passage into two categories: (1) \"yes\" if the given context is useful in answering the question, and (2) \"no\" if the given context is not useful.\n",
      "Definition_native:  Given an abstract, generate a keyword (a noun phrase) that best describes the focus or contribution of the paper. Such keywords can be directly from the given abstract or outside it.\n",
      "Definition_change:  Given an abstract, generate a keyword (a noun phrase) that best describes the focus or contribution of the paper. Such keywords can be directly from the given abstract or outside it.\n",
      "Definition_native:  Two analogies that relate items to the associated containers is given in the form \"A : B. C : ?\". \"A : B\" relates item A to its associated container B. Your task is to replace the question mark (?) with the appropriate container for the given item C, following the \"A : B\" relation.\n",
      "Definition_change:  Two analogies that relate items to the associated containers is given in the form \"A : B. C : ?\". \"A : B\" relates item A to its associated container B. Your task is to replace the question mark (?) with the appropriate container for the given item C, following the \"A : B\" relation.\n",
      "Definition_native:  Given a real-life anecdote of a complex ethical situation, generate a suitable title that describes the main event/root cause of the situation. Imagine that the given text is a social media post, and you have to write the title of the post, so the users can decide to read the main text or not.\n",
      "Definition_change:  Given a real-life anecdote of a complex ethical situation, generate a suitable title that describes the main event/root cause of the situation. Imagine that the given text is a social media post, and you have to write the title of the post, so the users can decide to read the main text or not.\n",
      "Definition_native:  Read the passage and find if the passage agrees, disagrees, or has a neutral stance on whether Global warming is caused by human activities. Answer only with keyword (a) agrees - if passage agrees with the target (b) disagrees - if passage disagrees with the target (c) neutral - if the given passage neither agrees nor disagrees with the target. You don't need to use external knowledge in this task, and you have to answer based on the given passage.\n",
      "Definition_change:  Read the passage and find if the passage agrees, disagrees, or has a neutral stance on whether Global warming is caused by human activities. Answer only with keyword (a) agrees - if passage agrees with the target (b) disagrees - if passage disagrees with the target (c) neutral - if the given passage neither agrees nor disagrees with the target. You don't need to use external knowledge in this task, and you have to answer based on the given passage.\n",
      "Definition_native:  Generate an overlapping word between the given two sentences. When you find the overlapping words, they don't have to match exactly, e.g., \"survival\" and \"survive\" are valid overlapping words. Little words like \"the\" or \"of\" don't count! You must generate significant words which are not the stop words.\n",
      "Definition_change:  Generate an overlapping word between the given two sentences. When you find the overlapping words, they don't have to match exactly, e.g., \"survival\" and \"survive\" are valid overlapping words. Little words like \"the\" or \"of\" don't count! You must generate significant words which are not the stop words.\n",
      "Definition_native:  Two analogies that relate places/locations to the associated travel mode is given in the form \"A : B. C : ?\". \"A : B\" relates place A to travel mode B. Your task is to replace the question mark (?) with the appropriate travel mode for the given place C, following the \"A : B\" relation.\n",
      "Definition_change:  Two analogies that relate places/locations to the associated travel mode is given in the form \"A : B. C : ?\". \"A : B\" relates place A to travel mode B. Your task is to replace the question mark (?) with the appropriate travel mode for the given place C, following the \"A : B\" relation.\n",
      "Definition_native:  In this task, you're given a pair of sentences, sentence 1 and sentence 2. Your job is to choose whether the two sentences clearly agree (entailment)/disagree (contradiction) with each other, or if this cannot be determined (neutral). Your answer must be in the form of the numbers 0 (entailment), 1 (neutral), or 2(contradiction).\n",
      "Definition_change:  In this task, you're given a pair of sentences, sentence 1 and sentence 2. Your job is to choose whether the two sentences clearly agree (entailment)/disagree (contradiction) with each other, or if this cannot be determined (neutral). Your answer must be in the form of the numbers 0 (entailment), 1 (neutral), or 2(contradiction).\n",
      "Definition_native:  Given a paragraph about movies and a set of conversational questions and answers about the paragraph, say whether the passage contains sufficient information to answer the follow-up question. Say Yes if it is answerable; otherwise, say No. The paragraph has the prefix 'CONTEXT:'. Each conversation question has a prefix `Q:` followed by the answer prefix `A:`, and the follow-up question has a prefix `FOLLOWUP_Q:`.\n",
      "Definition_change:  Given a paragraph about movies and a set of conversational questions and answers about the paragraph, say whether the passage contains sufficient information to answer the follow-up question. Say Yes if it is answerable; otherwise, say No. The paragraph has the prefix 'CONTEXT:'. Each conversation question has a prefix `Q:` followed by the answer prefix `A:`, and the follow-up question has a prefix `FOLLOWUP_Q:`.\n",
      "Definition_native:  In this task, you're given a question, along with a context passage. The passage will not have a direct answer to the question, but can include some information and a clue for the answer. Assuming you can only obtain information about one entity in the passage, your job is to determine whether information from the passage can be used to answer the question. Indicate your choice as `a` for Yes or `b` for No.\n",
      "Definition_change:  In this task, you're given a question, along with a context passage. The passage will not have a direct answer to the question, but can include some information and a clue for the answer. Assuming you can only obtain information about one entity in the passage, your job is to determine whether information from the passage can be used to answer the question. Indicate your choice as `a` for Yes or `b` for No.\n",
      "Definition_native:  In this task, you are given a premise, a hypothesis, and an update. The premise sentence describes a real-world situation and is always assumed to be true. The hypothesis sentence describes an assumption or inference that you might make about that situation having read the premise. The update provides additional information about the situation that might weaken or strengthen the hypothesis. A weakener is a statement that weakens the hypothesis, that is, it makes you much less likely to believe the hypothesis is true. A strengthener is a statement that strengthens the hypothesis, that is, it makes you much more likely to believe the hypothesis is true. Your task is to answer with 'strengthener' or 'weakener' if the update strengthens or weakens the hypothesis, respectively.\n",
      "Definition_change:  In this task, you are given a premise, a hypothesis, and an update. The premise sentence describes a real-world situation and is always assumed to be true. The hypothesis sentence describes an assumption or inference that you might make about that situation having read the premise. The update provides additional information about the situation that might weaken or strengthen the hypothesis. A weakener is a statement that weakens the hypothesis, that is, it makes you much less likely to believe the hypothesis is true. A strengthener is a statement that strengthens the hypothesis, that is, it makes you much more likely to believe the hypothesis is true. Your task is to answer with 'strengthener' or 'weakener' if the update strengthens or weakens the hypothesis, respectively.\n",
      "Definition_native:  In this task, you will be presented with a premise and a hypothesis sentence. Determine whether the hypothesis sentence entails (implies), contradicts (opposes), or is neutral with respect to the given premise. Please answer with \"Contradiction\", \"Neutral\", or \"Entailment\".\n",
      "Definition_change:  In this task, you will be presented with a premise and a hypothesis sentence. Determine whether the hypothesis sentence entails (implies), contradicts (opposes), or is neutral with respect to the given premise. Please answer with \"Contradiction\", \"Neutral\", or \"Entailment\".\n",
      "Definition_native:  Two analogies that relate actions with their consequences are given in the form \"A : B. C : ?\". The phrase \"A : B\" relates action A to consequence B. Your task is to replace the question mark (?) with the appropriate consquence of the given action C, following the \"A : B\" relation. Your answer should be a single verb, without further explanation.\n",
      "Definition_change:  Two analogies that relate actions with their consequences are given in the form \"A : B. C : ?\". The phrase \"A : B\" relates action A to consequence B. Your task is to replace the question mark (?) with the appropriate consquence of the given action C, following the \"A : B\" relation. Your answer should be a single verb, without further explanation.\n",
      "Definition_native:  In this task you are given a story and a question regarding that story. You must judge whether the question is answerable based on the info given to you. Label the instances as \"Answerable\" or \"Not Answerable\" based on your judgment. the story and the question are separated by a new line character.\n",
      "Definition_change:  In this task you are given a story and a question regarding that story. You must judge whether the question is answerable based on the info given to you. Label the instances as \"Answerable\" or \"Not Answerable\" based on your judgment. the story and the question are separated by a new line character.\n",
      "Definition_native:  In this task, you will use your knowledge about language (and common sense) to determine what element the marked number refers to. The numbers are marked with two underlines around them, like: _ number _. There are several possible answers, you'll need to choose the proper one. Carefully read the given text, pay special attention to the marked number, think about what (unwritten) information the marked number holds inside, choose the most adequate word(s) from the optional answers. If none of them seems right to you, there's also an option for other. If your answer is \"REFERENCE\", also write the reference entity, otherwise write the implicit option name. Options to choose from are:\n",
      "REFERENCE: Some object which is being mentioned in the text before or after the target number. The reference answer has a higher priority than any other. If both Reference and another answer are possible, prioritize the Reference.\n",
      "YEAR: Describing a calendric year\n",
      "AGE: Describing someone's age\n",
      "CURRENCY: Reference to some monetary value e.g dollar, euro etc.\n",
      "PEOPLE: Describing a single/plural persons\n",
      "TIME: Describing a time of the day. Usually you can add the word o'clock after those numbers.\n",
      "OTHER: Some other option, which isn't listed here.\n",
      "Definition_change:  In this task, you will use your knowledge about language (and common sense) to determine what element the marked number refers to. The numbers are marked with two underlines around them, like: _ number _. There are several possible answers, you'll need to choose the proper one. Carefully read the given text, pay special attention to the marked number, think about what (unwritten) information the marked number holds inside, choose the most adequate word(s) from the optional answers. If none of them seems right to you, there's also an option for other. If your answer is \"REFERENCE\", also write the reference entity, otherwise write the implicit option name. Options to choose from are:\n",
      "REFERENCE: Some object which is being mentioned in the text before or after the target number. The reference answer has a higher priority than any other. If both Reference and another answer are possible, prioritize the Reference.\n",
      "YEAR: Describing a calendric year\n",
      "AGE: Describing someone's age\n",
      "CURRENCY: Reference to some monetary value e.g dollar, euro etc.\n",
      "PEOPLE: Describing a single/plural persons\n",
      "TIME: Describing a time of the day. Usually you can add the word o'clock after those numbers.\n",
      "OTHER: Some other option, which isn't listed here.\n",
      "Definition_native:  You are given data in tabular format and you need to generate a passage with content in plain text format based on the information present in the table.\n",
      "Definition_change:  You are given data in tabular format and you need to generate a passage with content in plain text format based on the information present in the table.\n",
      "Definition_native:  You're given a fill-in-the-blank question where the answer is PersonX. You need to minimally change the given question so that the answer flips to PersonY. This task typically involves replacing one word i.e., the 'trigger word' with its antonym (e.g., changing from \"sympathetic\" to \"stern\"). You should not change any content in the given question beyond a word or two i.e. the trigger word/phrase. PersonX and PersonY should not be equally likely to fill the blank. For your question, PersonY should be a well-agreed answer to fill in the blank. Your generations should NOT contain potentially explicit, offensive, or adult content. Do not use the names of real people or generic names (e.g., Donald Trump, John Doe, etc.) in your question. Avoid repeating the same style or phrase in generating your modified question e.g. this task can be always solved using a simple negation i.e. by adding not, never, etc. Instead, try to increase the word diversity. Your question must contain at least 15 and at most 30 words. Your question must have at least 70% overlapping words with the given question. You must utilize the given context word while writing the question. Your question must contain only one blank. Make sure that PersonX and PersonY have the same gender. In your question, PersonX and PersonY should be used only ONCE and PersonX should appear earlier than PersonY. Although there are many correct answers, you only need to write one of them.\n",
      "Definition_change:  You're given a fill-in-the-blank question where the answer is PersonX. You need to minimally change the given question so that the answer flips to PersonY. This task typically involves replacing one word i.e., the 'trigger word' with its antonym (e.g., changing from \"sympathetic\" to \"stern\"). You should not change any content in the given question beyond a word or two i.e. the trigger word/phrase. PersonX and PersonY should not be equally likely to fill the blank. For your question, PersonY should be a well-agreed answer to fill in the blank. Your generations should NOT contain potentially explicit, offensive, or adult content. Do not use the names of real people or generic names (e.g., Donald Trump, John Doe, etc.) in your question. Avoid repeating the same style or phrase in generating your modified question e.g. this task can be always solved using a simple negation i.e. by adding not, never, etc. Instead, try to increase the word diversity. Your question must contain at least 15 and at most 30 words. Your question must have at least 70% overlapping words with the given question. You must utilize the given context word while writing the question. Your question must contain only one blank. Make sure that PersonX and PersonY have the same gender. In your question, PersonX and PersonY should be used only ONCE and PersonX should appear earlier than PersonY. Although there are many correct answers, you only need to write one of them.\n",
      "Definition_native:  In this task, you have to generate the title of the recipe given its required ingredients and directions.\n",
      "Definition_change:  In this task, you have to generate the title of the recipe given its required ingredients and directions.\n",
      "Definition_native:  In this task, you will be given two sentences separated by \", so\". You should decide whether the first sentence can be the cause of the second sentence. If you can see a possible causation, answer with \"plausible\", otherwise answer with \"not plausible\".\n",
      "Definition_change:  In this task, you will be given two sentences separated by \", so\". You should decide whether the first sentence can be the cause of the second sentence. If you can see a possible causation, answer with \"plausible\", otherwise answer with \"not plausible\".\n",
      "Definition_native:  Read the passage and find the corresponding person for the given pronoun. The word between ** ** is the target pronoun.\n",
      "Definition_change:  Read the passage and find the corresponding person for the given pronoun. The word between ** ** is the target pronoun.\n",
      "Definition_native:  In this task, you are given an abstract of article. Your task is to generate title for this article. Preferred titles are under thirty words.\n",
      "Definition_change:  In this task, you are given an abstract of article. Your task is to generate title for this article. Preferred titles are under thirty words.\n",
      "Definition_native:  Given a text passage, you need to generate a suitable title as the output. The output title should be one of the words/phrases used in the passage and must be no longer than five words. \n",
      "Definition_change:  Given a text passage, you need to generate a suitable title as the output. The output title should be one of the words/phrases used in the passage and must be no longer than five words. \n",
      "Definition_native:  Given a disfluent sentence, modify the sentence to it to its equivalent fluent form, preserving the meaning of the sentence.\n",
      "Definition_change:  Given a disfluent sentence, modify the sentence to it to its equivalent fluent form, preserving the meaning of the sentence.\n",
      "Definition_native:  In this task, you are given triplets. Each triplet is in the form of [subject, predicate, object]. Your task is to generate proper sentence that utilizes these triples. The objective is to construct a sentence that (a) captures the facts specified in the triples and (b) is a well-formed sentence easily understandable by a human. All triple values need not be used directly in the sentence as long as the facts are adequately captured.\n",
      "Definition_change:  In this task, you are given triplets. Each triplet is in the form of [subject, predicate, object]. Your task is to generate proper sentence that utilizes these triples. The objective is to construct a sentence that (a) captures the facts specified in the triples and (b) is a well-formed sentence easily understandable by a human. All triple values need not be used directly in the sentence as long as the facts are adequately captured.\n",
      "Definition_native:  You need to answer a given question containing a blank (_). Your answer must be one of the two objects mentioned in the question, for example \"trophy\" and \"suitcase\". Your answer must not contain a word that is not present in the question. Please don't use articles (e.g., the, a) before the answer.\n",
      "Definition_change:  You need to answer a given question containing a blank (_). Your answer must be one of the two objects mentioned in the question, for example \"trophy\" and \"suitcase\". Your answer must not contain a word that is not present in the question. Please don't use articles (e.g., the, a) before the answer.\n",
      "Definition_native:  In this task you are given a list of triplets of the form [subject, predicate, object] and the output should be a question based on the triplets but with the subject and/or object replaced with blanks (represented using two or more consecutive underscores). Triplet values encompassed in [*] are special tokens that can be replaced with synonyms. The objective is to construct a question in a manner that (a) captures the facts specified in at least one of the triplets, and (b) ideally contains a limited number of blanks such that it is a well-formed question that is easy to answer. A blank can represent a single word or a phrase.\n",
      "Definition_change:  In this task you are given a list of triplets of the form [subject, predicate, object] and the output should be a question based on the triplets but with the subject and/or object replaced with blanks (represented using two or more consecutive underscores). Triplet values encompassed in [*] are special tokens that can be replaced with synonyms. The objective is to construct a question in a manner that (a) captures the facts specified in at least one of the triplets, and (b) ideally contains a limited number of blanks such that it is a well-formed question that is easy to answer. A blank can represent a single word or a phrase.\n",
      "Definition_native:  Compose a new way to ask the same question. The new question must be asking the exact same thing as the original question does. Without any other information, you should be able to tell that the original question and the new question are the same. Preserve bracketed phrases in your new question. You can change the rest of the question provided the above requirements are satisfied. The new question must have a natural, fluent formulation, as if it were composed by a native English speaker. You will be given three pieces of information to help you create better questions. Those are: \"Answer\": the answer to the question, e.g., \"Honolulu\". \"Answer Type\": the type of the answer, e.g., \"Location\". \"Auxiliary Information\" is a detailed description of some concepts mentioned in the question, if any.\n",
      "Definition_change:  Compose a new way to ask the same question. The new question must be asking the exact same thing as the original question does. Without any other information, you should be able to tell that the original question and the new question are the same. Preserve bracketed phrases in your new question. You can change the rest of the question provided the above requirements are satisfied. The new question must have a natural, fluent formulation, as if it were composed by a native English speaker. You will be given three pieces of information to help you create better questions. Those are: \"Answer\": the answer to the question, e.g., \"Honolulu\". \"Answer Type\": the type of the answer, e.g., \"Location\". \"Auxiliary Information\" is a detailed description of some concepts mentioned in the question, if any.\n",
      "Definition_native:  In this task, you're given a statement and three sentences as choices. Your job is to determine the neutral choice based on your inference from the statement and your commonsense knowledge. The neutral choice is a sentence that neither agrees nor disagrees with the statement. Indicate your answer as '1', '2', or '3', corresponding to the choice number of the selected sentence. If sentence X agrees with sentence Y, one's correctness follows from the other one. If sentence X disagrees with sentence Y, they can not be correct at the same time.\n",
      "Definition_change:  In this task, you're given a statement and three sentences as choices. Your job is to determine the neutral choice based on your inference from the statement and your commonsense knowledge. The neutral choice is a sentence that neither agrees nor disagrees with the statement. Indicate your answer as '1', '2', or '3', corresponding to the choice number of the selected sentence. If sentence X agrees with sentence Y, one's correctness follows from the other one. If sentence X disagrees with sentence Y, they can not be correct at the same time.\n",
      "Definition_native:  In this task you will be given a question and a passage. You need to determine if the answer to the question is contained in the passage. If the answer can be found in the passage you should output 'True'. If the answer cannot be found in the passage you should output 'False'.\n",
      "Definition_change:  In this task you will be given a question and a passage. You need to determine if the answer to the question is contained in the passage. If the answer can be found in the passage you should output 'True'. If the answer cannot be found in the passage you should output 'False'.\n",
      "Definition_native:  Read the passage and find the corresponding pronoun for the given name. The word between ** ** is the target name. The pronoun should be one of 'her', 'him', 'he', 'she' and 'his' with proper casing based on the position in the passage.\n",
      "Definition_change:  Read the passage and find the corresponding pronoun for the given name. The word between ** ** is the target name. The pronoun should be one of 'her', 'him', 'he', 'she' and 'his' with proper casing based on the position in the passage.\n",
      "Definition_native:  In this task your given two statements. You must judge whether the second sentence is the cause or effect of the first one. Label the instances as \"cause\" or \"effect\" based on your judgment. The sentences are separated by a newline character.\n",
      "Definition_change:  In this task your given two statements. You must judge whether the second sentence is the cause or effect of the first one. Label the instances as \"cause\" or \"effect\" based on your judgment. The sentences are separated by a newline character.\n",
      "Definition_native:  Given a text passage, come up with an appropriate title for it. The title should accurately represent what the main focus of the passage is. The title of a passage may be present in the first few sentences of the passage and/or be referred to multiple times in the passage. The title should be 1-5 words long.\n",
      "Definition_change:  Given a text passage, come up with an appropriate title for it. The title should accurately represent what the main focus of the passage is. The title of a passage may be present in the first few sentences of the passage and/or be referred to multiple times in the passage. The title should be 1-5 words long.\n",
      "Definition_native:  Two analogies that relate items to whether they are trash or treasure is given in the form \"A : B. C : ?\". Items marked as \"trash\" are considered to not have value and can be disposed, whereas those marked as \"treasure\" are considered valuable items that must be retained. \"A : \"B relates item A to whether it is trash or treasure, as specified by B. Your task is to replace the question mark (?) with either `trash` or `treasure` for the given item C, following the \"A : B\" relation.\n",
      "Definition_change:  Two analogies that relate items to whether they are trash or treasure is given in the form \"A : B. C : ?\". Items marked as \"trash\" are considered to not have value and can be disposed, whereas those marked as \"treasure\" are considered valuable items that must be retained. \"A : \"B relates item A to whether it is trash or treasure, as specified by B. Your task is to replace the question mark (?) with either `trash` or `treasure` for the given item C, following the \"A : B\" relation.\n",
      "Definition_native:  In this task, you will be presented with a premise and a hypothesis sentence. Determine whether the hypothesis sentence entails (implies), contradicts (opposes), or is neutral with respect to the given premise sentence. Please answer with \"Contradiction\", \"Neutral\", or \"Entailment\".\n",
      "Definition_change:  In this task, you will be presented with a premise and a hypothesis sentence. Determine whether the hypothesis sentence entails (implies), contradicts (opposes), or is neutral with respect to the given premise sentence. Please answer with \"Contradiction\", \"Neutral\", or \"Entailment\".\n",
      "Definition_native:  You have to predict the type of conversation sentence given as input. Your predictions can be one among: 'information' if the input statement states a piece of information, 'question' if the input statement asks for some information, 'directive' if the input sentence involves the management or guidance of operations, and 'commissive' when it constitutes a statement that commits the speaker to some future action.\n",
      "Definition_change:  You have to predict the type of conversation sentence given as input. Your predictions can be one among: 'information' if the input statement states a piece of information, 'question' if the input statement asks for some information, 'directive' if the input sentence involves the management or guidance of operations, and 'commissive' when it constitutes a statement that commits the speaker to some future action.\n",
      "Definition_native:  In this task, you are given a premise and hypothesis. The task is to classify them into three categories: 'positive' if the hypothesis supports the premise, 'negated' if it opposes the premise, and 'neutral' if it neither supports nor opposes it.\n",
      "Definition_change:  In this task, you are given a premise and hypothesis. The task is to classify them into three categories: 'positive' if the hypothesis supports the premise, 'negated' if it opposes the premise, and 'neutral' if it neither supports nor opposes it.\n",
      "Definition_native:  In this task, you are given four sentences: a bot task sentence, a bot role sentence, a user task sentence and a user role sentence. Your job is to classify given sentences into one of the 47 different domains. The domains are: 'UPDATE_CALENDAR', 'PRESENT_IDEAS', 'MOVIE_LISTINGS', 'AUTO_SORT', 'GAME_RULES', 'CONTACT_MANAGER', 'BANK_BOT', 'MUSIC_SUGGESTER', 'CHECK_STATUS', 'PET_ADVICE', 'HOW_TO_BASIC', 'NAME_SUGGESTER', 'QUOTE_OF_THE_DAY_BOT', 'GUINESS_CHECK', 'INSURANCE', 'RESTAURANT_PICKER', 'MAKE_RESTAURANT_RESERVATIONS', 'WEDDING_PLANNER', 'SKI_BOT', 'HOME_BOT', 'PLAY_TIMES', 'BUS_SCHEDULE_BOT', 'WHAT_IS_IT', 'PHONE_PLAN_BOT', 'DECIDER_BOT', 'PHONE_SETTINGS', 'TIME_ZONE', 'LIBRARY_REQUEST', 'UPDATE_CONTACT', 'CATALOGUE_BOT', 'PROMPT_GENERATOR', 'SCAM_LOOKUP', 'SPORTS_INFO', 'POLICY_BOT', 'CITY_INFO', 'APARTMENT_FINDER', 'EVENT_RESERVE', 'SHOPPING', 'EDIT_PLAYLIST', 'LOOK_UP_INFO', 'ORDER_PIZZA', 'WEATHER_CHECK', 'APPOINTMENT_REMINDER', 'GEOGRAPHY', 'STORE_DETAILS', 'AGREEMENT_BOT', 'ALARM_SET'.\n",
      "Definition_change:  In this task, you are given four sentences: a bot task sentence, a bot role sentence, a user task sentence and a user role sentence. Your job is to classify given sentences into one of the 47 different domains. The domains are: 'UPDATE_CALENDAR', 'PRESENT_IDEAS', 'MOVIE_LISTINGS', 'AUTO_SORT', 'GAME_RULES', 'CONTACT_MANAGER', 'BANK_BOT', 'MUSIC_SUGGESTER', 'CHECK_STATUS', 'PET_ADVICE', 'HOW_TO_BASIC', 'NAME_SUGGESTER', 'QUOTE_OF_THE_DAY_BOT', 'GUINESS_CHECK', 'INSURANCE', 'RESTAURANT_PICKER', 'MAKE_RESTAURANT_RESERVATIONS', 'WEDDING_PLANNER', 'SKI_BOT', 'HOME_BOT', 'PLAY_TIMES', 'BUS_SCHEDULE_BOT', 'WHAT_IS_IT', 'PHONE_PLAN_BOT', 'DECIDER_BOT', 'PHONE_SETTINGS', 'TIME_ZONE', 'LIBRARY_REQUEST', 'UPDATE_CONTACT', 'CATALOGUE_BOT', 'PROMPT_GENERATOR', 'SCAM_LOOKUP', 'SPORTS_INFO', 'POLICY_BOT', 'CITY_INFO', 'APARTMENT_FINDER', 'EVENT_RESERVE', 'SHOPPING', 'EDIT_PLAYLIST', 'LOOK_UP_INFO', 'ORDER_PIZZA', 'WEATHER_CHECK', 'APPOINTMENT_REMINDER', 'GEOGRAPHY', 'STORE_DETAILS', 'AGREEMENT_BOT', 'ALARM_SET'.\n",
      "Definition_native:  In this task, you will use your knowledge about language (and common sense) to determine what element the marked number refers to. The numbers are marked with two underlines around them, like: _ number _. Your answer should be chosen from the given text, and should not contain other words.\n",
      "Definition_change:  In this task, you will use your knowledge about language (and common sense) to determine what element the marked number refers to. The numbers are marked with two underlines around them, like: _ number _. Your answer should be chosen from the given text, and should not contain other words.\n",
      "Definition_native:  The task is to write a full sentence or two using all of the information given. The sentence(s) will be a brief review of a restaurant. Use all of the information provided.\n",
      "Definition_change:  The task is to write a full sentence or two using all of the information given. The sentence(s) will be a brief review of a restaurant. Use all of the information provided.\n",
      "Definition_native:  In this task, given 2 input sentences, you must classify the relation between them. If the second sentence has a similar meaning to that of the first sentence then the output is ' B_entails_A', if the second sentence has the opposite meaning to the first sentence then it is classified as ' B_contradicts_A'. If you cannot clearly ascertain agreement/disagreement between the two sentences, the label is ' B_neutral_A'.\n",
      "Definition_change:  In this task, given 2 input sentences, you must classify the relation between them. If the second sentence has a similar meaning to that of the first sentence then the output is ' B_entails_A', if the second sentence has the opposite meaning to the first sentence then it is classified as ' B_contradicts_A'. If you cannot clearly ascertain agreement/disagreement between the two sentences, the label is ' B_neutral_A'.\n",
      "Definition_native:  In this task, you will be given two sentences sentence1 and sentence2. You should decide whether the second sentence is entailed(agreed) by the first sentence. If it does entail, answer \"yes\", else answer \"no\".\n",
      "Definition_change:  In this task, you will be given two sentences sentence1 and sentence2. You should decide whether the second sentence is entailed(agreed) by the first sentence. If it does entail, answer \"yes\", else answer \"no\".\n",
      "Definition_native:  You are given a context, a pronoun, and a noun in this task. The given pronoun is shown in the context within parentheses. You should determine if the pronoun refers to the given noun or not. Please answer with \"True\" and \"False\".\n",
      "Definition_change:  You are given a context, a pronoun, and a noun in this task. The given pronoun is shown in the context within parentheses. You should determine if the pronoun refers to the given noun or not. Please answer with \"True\" and \"False\".\n",
      "Definition_native:  In this task, you're given a pair of sentences, sentence 1 and sentence 2. Your job is to determine if the two sentences clearly agree/disagree with each other, or if this can't be determined. Indicate your answer as yes or no respectively.\n",
      "Definition_change:  In this task, you're given a pair of sentences, sentence 1 and sentence 2. Your job is to determine if the two sentences clearly agree/disagree with each other, or if this can't be determined. Indicate your answer as yes or no respectively.\n",
      "Definition_native:  In this task, you're given a fill-in-the-blank question that contains two object names. Additionally, you're given one answer which is one of the objects present in the question. In this task, you need to minimally change the given question so that the answer flips to another object in the question. Remember the question has to be about both objects which are related but different; for example, \"trophy\" and \"suitcase\". This task typically involves replacing one word i.e., the 'trigger word' with its antonym (e.g., changing from \"small\" to \"big\"). You should not change any content in the given question beyond a word or two, i.e., the trigger word/phrase. The expected answer to your question must not be associated with just the trigger word; instead, it should depend on the context present in the question. The expected answer should not be ambiguous. For your question, there should be an agreed upon answer to fill in the blank. Your generations should NOT contain potentially explicit, offensive, or adult content. In your generated question, retain the object names from the input question. Avoid repeating the same style or phrase in generating your modified question e.g. this task can be always solved using a simple negation i.e. by adding not, never, etc. Instead, try to increase the word diversity. Your question must contain at least 15 and at most 30 words. Your question must have at least 70% overlapping words with the given question. You must utilize the given context word while writing the question. Your question must contain only one blank. The two objects should be used ONCE in your question. Here is a list of attributes and associated contrastive words that may help write contrastive trigger words. Note that contrastive trigger words help in flipping the label.\n",
      "| Attribute | triggerword | contrastive triggerword | \n",
      "| age | old | new | \n",
      "| altitude | low | high |\n",
      "| area | small | vast | \n",
      "| brightness | dark | light | \n",
      "| clarity | obscure | clear | \n",
      "| cleanness | dirty | clean | \n",
      "| complexity | simple | complex | \n",
      "| cost | cheap | expensive |\n",
      "| density | sparse | dense |\n",
      "| depth | shallow | deep |\n",
      "| distance | near | far |  \n",
      "| electric conductivity | low | high |\n",
      "| flexibility | rigid | flexible |\n",
      "| granularity | fine | coarse | \n",
      "| hardness | soft | hard | \n",
      "| length | short | long | \n",
      "| magnitude | small | large | \n",
      "| mass | small | large | \n",
      "| odor | weak | strong | \n",
      "| pressure | low | high | \n",
      "| resistance | low | high | \n",
      "| shape | round | sharp |\n",
      "| shape | flat | spiky |\n",
      "| size | small | large | \n",
      "| sound | quiet | loud | \n",
      "| sound pitch | low | high | \n",
      "| speed | slow | fast | \n",
      "| stability | unstable | stable | \n",
      "| strength | weak | strong | \n",
      "| temperature | low | high | \n",
      "| texture | smooth | rough | \n",
      "| thermal conductivity | low | high |\n",
      "| thickness | thin | thick | \n",
      "| volume | small | large |\n",
      "| weight | light | heavy | \n",
      "| width | narrow | wide | \n",
      "| location | in | out |\n",
      "| location | up | down |\n",
      "| location | above | below |\n",
      "| location | on | off |\n",
      "| location | to | from |\n",
      "\n",
      "Definition_change:  In this task, you're given a fill-in-the-blank question that contains two object names. Additionally, you're given one answer which is one of the objects present in the question. In this task, you need to minimally change the given question so that the answer flips to another object in the question. Remember the question has to be about both objects which are related but different; for example, \"trophy\" and \"suitcase\". This task typically involves replacing one word i.e., the 'trigger word' with its antonym (e.g., changing from \"small\" to \"big\"). You should not change any content in the given question beyond a word or two, i.e., the trigger word/phrase. The expected answer to your question must not be associated with just the trigger word; instead, it should depend on the context present in the question. The expected answer should not be ambiguous. For your question, there should be an agreed upon answer to fill in the blank. Your generations should NOT contain potentially explicit, offensive, or adult content. In your generated question, retain the object names from the input question. Avoid repeating the same style or phrase in generating your modified question e.g. this task can be always solved using a simple negation i.e. by adding not, never, etc. Instead, try to increase the word diversity. Your question must contain at least 15 and at most 30 words. Your question must have at least 70% overlapping words with the given question. You must utilize the given context word while writing the question. Your question must contain only one blank. The two objects should be used ONCE in your question. Here is a list of attributes and associated contrastive words that may help write contrastive trigger words. Note that contrastive trigger words help in flipping the label.\n",
      "| Attribute | triggerword | contrastive triggerword | \n",
      "| age | old | new | \n",
      "| altitude | low | high |\n",
      "| area | small | vast | \n",
      "| brightness | dark | light | \n",
      "| clarity | obscure | clear | \n",
      "| cleanness | dirty | clean | \n",
      "| complexity | simple | complex | \n",
      "| cost | cheap | expensive |\n",
      "| density | sparse | dense |\n",
      "| depth | shallow | deep |\n",
      "| distance | near | far |  \n",
      "| electric conductivity | low | high |\n",
      "| flexibility | rigid | flexible |\n",
      "| granularity | fine | coarse | \n",
      "| hardness | soft | hard | \n",
      "| length | short | long | \n",
      "| magnitude | small | large | \n",
      "| mass | small | large | \n",
      "| odor | weak | strong | \n",
      "| pressure | low | high | \n",
      "| resistance | low | high | \n",
      "| shape | round | sharp |\n",
      "| shape | flat | spiky |\n",
      "| size | small | large | \n",
      "| sound | quiet | loud | \n",
      "| sound pitch | low | high | \n",
      "| speed | slow | fast | \n",
      "| stability | unstable | stable | \n",
      "| strength | weak | strong | \n",
      "| temperature | low | high | \n",
      "| texture | smooth | rough | \n",
      "| thermal conductivity | low | high |\n",
      "| thickness | thin | thick | \n",
      "| volume | small | large |\n",
      "| weight | light | heavy | \n",
      "| width | narrow | wide | \n",
      "| location | in | out |\n",
      "| location | up | down |\n",
      "| location | above | below |\n",
      "| location | on | off |\n",
      "| location | to | from |\n",
      "\n",
      "Definition_native:  In this task you need to indicate the plausibility of reasoning for the pronoun coreference relations. Each of the provided inputs contains a sentence with a target pronoun and a sentence that justifies which noun phrase the pronoun refers to. Correct reasons do not need to use all the knowledge from the sentence. The resolution of the pronoun coreference relations typically involve one or multiple following knowledge types about commonsense: First: 'Property', the knowledge about property of objects (e.g., ice is cold). Second: 'Object', the knowledge about objects (e.g., cats have ears). Third: 'Eventuality', the knowledge about eventuality (e.g., 'wake up' happens before 'open eyes'). Forth: 'Spatial', the knowledge about spatial position (e.g., object at the back can be blocked). Fifth: 'Quantity', the knowledge about numbers (e.g., 2 is smaller than 10). Sixth: all other knowledge if above ones are not suitable. You should answer 'Correct' if the reasoning made sense, otherwise, you should answer 'Wrong'.\n",
      "Definition_change:  In this task you need to indicate the plausibility of reasoning for the pronoun coreference relations. Each of the provided inputs contains a sentence with a target pronoun and a sentence that justifies which noun phrase the pronoun refers to. Correct reasons do not need to use all the knowledge from the sentence. The resolution of the pronoun coreference relations typically involve one or multiple following knowledge types about commonsense: First: 'Property', the knowledge about property of objects (e.g., ice is cold). Second: 'Object', the knowledge about objects (e.g., cats have ears). Third: 'Eventuality', the knowledge about eventuality (e.g., 'wake up' happens before 'open eyes'). Forth: 'Spatial', the knowledge about spatial position (e.g., object at the back can be blocked). Fifth: 'Quantity', the knowledge about numbers (e.g., 2 is smaller than 10). Sixth: all other knowledge if above ones are not suitable. You should answer 'Correct' if the reasoning made sense, otherwise, you should answer 'Wrong'.\n",
      "Definition_native:  Given the Question and Answer pair, detect whether the answer is acceptable or not. Denote acceptable answer as \"yes\", otherwise denote as \"no\". An acceptable answer is consistent with the context in question, detailed, long, and uses general knowledge of English. Answers that are not definite and suggest a variety of options are not acceptable answers.\n",
      "Definition_change:  Given the Question and Answer pair, detect whether the answer is acceptable or not. Denote acceptable answer as \"yes\", otherwise denote as \"no\". An acceptable answer is consistent with the context in question, detailed, long, and uses general knowledge of English. Answers that are not definite and suggest a variety of options are not acceptable answers.\n",
      "Definition_native:  In this task, you are given a Reddit post as a text. Your task is to generate a title for this text. The title should start with \"TIFU by\", followed by a situation that caused humor. The title should contain 7-12 words, ideally.\n",
      "Definition_change:  In this task, you are given a Reddit post as a text. Your task is to generate a title for this text. The title should start with \"TIFU by\", followed by a situation that caused humor. The title should contain 7-12 words, ideally.\n",
      "Definition_native:  In this task, you are given a premise, a hypothesis, and an update. The premise sentence describes a real-world situation and is always assumed to be true. The hypothesis sentence describes an assumption or inference that you might make about that situation having read the premise. The update provides additional information about the situation that might weaken or strengthen the hypothesis. A weakener is a statement that weakens the hypothesis. It makes you much less likely to believe the hypothesis is true. A strengthener is a statement that strengthens the hypothesis. It makes you much more likely to believe the hypothesis is true. Your task is to output 'strengthener' or 'weakener' if the update strengths or weakens the hypothesis, respectively.\n",
      "Definition_change:  In this task, you are given a premise, a hypothesis, and an update. The premise sentence describes a real-world situation and is always assumed to be true. The hypothesis sentence describes an assumption or inference that you might make about that situation having read the premise. The update provides additional information about the situation that might weaken or strengthen the hypothesis. A weakener is a statement that weakens the hypothesis. It makes you much less likely to believe the hypothesis is true. A strengthener is a statement that strengthens the hypothesis. It makes you much more likely to believe the hypothesis is true. Your task is to output 'strengthener' or 'weakener' if the update strengths or weakens the hypothesis, respectively.\n",
      "Definition_native:  In this task, you are given a passage and a question regarding that passage. You must determine whether or not the question is answerable from the given passage. If a question is answerable, output should be 'True', otherwise 'False'. You must not consider any other information that is not provided in the passage while labelling True or False.\n",
      "Definition_change:  In this task, you are given a passage and a question regarding that passage. You must determine whether or not the question is answerable from the given passage. If a question is answerable, output should be 'True', otherwise 'False'. You must not consider any other information that is not provided in the passage while labelling True or False.\n",
      "Definition_native:  Two analogies that relate objects to the associated rooms is given in the form \"A : B. C : ?\". \"A : B\" relates object A to room B. Your task is to replace the question mark (?) with the appropriate room for the given object C, following the \"A : B\" relation.\n",
      "Definition_change:  Two analogies that relate objects to the associated rooms is given in the form \"A : B. C : ?\". \"A : B\" relates object A to room B. Your task is to replace the question mark (?) with the appropriate room for the given object C, following the \"A : B\" relation.\n",
      "Definition_native:  In this task, you are given a hypothesis and an update. The hypothesis sentence is a statement that speaks of a socially normative behavior. In other words, it is a generalizing statement about how we expect people to behave in society. The update provides additional contexts about the situation that might UNDERMINE or SUPPORT the generalization. An undermining context provides a situation that weakens the hypothesis. A supporting context provides a situation that strengthens the generalization. Your task is to output 'strengthener' or 'weakener' if the update supports or undermines the hypothesis, respectively\n",
      "Definition_change:  In this task, you are given a hypothesis and an update. The hypothesis sentence is a statement that speaks of a socially normative behavior. In other words, it is a generalizing statement about how we expect people to behave in society. The update provides additional contexts about the situation that might UNDERMINE or SUPPORT the generalization. An undermining context provides a situation that weakens the hypothesis. A supporting context provides a situation that strengthens the generalization. Your task is to output 'strengthener' or 'weakener' if the update supports or undermines the hypothesis, respectively\n",
      "Definition_native:  In this task, you are provided with an article about the legal acts. Your task is to generate a headline for that article.\n",
      "Definition_change:  In this task, you are provided with an article about the legal acts. Your task is to generate a headline for that article.\n",
      "Definition_native:  In this task, you will be presented with a premise and a hypothesis sentence. Determine whether the hypothesis sentence entails (implies), contradicts (opposes), or is neutral with respect to the given premise. Please answer with \"Contradiction\", \"Neutral\", or \"Entailment\".\n",
      "Definition_change:  In this task, you will be presented with a premise and a hypothesis sentence. Determine whether the hypothesis sentence entails (implies), contradicts (opposes), or is neutral with respect to the given premise. Please answer with \"Contradiction\", \"Neutral\", or \"Entailment\".\n",
      "Definition_native:  In this task, you're given an ambiguous question (which can be answered in more than one way). Your task is to provide one question which clarifies the input question and it has one unique answer, and also provide an answer to the generated question. Generated question and answer should be separated with a new line.\n",
      "Definition_change:  In this task, you're given an ambiguous question (which can be answered in more than one way). Your task is to provide one question which clarifies the input question and it has one unique answer, and also provide an answer to the generated question. Generated question and answer should be separated with a new line.\n",
      "Definition_native:  In this task, you are given two questions about a domain. Your task is to combine the main subjects of the questions to write a new, natural-sounding question. For example, if the first question is about the tallness of the president and the second question is about his performance at college, the new question can be about his tallness at college. Try to find the main idea of each question, then combine them; you can use different words or make the subjects negative (i.e., ask about shortness instead of tallness) to combine the subjects. The questions are in three domains: presidents, national parks, and dogs. Each question has a keyword indicating its domain. Keywords are \"this national park\", \"this dog breed\", and \"this president\", which will be replaced with the name of an actual president, a national park, or a breed of dog. Hence, in the new question, this keyword should also be used the same way. Do not write unnatural questions. (i.e., would not be a question someone might normally ask about domains). Do not write open-ended or subjective questions. (e.g., questions that can be answered differently by different people.) If you couldn't find the answer to your question from a single Google search, try to write a different question. You do not have to stick with the original question word for word, but you should try to create a question that combines the main subjects of the question.\n",
      "Definition_change:  In this task, you are given two questions about a domain. Your task is to combine the main subjects of the questions to write a new, natural-sounding question. For example, if the first question is about the tallness of the president and the second question is about his performance at college, the new question can be about his tallness at college. Try to find the main idea of each question, then combine them; you can use different words or make the subjects negative (i.e., ask about shortness instead of tallness) to combine the subjects. The questions are in three domains: presidents, national parks, and dogs. Each question has a keyword indicating its domain. Keywords are \"this national park\", \"this dog breed\", and \"this president\", which will be replaced with the name of an actual president, a national park, or a breed of dog. Hence, in the new question, this keyword should also be used the same way. Do not write unnatural questions. (i.e., would not be a question someone might normally ask about domains). Do not write open-ended or subjective questions. (e.g., questions that can be answered differently by different people.) If you couldn't find the answer to your question from a single Google search, try to write a different question. You do not have to stick with the original question word for word, but you should try to create a question that combines the main subjects of the question.\n",
      "Definition_native:  In this task you're given a question and you have to paraphrase the question to create the output question while retaining the meaning of the original question.\n",
      "Definition_change:  In this task you're given a question and you have to paraphrase the question to create the output question while retaining the meaning of the original question.\n",
      "Definition_native:  In this task, you will be presented with a text and a pronoun. You should write the name that the pronoun refers to. Position of the pronoun in the text is showed within two \"_\"s.\n",
      "Definition_change:  In this task, you will be presented with a text and a pronoun. You should write the name that the pronoun refers to. Position of the pronoun in the text is showed within two \"_\"s.\n",
      "Definition_native:  Given an Amazon customer review, write a title for the review. The preferred titles are under fifteen words.\n",
      "Definition_change:  Given an Amazon customer review, write a title for the review. The preferred titles are under fifteen words.\n",
      "Definition_native:  In this task, you will be presented with a text, a pronoun from the text, and two candidate names. You should determine what the pronoun refers to and classify the answers into A, B, or Neither. A and B here are referring to option A and option B. Position of the pronoun in the text is showed within two \"_\"s.\n",
      "Definition_change:  In this task, you will be presented with a text, a pronoun from the text, and two candidate names. You should determine what the pronoun refers to and classify the answers into A, B, or Neither. A and B here are referring to option A and option B. Position of the pronoun in the text is showed within two \"_\"s.\n",
      "Definition_native:  You will be given three sentences. Read them, then identify a noun phrase (person, place, or thing) or event that is shared between all three sentences. As the output, write the span of the text corresponding to that phrase in each sentence. Keep the order of the sentences, that is, your answer should look like: 1: *a phras from sentence 1e* 2: *a phras from sentence 2* 3: *a phrase from sentence 3*\n",
      "Definition_change:  You will be given three sentences. Read them, then identify a noun phrase (person, place, or thing) or event that is shared between all three sentences. As the output, write the span of the text corresponding to that phrase in each sentence. Keep the order of the sentences, that is, your answer should look like: 1: *a phras from sentence 1e* 2: *a phras from sentence 2* 3: *a phrase from sentence 3*\n",
      "Definition_native:  In this task, you need to write a topic word from the given fact. The topic word must have at least one word overlap with the given fact. The topic word often involves adding a new word from a related concept. In your topic word, use at least one word from the given fact. Topic words with two or more words work best.\n",
      "Definition_change:  In this task, you need to write a topic word from the given fact. The topic word must have at least one word overlap with the given fact. The topic word often involves adding a new word from a related concept. In your topic word, use at least one word from the given fact. Topic words with two or more words work best.\n",
      "Definition_native:  In this task, you are given two statements. The task is to output whether a given textual premise, i.e. Statement 2, entails or implies a given scientific fact, i.e. Statement 1. The output should be 'entails' if Statement 2 supports Statement 1 and should be 'neutral' otherwise.\n",
      "Definition_change:  In this task, you are given two statements. The task is to output whether a given textual premise, i.e. Statement 2, entails or implies a given scientific fact, i.e. Statement 1. The output should be 'entails' if Statement 2 supports Statement 1 and should be 'neutral' otherwise.\n",
      "Definition_native:  You are given a sentence and a question in the input. If the information provided in the sentence is enough to answer the question, label \"Yes\", otherwise label \"No\". Do not use any facts other than those provided in the sentence while labeling \"Yes\" or \"No\". There are only two types of valid responses: Yes and No.\n",
      "Definition_change:  You are given a sentence and a question in the input. If the information provided in the sentence is enough to answer the question, label \"Yes\", otherwise label \"No\". Do not use any facts other than those provided in the sentence while labeling \"Yes\" or \"No\". There are only two types of valid responses: Yes and No.\n",
      "Definition_native:  \"Yes, and\" is a rule-of-thumb in improvisational comedy that suggests that a participant in a dialogue should accept what another participant has stated (\"Yes\") and then expand on that line of thought or context (\"and...\"). Given a prompt and two responses, identify which response is the type of \"yes, and\". Indicate your answer by 'Response 1' if the first response is correct, otherwise 'Response 2'.  Note that a \"Yes, and\" does not require someone explicitly saying 'yes, and...' as part of a dialogue exchange.\n",
      "Definition_change:  \"Yes, and\" is a rule-of-thumb in improvisational comedy that suggests that a participant in a dialogue should accept what another participant has stated (\"Yes\") and then expand on that line of thought or context (\"and...\"). Given a prompt and two responses, identify which response is the type of \"yes, and\". Indicate your answer by 'Response 1' if the first response is correct, otherwise 'Response 2'.  Note that a \"Yes, and\" does not require someone explicitly saying 'yes, and...' as part of a dialogue exchange.\n",
      "Definition_native:  In this task, you will be shown an incorrect English sentence. You need to generate a corrected form of the input sentence.\n",
      "Definition_change:  In this task, you will be shown an incorrect English sentence. You need to generate a corrected form of the input sentence.\n",
      "Definition_native:  In each example you will read a short sentence (or two). Then, a pronoun in the text is mentioned. Your task is to choose a referent which the mentioned pronoun refers to. You will be given two options in each case and one choice should seem much more likely to you than the other.\n",
      "Definition_change:  In each example you will read a short sentence (or two). Then, a pronoun in the text is mentioned. Your task is to choose a referent which the mentioned pronoun refers to. You will be given two options in each case and one choice should seem much more likely to you than the other.\n",
      "Definition_native:  In this task, we ask you convert a data table of restaurant descriptions into fluent natural-sounding English sentences. The input is a string of key-value pairs; the output should be a natural and grammatical English sentence containing all the information from the input.\n",
      "Definition_change:  In this task, we ask you convert a data table of restaurant descriptions into fluent natural-sounding English sentences. The input is a string of key-value pairs; the output should be a natural and grammatical English sentence containing all the information from the input.\n",
      "Definition_native:  Given a document, generate a short title of the document. The title should convey the main idea/event/topic about which the document is being written. Note that URLs in the text have been replaced with [Link].\n",
      "Definition_change:  Given a document, generate a short title of the document. The title should convey the main idea/event/topic about which the document is being written. Note that URLs in the text have been replaced with [Link].\n",
      "Definition_native:  In this task, you will be given a short story. One sentence from the story is chosen. Consider the events that happen before that sentence, or are likely to have happened before it. Does any of them directly cause it, or simply make it possible? You should write your answer in the form \" A >causes/enables> B\". Try to use phrases and sentences from the story to compose your answer when possible.\n",
      "Definition_change:  In this task, you will be given a short story. One sentence from the story is chosen. Consider the events that happen before that sentence, or are likely to have happened before it. Does any of them directly cause it, or simply make it possible? You should write your answer in the form \" A >causes/enables> B\". Try to use phrases and sentences from the story to compose your answer when possible.\n",
      "Definition_native:  Given two noun phrases (arguments) and relationship between them, form a sentence that expresses theses arguments with the given relationship.\n",
      "Definition_change:  Given two noun phrases (arguments) and relationship between them, form a sentence that expresses theses arguments with the given relationship.\n",
      "Definition_native:  In this task, you're given five sentences, numbered 1 through 5, and two options a and b for possible titles for the story. Your job is to choose the title that better fits the story. Indicate your choice by 'a' or 'b'.\n",
      "Definition_change:  In this task, you're given five sentences, numbered 1 through 5, and two options a and b for possible titles for the story. Your job is to choose the title that better fits the story. Indicate your choice by 'a' or 'b'.\n",
      "Definition_native:  Given an entity, a before event, an after event, and an attribute related to the entity, generate a sentence as output. Your sentence should show the changes in the attribute of the entity.\n",
      "Definition_change:  Given an entity, a before event, an after event, and an attribute related to the entity, generate a sentence as output. Your sentence should show the changes in the attribute of the entity.\n",
      "Definition_native:  In this task, you're given a question, along with a context passage which has extra information available on certain terms mentioned in it, i.e., the proper nouns in the passage. Your job is to determine whether information from more than one term is needed to answer the question. Indicate your choice as `a` for Yes or `b` for No.\n",
      "Definition_change:  In this task, you're given a question, along with a context passage which has extra information available on certain terms mentioned in it, i.e., the proper nouns in the passage. Your job is to determine whether information from more than one term is needed to answer the question. Indicate your choice as `a` for Yes or `b` for No.\n",
      "Definition_native:  In this task, you are given a question containing a blank (_) and two options. You should pick the best option to answer the question. Please answer with \"A\" or \"B\".\n",
      "Definition_change:  In this task, you are given a question containing a blank (_) and two options. You should pick the best option to answer the question. Please answer with \"A\" or \"B\".\n",
      "Definition_native:  In this task, you need to generate an appropriate title for the given summary of some paragraph. The generated title must be short and should include the main topic of the given text. Your summary should be less than 20 words long.\n",
      "Definition_change:  In this task, you need to generate an appropriate title for the given summary of some paragraph. The generated title must be short and should include the main topic of the given text. Your summary should be less than 20 words long.\n",
      "Definition_native:  You are given a conversation between two people. 'Person1:' and 'Person2:' are used to separate their respective dialogues. You are required to assign a label 'formal' if there is an absence of emotion and a presence of questions anywhere within the conversation. If such pattern is not found assign the label 'informal'.\n",
      "Definition_change:  You are given a conversation between two people. 'Person1:' and 'Person2:' are used to separate their respective dialogues. You are required to assign a label 'formal' if there is an absence of emotion and a presence of questions anywhere within the conversation. If such pattern is not found assign the label 'informal'.\n",
      "Definition_native:  Two analogies that relate actions to the tools used to perform the action is given in the form \"A : B. C : ?\". \"A : B\" relates action A to tool B. Your task is to replace the question mark (?) with the appropriate tool for the given action C, following the \"A : B\" relation.\n",
      "Definition_change:  Two analogies that relate actions to the tools used to perform the action is given in the form \"A : B. C : ?\". \"A : B\" relates action A to tool B. Your task is to replace the question mark (?) with the appropriate tool for the given action C, following the \"A : B\" relation.\n",
      "Definition_native:  In this task, you are given a summary for US Congressional and California state bill, your task is to generate a Title for this bill. The preferred titles are under forty words and mention the purpose of the bill.\n",
      "Definition_change:  In this task, you are given a summary for US Congressional and California state bill, your task is to generate a Title for this bill. The preferred titles are under forty words and mention the purpose of the bill.\n",
      "Definition_native:  In this task you are given a disfluent question, a proper question and a context. A disfluent question is a question that has some interruptions in it while framing and a proper question is the correct form of the question without any disfluency. Classify whether the question is answerable or not based on the given context.\n",
      "Definition_change:  In this task you are given a disfluent question, a proper question and a context. A disfluent question is a question that has some interruptions in it while framing and a proper question is the correct form of the question without any disfluency. Classify whether the question is answerable or not based on the given context.\n",
      "Definition_native:  Two analogies on manipulating items in a kitchen is given in the form \"A : B. C : ?\". The phrase \"A : B\" relates item A to its appropriate manipulation B. Your task is to replace the question mark (?) with the appropriate manipulation of item C, following the \"A : B\" relation. Your answer should be a verb which shows a way to manipulate the given object.\n",
      "Definition_change:  Two analogies on manipulating items in a kitchen is given in the form \"A : B. C : ?\". The phrase \"A : B\" relates item A to its appropriate manipulation B. Your task is to replace the question mark (?) with the appropriate manipulation of item C, following the \"A : B\" relation. Your answer should be a verb which shows a way to manipulate the given object.\n",
      "Definition_native:  Given a premise and two alternatives, choose the alternative that is a more plausible cause or effect of the situation described by the premise. The input format is \"premise\n",
      "(1)alternative_1(2)alternative_2\", the output should either be \"1\" or \"2\" based on your judgment.\n",
      "Definition_change:  Given a premise and two alternatives, choose the alternative that is a more plausible cause or effect of the situation described by the premise. The input format is \"premise\n",
      "(1)alternative_1(2)alternative_2\", the output should either be \"1\" or \"2\" based on your judgment.\n",
      "Definition_native:  Two analogies that signify affordances are given in the form \"A : B. C : ?\". Affordance is the possibility of an action being done on an object, for example book is an affordance of writing. The phrase \"A : B\" implies that B is an affordance of A. Your task is to replace the question mark (?) with the appropriate affordance of the given action C, following the \"A : B\" relation. Your answer should be a single object without further explanation.\n",
      "Definition_change:  Two analogies that signify affordances are given in the form \"A : B. C : ?\". Affordance is the possibility of an action being done on an object, for example book is an affordance of writing. The phrase \"A : B\" implies that B is an affordance of A. Your task is to replace the question mark (?) with the appropriate affordance of the given action C, following the \"A : B\" relation. Your answer should be a single object without further explanation.\n",
      "Definition_native:  In this task, you will be given a sentence, followed by \", so\". You should complete the given text with another sentence, such that the whole text is plausible. The sentence you enter must be a likely result of the given sentence.\n",
      "Definition_change:  In this task, you will be given a sentence, followed by \", so\". You should complete the given text with another sentence, such that the whole text is plausible. The sentence you enter must be a likely result of the given sentence.\n",
      "Definition_native:  You are given a sentence from a conversation between a human and a virtual assistant. Your task is to identify whether the sentence is a question or not. Answer with Yes or No.\n",
      "Definition_change:  You are given a sentence from a conversation between a human and a virtual assistant. Your task is to identify whether the sentence is a question or not. Answer with Yes or No.\n",
      "Definition_native:  In this task, you are given a statement spoken by a politician in natural language. Your task is to generate the subject of the discussion for the given statement. The subject generated is not necessarily a part of the given input. Your answer should contain one or more words.\n",
      "Definition_change:  In this task, you are given a statement spoken by a politician in natural language. Your task is to generate the subject of the discussion for the given statement. The subject generated is not necessarily a part of the given input. Your answer should contain one or more words.\n",
      "Definition_native:  In this task, you're given five sentences, numbered 1 through 5. Your job is to generate a title for the story that makes complete sense. The title must be short, with less than three words, use simple language, and include the main topic of the story.\n",
      "Definition_change:  In this task, you're given five sentences, numbered 1 through 5. Your job is to generate a title for the story that makes complete sense. The title must be short, with less than three words, use simple language, and include the main topic of the story.\n",
      "Definition_native:  In this task, you're given a pair of sentences, sentence 1 and sentence 2. Your job is to choose whether the two sentences clearly agree (entailment)/disagree (contradiction) with each other, or if this cannot be determined (neutral). Your answer must be in the form of the letters E, C, and N respectively.\n",
      "Definition_change:  In this task, you're given a pair of sentences, sentence 1 and sentence 2. Your job is to choose whether the two sentences clearly agree (entailment)/disagree (contradiction) with each other, or if this cannot be determined (neutral). Your answer must be in the form of the letters E, C, and N respectively.\n",
      "Definition_native:  In this task, you're given a statement and three sentences as choices. Your job is to determine which sentence can be inferred from the statement. Incorrect choices change the meaning in important ways or have details that are not mentioned in the statement. Indicate your answer as 1,2, or 3 corresponding to the choice number of the selected sentence.\n",
      "Definition_change:  In this task, you're given a statement and three sentences as choices. Your job is to determine which sentence can be inferred from the statement. Incorrect choices change the meaning in important ways or have details that are not mentioned in the statement. Indicate your answer as 1,2, or 3 corresponding to the choice number of the selected sentence.\n",
      "Definition_native:  You are given a conversation between two people. 'Person1:' and 'Person2:' are used to separate their respective dialogues. If the conversation begins with a question, label it '1' otherwise '0'.\n",
      "Definition_change:  You are given a conversation between two people. 'Person1:' and 'Person2:' are used to separate their respective dialogues. If the conversation begins with a question, label it '1' otherwise '0'.\n",
      "Definition_native:  In this task, you are given a part of an article. Your task is to generate headline (title) for this text. Preferred headlines are under fifteen words.\n",
      "Definition_change:  In this task, you are given a part of an article. Your task is to generate headline (title) for this text. Preferred headlines are under fifteen words.\n",
      "Definition_native:  Given a question, generate a paraphrase of that question wihout changing the meaning of it. Your answer should reword the given sentence, but not add information to it or remove information from it. The answer to your question should be the same as the answer to the original question.\n",
      "Definition_change:  Given a question, generate a paraphrase of that question wihout changing the meaning of it. Your answer should reword the given sentence, but not add information to it or remove information from it. The answer to your question should be the same as the answer to the original question.\n",
      "Definition_native:  In this task, you will be given two sentences separated by \"because\". You should decide whether the first sentence can be the result of the second sentence. If you can see a possible cause and effect relationship, answer with \"plausible\", otherwise answer with \"not plausible\".\n",
      "Definition_change:  In this task, you will be given two sentences separated by \"because\". You should decide whether the first sentence can be the result of the second sentence. If you can see a possible cause and effect relationship, answer with \"plausible\", otherwise answer with \"not plausible\".\n",
      "Definition_native:  Paraphrase the given questions to have different wording. Your paraphrased questions should have the same answer as the original question. Try to change the sentence as much as possible using synonyms and/or rearranging the structure of the sentence. The questions are in three domains: presidents, national parks, and dogs. Each question has a keyword indicating its domain. Keywords are \"this national park\", \"this dog breed\", and \"this president\", which will be replaced with the name of an actual president, a national park, or a breed of dog. Hence, in paraphrasing, this keyword should also be used the same way. Do not write questions that compare or involve multiple domains. Do not write open-ended or subjective questions (e.g., questions that can be answered differently by different people.) Make your questions specific and concrete. Your question should have the same type of answer as the original question(e.g., if the question is extractive, the paraphrased question should be extractive as well.)\n",
      "Definition_change:  Paraphrase the given questions to have different wording. Your paraphrased questions should have the same answer as the original question. Try to change the sentence as much as possible using synonyms and/or rearranging the structure of the sentence. The questions are in three domains: presidents, national parks, and dogs. Each question has a keyword indicating its domain. Keywords are \"this national park\", \"this dog breed\", and \"this president\", which will be replaced with the name of an actual president, a national park, or a breed of dog. Hence, in paraphrasing, this keyword should also be used the same way. Do not write questions that compare or involve multiple domains. Do not write open-ended or subjective questions (e.g., questions that can be answered differently by different people.) Make your questions specific and concrete. Your question should have the same type of answer as the original question(e.g., if the question is extractive, the paraphrased question should be extractive as well.)\n",
      "Definition_native:  Given a premise and a hypothesis, determine if the hypothesis (second sentence) can be concluded from the premise and assigning it a label among entailment, neutral, or contradiction. Entailment means thats the hypothesis makes sense/follows after the premise. Neutral means that the hypothesis does not follow the premise but also does not contradict the premise. Contradiction means that the hypothesis clearly contradicts the premise.\n",
      "Definition_change:  Given a premise and a hypothesis, determine if the hypothesis (second sentence) can be concluded from the premise and assigning it a label among entailment, neutral, or contradiction. Entailment means thats the hypothesis makes sense/follows after the premise. Neutral means that the hypothesis does not follow the premise but also does not contradict the premise. Contradiction means that the hypothesis clearly contradicts the premise.\n",
      "Definition_native:  Convert a disfluent question to a proper question. A disfluent question is a question that has some interruptions in it while framing. A proper question is the correct form of the question without any disfluency.\n",
      "Definition_change:  Convert a disfluent question to a proper question. A disfluent question is a question that has some interruptions in it while framing. A proper question is the correct form of the question without any disfluency.\n",
      "Definition_native:  Given an abstract, and a few options, indicate if any of the given options appropriately describe the given abstract. If any of them is a proper keyword, answer 'Yes', otherwise answer 'No'.\n",
      "Definition_change:  Given an abstract, and a few options, indicate if any of the given options appropriately describe the given abstract. If any of them is a proper keyword, answer 'Yes', otherwise answer 'No'.\n",
      "Definition_native:  The answer will be 'yes' if the provided sentence contains an explicit mention that answers the given question. Otherwise, the answer should be 'no'. Instances where the answer is implied from the sentence using \"instinct\" or \"common sense\" (as opposed to being written explicitly in the sentence) should be labeled as 'no'.\n",
      "Definition_change:  The answer will be 'yes' if the provided sentence contains an explicit mention that answers the given question. Otherwise, the answer should be 'no'. Instances where the answer is implied from the sentence using \"instinct\" or \"common sense\" (as opposed to being written explicitly in the sentence) should be labeled as 'no'.\n",
      "Definition_native:  Given Sentence 1 and Sentence 2, indicate your answer as yes when the two sentences clearly agree or clearly disagree with each other. If the relationship cannot be determined, answer with 'no'.\n",
      "Definition_change:  Given Sentence 1 and Sentence 2, indicate your answer as yes when the two sentences clearly agree or clearly disagree with each other. If the relationship cannot be determined, answer with 'no'.\n",
      "Definition_native:  In this task, you are given concept set (with 3 to 5 concepts) that contain mentions of names of people, places, activities, or things. These concept sets reflect reasonable concept co-occurrences in everyday situations. All concepts given as input are separated by \"#\". Your job is to generate a sentence describing a day-to-day scene using all concepts from a given concept set.\n",
      "Definition_change:  In this task, you are given concept set (with 3 to 5 concepts) that contain mentions of names of people, places, activities, or things. These concept sets reflect reasonable concept co-occurrences in everyday situations. All concepts given as input are separated by \"#\". Your job is to generate a sentence describing a day-to-day scene using all concepts from a given concept set.\n",
      "Dataset natural_instructions downloaded and prepared to ./cache/natural_instructions/default-e8e348fe903ab36e/2.0.0/1780ecade7b2862d4b7420a0323bf2e9324f66876bb596bcfa72c3542c950ec4. Subsequent calls will reuse this data.\n"
     ]
    },
    {
     "data": {
      "application/vnd.jupyter.widget-view+json": {
       "model_id": "3e9fdeb80ef3419cbabe41185030aaee",
       "version_major": 2,
       "version_minor": 0
      },
      "text/plain": [
       "  0%|          | 0/3 [00:00<?, ?it/s]"
      ]
     },
     "metadata": {},
     "output_type": "display_data"
    },
    {
     "name": "stdout",
     "output_type": "stream",
     "text": [
      "[\"Read the passage and find the corresponding pronoun for the given name. The pronoun should match the given blank(_). The word between ** ** is the target name. The pronoun should be one of 'her', 'him', 'he', 'she' and 'his' with proper casing based on the position in the passage.\"]\n"
     ]
    }
   ],
   "source": [
    "from datasets import load_dataset, load_metric\n",
    "from transformers import set_seed\n",
    "set_seed(0)\n",
    "raw_datasets = load_dataset(\n",
    "    \"src/ni_dataset_crud.py\", \n",
    "    data_dir='data/splits/default', \n",
    "    task_dir='data/tasks', \n",
    "    cache_dir='./cache/',\n",
    "    max_num_instances_per_task=100,\n",
    "    max_num_instances_per_eval_task=100,\n",
    "    download_mode = 'reuse_cache_if_exists'\n",
    ")\n",
    "print(raw_datasets['validation'][101]['Definition'])"
   ]
  },
  {
   "cell_type": "markdown",
   "metadata": {},
   "source": [
    "['In this task your given two statements in Estonian. You must judge whether the second sentence is the cause or effect of the first one. Label the instances as \"cause\" or \"effect\" based on your judgment. The sentences are separated by a newline character.']"
   ]
  },
  {
   "cell_type": "code",
   "execution_count": 16,
   "metadata": {},
   "outputs": [
    {
     "data": {
      "text/plain": [
       "\"Read the passage and find the corresponding pronoun for the given name. The pronoun should match the given blank(_). The word between ** ** is the target name. The pronoun should be one of 'her', 'him', 'he', 'she' and 'his' with proper casing based on the position in the passage.\""
      ]
     },
     "execution_count": 16,
     "metadata": {},
     "output_type": "execute_result"
    }
   ],
   "source": [
    "\"Generate an appropriate title for the given text. The generated title must be short and include the main topic of the text. \\\n",
    "The preferred titles are under fifteen words.\"\n",
    "\"Read the passage and find the corresponding pronoun for the given name. The pronoun should match the given blank(_). \\\n",
    "The word between ** ** is the target name. \\\n",
    "The pronoun should be one of 'her', 'him', 'he', 'she' and 'his' with proper casing based on the position in the passage.\""
   ]
  },
  {
   "cell_type": "markdown",
   "metadata": {},
   "source": [
    "## Data Aug"
   ]
  },
  {
   "cell_type": "code",
   "execution_count": 4,
   "metadata": {},
   "outputs": [],
   "source": [
    "import numpy as np\n",
    "import spacy\n",
    "import random\n",
    "from typing import Dict\n",
    "from tqdm import tqdm\n",
    "import transformers\n",
    "from transformers import BertTokenizer, BertModel, BertForMaskedLM\n",
    "\n",
    "transformers.logging.set_verbosity_error()\n"
   ]
  },
  {
   "cell_type": "code",
   "execution_count": 11,
   "metadata": {},
   "outputs": [],
   "source": [
    "class DataAugmentation:\n",
    "    def __init__(self):\n",
    "        self.tokenizer = BertTokenizer.from_pretrained('bert-base-multilingual-cased')\n",
    "        self.model = BertForMaskedLM.from_pretrained('bert-base-multilingual-cased')\n",
    "        self.en = spacy.load('en_core_web_sm')\n",
    "        \n",
    "    def delete_ratio(self, Definition, ratio=0.1):\n",
    "\n",
    "        splited_definition = Definition.split()\n",
    "        index = [i for i in range(len(splited_definition))]\n",
    "        index = random.sample(index, int(len(splited_definition)*ratio))\n",
    "        index.sort()\n",
    "        Definition_crud = \" \".join([splited_definition[i] for i in index])\n",
    "        return Definition_crud\n",
    "\n",
    "    def delete_num(self, Definition, num=5):\n",
    "\n",
    "        splited_definition = Definition.split()\n",
    "        index = [i for i in range(len(splited_definition))]\n",
    "        index = random.sample(index, len(splited_definition)-num)\n",
    "        index.sort()\n",
    "        Definition_crud = \" \".join([splited_definition[i] for i in index])\n",
    "        return Definition_crud\n",
    "    def delete_stopwords(self, Definition):\n",
    "\n",
    "        #loading the english language small model of spacy\n",
    "        \n",
    "        stopwords = self.en.Defaults.stop_words\n",
    "        lst=[]\n",
    "        for token in Definition.split():\n",
    "            if token.lower() not in stopwords:    #checking whether the word is not \n",
    "                lst.append(token)                    #present in the stopword list.\n",
    "        Definition_crud = \" \".join(lst)     \n",
    "        return Definition_crud\n",
    "\n",
    "    def insert_mask(self, Definition, num_mask=5):\n",
    "\n",
    "        token_list = Definition.split()\n",
    "\n",
    "\n",
    "        num = 0\n",
    "        while num < num_mask:\n",
    "            num += 1\n",
    "            insert_position = random.randint(1, len(token_list) - 1)\n",
    "            token_list.insert(insert_position, '[MASK]')\n",
    "    \n",
    "\n",
    "        input_txt = ' '.join(token_list)\n",
    "\n",
    "        inputs = self.tokenizer(input_txt, return_tensors='pt')\n",
    "\n",
    "        \n",
    "        input_ids = inputs['input_ids'][0].numpy()\n",
    "        if input_ids.shape[0]>512:\n",
    "            return Definition\n",
    "        outputs = self.model(**inputs)\n",
    "        predictions = outputs[0]\n",
    "\n",
    "        _, sorted_idx = predictions[0].sort(dim=-1, descending=True)\n",
    "        \n",
    "        for k in range(1):\n",
    "            predicted_index = [sorted_idx[i, k].item() for i in range(0, len(predictions[0])-1)]\n",
    "            predicted_token = []\n",
    "            for x in range(1, len(predictions[0])-1):\n",
    "                if input_ids[x] == 103:\n",
    "                    predicted_token.append(self.tokenizer.convert_ids_to_tokens([predicted_index[x]])[0])\n",
    "        copy_token = predicted_token.copy()\n",
    "        token_list_copy = token_list.copy()\n",
    "        for i, token in enumerate(token_list):\n",
    "            if token == '[MASK]':\n",
    "                if len(predicted_token)==0:\n",
    "                    print(Definition)\n",
    "                    print(token_list_copy)\n",
    "                    print(copy_token)\n",
    "                token_list[i] = predicted_token.pop(0)\n",
    "        final_tokens = []\n",
    "        for token in token_list:\n",
    "            if token.startswith('##'):\n",
    "                final_tokens[-1] = final_tokens[-1] + token[2:]\n",
    "            else:\n",
    "                final_tokens.append(token)\n",
    "\n",
    "        return \" \".join(final_tokens)\n",
    "        \n",
    "    def shuffle_sentences(self, Definition):\n",
    "\n",
    "        doc = self.en(Definition)\n",
    "        sents = list(map(str, doc.sents))\n",
    "        random.shuffle(sents)\n",
    "        return \" \".join(sents)\n",
    "\n",
    "    def repeat_sentences(self, Definition, index = None):\n",
    "        doc = self.en(Definition)\n",
    "        sents = list(map(str, doc.sents))\n",
    "        if  None==index:\n",
    "            index = random.randint(0, len(sents)-1)\n",
    "        sents = sents[:index] + [sents[index]] + sents[index:]\n",
    "        return \" \".join(sents)\n",
    "\n",
    "    def replace_mask(self, Definition, ratio=0.1):\n",
    "\n",
    "        inputs = self.tokenizer(Definition, return_tensors='pt')\n",
    "        input_ids = inputs['input_ids'][0]\n",
    "\n",
    "        index = [i for i in range(len(input_ids))]\n",
    "        index = random.sample(index, int(len(input_ids)*ratio))\n",
    "        index.sort()\n",
    "        for i in index:\n",
    "            input_ids[i] = 103\n",
    "\n",
    "\n",
    "        if len(input_ids)>512:\n",
    "            return Definition\n",
    "        inputs['input_ids'][0] = input_ids\n",
    "        outputs = self.model(**inputs)\n",
    "        predictions = outputs[0]\n",
    "\n",
    "        _, sorted_idx = predictions[0].sort(dim=-1, descending=True)\n",
    "        \n",
    "\n",
    "        for k in range(1):\n",
    "            predicted_index = [sorted_idx[i, k].item() for i in range(0, len(predictions[0])-1)]\n",
    "            for x in range(1, len(predictions[0])-1):\n",
    "                if input_ids[x] == 103:\n",
    "                    input_ids[x] = predicted_index[x]\n",
    "\n",
    "        return self.tokenizer.decode(input_ids[1: -1])"
   ]
  },
  {
   "cell_type": "code",
   "execution_count": 12,
   "metadata": {},
   "outputs": [
    {
     "name": "stdout",
     "output_type": "stream",
     "text": [
      "Read the passage and find the corresponding pronoun for the given name. Read the passage and find the corresponding pronoun for the given name. The pronoun should match the given blank(_).     The word between ** ** is the target name.         The pronoun should be one of 'her', 'him', 'he', 'she' and 'his' with proper casing based on the position in the passage.\n"
     ]
    }
   ],
   "source": [
    "dataset = \"Read the passage and find the corresponding pronoun for the given name. The pronoun should match the given blank(_). \\\n",
    "    The word between ** ** is the target name. \\\n",
    "        The pronoun should be one of 'her', 'him', 'he', 'she' and 'his' with proper casing based on the position in the passage.\"\n",
    "\n",
    "data_augmentation = DataAugmentation()\n",
    "data_crud= data_augmentation.repeat_sentences(dataset, index = 0)\n",
    "print(data_crud)"
   ]
  },
  {
   "cell_type": "code",
   "execution_count": 55,
   "metadata": {},
   "outputs": [
    {
     "data": {
      "text/plain": [
       "array([ 2, 11,  3])"
      ]
     },
     "execution_count": 55,
     "metadata": {},
     "output_type": "execute_result"
    }
   ],
   "source": [
    "a = np.array([2, 3])\n",
    "np.insert(a, 1, 11)"
   ]
  },
  {
   "cell_type": "code",
   "execution_count": 49,
   "metadata": {},
   "outputs": [
    {
     "data": {
      "text/plain": [
       "'2 0 1 8'"
      ]
     },
     "execution_count": 49,
     "metadata": {},
     "output_type": "execute_result"
    }
   ],
   "source": [
    "tokenizer = BertTokenizer.from_pretrained('bert-base-multilingual-cased')\n",
    "tokenizer.decode(10434)"
   ]
  },
  {
   "cell_type": "code",
   "execution_count": 7,
   "metadata": {},
   "outputs": [
    {
     "data": {
      "text/plain": [
       "1"
      ]
     },
     "execution_count": 7,
     "metadata": {},
     "output_type": "execute_result"
    }
   ],
   "source": [
    "import random\n",
    "random.randint(0, 1)"
   ]
  },
  {
   "cell_type": "code",
   "execution_count": 26,
   "metadata": {},
   "outputs": [
    {
     "data": {
      "text/plain": [
       "['It', 'was', 'a', 'beautiful', 'day', ',', 'perfect', 'for', 'a', 'trip', '.']"
      ]
     },
     "execution_count": 26,
     "metadata": {},
     "output_type": "execute_result"
    }
   ],
   "source": [
    "from transformers import BertTokenizer, BertModel, BertForMaskedLM\n",
    "tokenizer = BertTokenizer.from_pretrained('bert-base-cased')\n",
    "tokenizer.tokenize(dataset)"
   ]
  },
  {
   "cell_type": "markdown",
   "metadata": {},
   "source": [
    "## fill_mask"
   ]
  },
  {
   "cell_type": "code",
   "execution_count": 29,
   "metadata": {},
   "outputs": [],
   "source": [
    "import torch\n",
    "from transformers import BertTokenizer, BertModel, BertForMaskedLM\n",
    " \n",
    "tokenizer = BertTokenizer.from_pretrained('bert-base-cased')\n",
    "input_txt = data_crud\n",
    "inputs = tokenizer(input_txt, return_tensors='pt', truncation=True, max_length=512)"
   ]
  },
  {
   "cell_type": "code",
   "execution_count": 30,
   "metadata": {},
   "outputs": [],
   "source": [
    "input_ids = inputs['input_ids'][0].numpy()"
   ]
  },
  {
   "cell_type": "code",
   "execution_count": null,
   "metadata": {},
   "outputs": [],
   "source": [
    "model = BertForMaskedLM.from_pretrained('bert-base-cased')\n",
    " \n",
    "outputs = model(**inputs)\n",
    "predictions = outputs[0]"
   ]
  },
  {
   "cell_type": "code",
   "execution_count": 37,
   "metadata": {},
   "outputs": [
    {
     "name": "stdout",
     "output_type": "stream",
     "text": [
      "[119, 119, 1541, 1108, 1216, 170, 2712, 1285, 117, 1103, 3264, 1285, 1111, 170, 1263, 3868, 119]\n",
      "['It', 'really', 'was', 'such', 'a', 'beautiful', 'day', ',', 'the', 'perfect', 'day', 'for', 'a', 'long', 'trip', '.']\n"
     ]
    }
   ],
   "source": [
    "_, sorted_idx = predictions[0].sort(dim=-1, descending=True)\n",
    "input_ids = inputs['input_ids'][0].numpy()\n",
    "for k in range(1):\n",
    "    predicted_index = [sorted_idx[i, k].item() for i in range(0, len(predictions[0])-1)]\n",
    "    print(predicted_index)\n",
    "    predicted_token = []\n",
    "    for x in range(1, len(predictions[0])-1):\n",
    "        if input_ids[x] == 103:\n",
    "            predicted_token.append(tokenizer.convert_ids_to_tokens([predicted_index[x]])[0])\n",
    "        else:\n",
    "            predicted_token.append(tokenizer.convert_ids_to_tokens([input_ids[x]])[0])\n",
    "    print(predicted_token)"
   ]
  },
  {
   "cell_type": "code",
   "execution_count": 36,
   "metadata": {},
   "outputs": [
    {
     "name": "stdout",
     "output_type": "stream",
     "text": [
      "It really was such a beautiful day , the perfect day for a long trip .\n"
     ]
    }
   ],
   "source": [
    "tokens = []\n",
    "for token in predicted_token:\n",
    "    if token.startswith('##'):\n",
    "        tokens[-1] = tokens[-1] + token[2:]\n",
    "    else:\n",
    "        tokens.append(token)\n",
    "print(\" \".join(tokens))"
   ]
  },
  {
   "cell_type": "markdown",
   "metadata": {},
   "source": [
    "## Shuffle sentences "
   ]
  },
  {
   "cell_type": "code",
   "execution_count": 6,
   "metadata": {},
   "outputs": [],
   "source": [
    "import spacy\n",
    "import random\n",
    "nlp = spacy.load(\"en_core_web_sm\")"
   ]
  },
  {
   "cell_type": "code",
   "execution_count": 7,
   "metadata": {},
   "outputs": [],
   "source": [
    "doc = nlp(\"Read the passage and find the corresponding pronoun for the given name. The pronoun should match the given blank(_). The word between ** ** is the target name. The pronoun should be one of 'her', 'him', 'he', 'she' and 'his' with proper casing based on the position in the passage.\")"
   ]
  },
  {
   "cell_type": "code",
   "execution_count": 29,
   "metadata": {},
   "outputs": [
    {
     "data": {
      "text/plain": [
       "[\"The pronoun should be one of 'her', 'him', 'he', 'she' and 'his' with proper casing based on the position in the passage.\",\n",
       " 'Read the passage and find the corresponding pronoun for the given name.',\n",
       " 'The pronoun should match the given blank(_).',\n",
       " 'The word between ** ** is the target name.']"
      ]
     },
     "execution_count": 29,
     "metadata": {},
     "output_type": "execute_result"
    }
   ],
   "source": [
    "sents = list(map(str, doc.sents))\n",
    "random.shuffle(sents)\n",
    "sents"
   ]
  },
  {
   "cell_type": "code",
   "execution_count": 27,
   "metadata": {},
   "outputs": [
    {
     "data": {
      "text/plain": [
       "str"
      ]
     },
     "execution_count": 27,
     "metadata": {},
     "output_type": "execute_result"
    }
   ],
   "source": [
    "type(sents[0])"
   ]
  },
  {
   "cell_type": "code",
   "execution_count": 10,
   "metadata": {},
   "outputs": [
    {
     "name": "stdout",
     "output_type": "stream",
     "text": [
      "Read the passage and find the corresponding pronoun for the given name.\n",
      "The pronoun should match the given blank(_).\n",
      "The word between ** ** is the target name.\n",
      "The pronoun should be one of 'her', 'him', 'he', 'she' and 'his' with proper casing based on the position in the passage.\n"
     ]
    }
   ],
   "source": [
    "for sent in list(doc.sents):\n",
    "    print(sent)"
   ]
  },
  {
   "cell_type": "code",
   "execution_count": null,
   "metadata": {},
   "outputs": [],
   "source": []
  }
 ],
 "metadata": {
  "interpreter": {
   "hash": "bc2c0cd89e4ba02e191b1e7889aaaf3c8919053db7e24df61ffe975264e317e1"
  },
  "kernelspec": {
   "display_name": "Python 3 (ipykernel)",
   "language": "python",
   "name": "python3"
  },
  "language_info": {
   "codemirror_mode": {
    "name": "ipython",
    "version": 3
   },
   "file_extension": ".py",
   "mimetype": "text/x-python",
   "name": "python",
   "nbconvert_exporter": "python",
   "pygments_lexer": "ipython3",
   "version": "3.9.12"
  }
 },
 "nbformat": 4,
 "nbformat_minor": 2
}
