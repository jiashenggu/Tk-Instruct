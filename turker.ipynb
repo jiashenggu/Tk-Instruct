{
 "cells": [
  {
   "cell_type": "code",
   "execution_count": 2,
   "metadata": {},
   "outputs": [],
   "source": [
    "import json\n",
    "import pandas as pd\n",
    "import glob\n",
    "import os"
   ]
  },
  {
   "cell_type": "code",
   "execution_count": 5,
   "metadata": {},
   "outputs": [],
   "source": [
    "for annotation in glob.glob('/home/gujiashe/Tk-Instruct/induction_data/annotations/*.json'):\n",
    "    with open(annotation, 'r') as task_f:\n",
    "        s = task_f.read()\n",
    "        task_data = json.loads(s)\n",
    "    task_path = annotation.split('/')\n",
    "    task_path[-2] = 'induction_input'\n",
    "    task_definition = task_data['annotations'][0]\n",
    "    task_path = '/'.join(task_path)\n",
    "    with open(task_path, 'r') as task_f:\n",
    "        s = task_f.read()\n",
    "        task_data = json.loads(s)\n",
    "        task_data['Definition'] = [task_definition]\n",
    "        \n",
    "        task_path = task_path.split('/')\n",
    "        task_path[-2] = 'tasks'\n",
    "        _task_path = '/'.join(task_path)\n",
    "        with open(_task_path, 'w') as _task_f:\n",
    "            json.dump(task_data, _task_f, indent=2)\n",
    "        # break"
   ]
  },
  {
   "cell_type": "code",
   "execution_count": 9,
   "metadata": {},
   "outputs": [],
   "source": [
    "f = open('/home/gujiashe/Tk-Instruct/induction_data/tasks/cause_and_effect.json', 'r')\n",
    "ex1 = json.load(f)\n"
   ]
  },
  {
   "cell_type": "code",
   "execution_count": 23,
   "metadata": {},
   "outputs": [
    {
     "data": {
      "text/plain": [
       "100"
      ]
     },
     "execution_count": 23,
     "metadata": {},
     "output_type": "execute_result"
    }
   ],
   "source": [
    "len(list(ex1['examples'])[:10001])"
   ]
  },
  {
   "cell_type": "code",
   "execution_count": 18,
   "metadata": {},
   "outputs": [
    {
     "name": "stdout",
     "output_type": "stream",
     "text": [
      "Sentence 1: The dinosaurs became extinct. Sentence 2: A large object hit the Earth.\n",
      "A large object hit the Earth.\n",
      "Sentence 1: My friend got a promotion. Sentence 2: My friend celebrated with their family.\n",
      "My friend got a promotion.\n",
      "Sentence 1: The ship capsized. Sentence 2: The wind blew strong.\n",
      "The wind blew strong.\n",
      "Sentence 1: The soda went flat. Sentence 2: The bottle was left open.\n",
      "The bottle was left open.\n",
      "Sentence 1: The company's posted strong earnings. Sentence 2: The company's stock went up.\n",
      "The company's posted strong earnings.\n"
     ]
    }
   ],
   "source": [
    "for i in ex1['examples']['1']['input'].split('\\n\\n'):\n",
    "    if i.startswith('Input:'):\n",
    "        input_ = i.split('\\n')[0].strip('Input: ')\n",
    "        output_ = i.split('\\n')[1].strip('Output: ')\n",
    "        print(input_)\n",
    "        print(output_)\n",
    "\n",
    "\n"
   ]
  },
  {
   "cell_type": "code",
   "execution_count": 21,
   "metadata": {},
   "outputs": [],
   "source": [
    "import random\n",
    "instances = list(ex.values())\n",
    "random.shuffle(instances)"
   ]
  },
  {
   "cell_type": "code",
   "execution_count": 9,
   "metadata": {},
   "outputs": [
    {
     "data": {
      "text/plain": [
       "1613"
      ]
     },
     "execution_count": 9,
     "metadata": {},
     "output_type": "execute_result"
    }
   ],
   "source": [
    "len(glob.glob(\"/home/gujiashe/Tk-Instruct/data/tasks/*.json\"))\n",
    "# 😧🙈🙂😘😡😩🤬😂🤷 🏻🙄😔😮👊🇺🇸👍😈😎💪🤣😀😍😬 😊💃\n",
    "# \f"
   ]
  },
  {
   "cell_type": "code",
   "execution_count": 3,
   "metadata": {},
   "outputs": [],
   "source": [
    "tasks = {}\n",
    "\n",
    "\n",
    "tasks['Categories'] = []\n",
    "tasks['name'] = []\n",
    "for i in range(1, 11):\n",
    "    tasks['Example_' + str(i) + '_input'] = []\n",
    "    tasks['Example_' + str(i) + '_output'] = []\n",
    "    tasks['Example_' + str(i) + '_explanation'] = []\n",
    "paths = []\n",
    "task_dir = '/home/gujiashe/Tk-Instruct/data/tasks'\n",
    "path = '/home/gujiashe/Tk-Instruct/data/splits/default/test_tasks.txt'\n",
    "with open(path, encoding=\"utf-8\") as split_f:\n",
    "    for line in split_f:\n",
    "        task_name = line.strip()\n",
    "        task_path = os.path.join(task_dir, task_name + \".json\")\n",
    "        with open(task_path, \"r\") as task_f:\n",
    "            s = task_f.read()\n",
    "            task = json.loads(s)\n",
    "            if len(task[\"Input_language\"])>1 or task[\"Input_language\"][0] != \"English\":\n",
    "                continue\n",
    "            if len(task[\"Output_language\"])>1 or task[\"Output_language\"][0] != \"English\":\n",
    "                continue\n",
    "\n",
    "            i = 1\n",
    "            for example in task['Positive Examples']:\n",
    "                if i>10:\n",
    "                    break\n",
    "                tasks['Example_' + str(i) + '_input'].append(example['input'])\n",
    "                tasks['Example_' + str(i) + '_output'].append(example['output'])\n",
    "                tasks['Example_' + str(i) + '_explanation'].append('Positive. ' + example['explanation'])\n",
    "                i+=1\n",
    "                \n",
    "\n",
    "\n",
    "            for example in task['Negative Examples']:\n",
    "                if i>10:\n",
    "                    break\n",
    "                tasks['Example_' + str(i) + '_input'].append(example['input'])\n",
    "                tasks['Example_' + str(i) + '_output'].append(example['output'])\n",
    "                tasks['Example_' + str(i) + '_explanation'].append('Negative. ' + example['explanation'])\n",
    "                i+=1\n",
    "                \n",
    "            \n",
    "            for example in task['Instances']:\n",
    "                if i>10:\n",
    "                    break\n",
    "                tasks['Example_' + str(i) + '_input'].append(example['input'])\n",
    "                tasks['Example_' + str(i) + '_output'].append(example['output'][0])\n",
    "                tasks['Example_' + str(i) + '_explanation'].append(\"\")\n",
    "                i+=1\n",
    "\n",
    "            Categories = task['Categories'][0]\n",
    "            name = task_path.split(\"/\")[-1].split(\".\")[0]\n",
    "            tasks['name'].append(name)\n",
    "            tasks['Categories'].append(Categories)\n",
    "            paths.append(task_path)\n",
    "                # break\n",
    "tasks = pd.DataFrame(tasks)"
   ]
  },
  {
   "cell_type": "code",
   "execution_count": 5,
   "metadata": {},
   "outputs": [
    {
     "data": {
      "text/plain": [
       "119"
      ]
     },
     "execution_count": 5,
     "metadata": {},
     "output_type": "execute_result"
    }
   ],
   "source": [
    "len(tasks)"
   ]
  },
  {
   "cell_type": "code",
   "execution_count": 6,
   "metadata": {},
   "outputs": [],
   "source": [
    "tasks.to_csv(\"tasks.csv\", index=None)"
   ]
  },
  {
   "cell_type": "code",
   "execution_count": null,
   "metadata": {},
   "outputs": [],
   "source": [
    "with open('tasks.csv', 'r', encoding='utf-8') as f:\n",
    "    x = f.read()\n",
    "    with open('tasks1.csv', 'w', encoding='utf-8') as ff:\n",
    "        ff.write(''.join(char for char in x if ord(char) < 0x10000 and not repr(char).startswith(\"'\\\\x\")))"
   ]
  },
  {
   "cell_type": "code",
   "execution_count": 15,
   "metadata": {},
   "outputs": [],
   "source": [
    "tasks = pd.read_csv(\"tasks copy.csv\")"
   ]
  }
 ],
 "metadata": {
  "kernelspec": {
   "display_name": "Python 3.9.12 ('instruction')",
   "language": "python",
   "name": "python3"
  },
  "language_info": {
   "codemirror_mode": {
    "name": "ipython",
    "version": 3
   },
   "file_extension": ".py",
   "mimetype": "text/x-python",
   "name": "python",
   "nbconvert_exporter": "python",
   "pygments_lexer": "ipython3",
   "version": "3.9.12"
  },
  "orig_nbformat": 4,
  "vscode": {
   "interpreter": {
    "hash": "bc2c0cd89e4ba02e191b1e7889aaaf3c8919053db7e24df61ffe975264e317e1"
   }
  }
 },
 "nbformat": 4,
 "nbformat_minor": 2
}
