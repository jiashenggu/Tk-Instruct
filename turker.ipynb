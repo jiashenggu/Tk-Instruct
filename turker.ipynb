{
 "cells": [
  {
   "cell_type": "code",
   "execution_count": 2,
   "metadata": {},
   "outputs": [],
   "source": [
    "import json\n",
    "import pandas as pd\n",
    "import glob\n"
   ]
  },
  {
   "cell_type": "code",
   "execution_count": 9,
   "metadata": {},
   "outputs": [
    {
     "data": {
      "text/plain": [
       "1613"
      ]
     },
     "execution_count": 9,
     "metadata": {},
     "output_type": "execute_result"
    }
   ],
   "source": [
    "len(glob.glob(\"/home/gujiashe/Tk-Instruct/data/tasks/*.json\"))\n",
    "# 😧🙈🙂😘😡😩🤬😂🤷 🏻🙄😔😮👊🇺🇸👍😈😎💪🤣😀😍😬 😊💃\n",
    "# \f"
   ]
  },
  {
   "cell_type": "code",
   "execution_count": 25,
   "metadata": {},
   "outputs": [],
   "source": [
    "tasks = {}\n",
    "\n",
    "\n",
    "tasks['Categories'] = []\n",
    "tasks['name'] = []\n",
    "for i in range(1, 11):\n",
    "    tasks['Example_' + str(i) + '_input'] = []\n",
    "    tasks['Example_' + str(i) + '_output'] = []\n",
    "    tasks['Example_' + str(i) + '_explanation'] = []\n",
    "paths = []\n",
    "\n",
    "for task_path in glob.glob(\"/home/gujiashe/Tk-Instruct/data/tasks/*.json\"):\n",
    "    with open(task_path, \"r\") as task_f:\n",
    "\n",
    "        \n",
    "        s = task_f.read()\n",
    "        task = json.loads(s)\n",
    "        if len(task[\"Input_language\"])>1 or task[\"Input_language\"][0] != \"English\":\n",
    "            continue\n",
    "        if len(task[\"Output_language\"])>1 or task[\"Output_language\"][0] != \"English\":\n",
    "            continue\n",
    "\n",
    "        i = 1\n",
    "        for example in task['Positive Examples']:\n",
    "            if i>10:\n",
    "                break\n",
    "            tasks['Example_' + str(i) + '_input'].append(example['input'])\n",
    "            tasks['Example_' + str(i) + '_output'].append(example['output'])\n",
    "            tasks['Example_' + str(i) + '_explanation'].append('Positive. ' + example['explanation'])\n",
    "            i+=1\n",
    "            \n",
    "\n",
    "\n",
    "        for example in task['Negative Examples']:\n",
    "            if i>10:\n",
    "                break\n",
    "            tasks['Example_' + str(i) + '_input'].append(example['input'])\n",
    "            tasks['Example_' + str(i) + '_output'].append(example['output'])\n",
    "            tasks['Example_' + str(i) + '_explanation'].append('Negative. ' + example['explanation'])\n",
    "            i+=1\n",
    "            \n",
    "        \n",
    "        for example in task['Instances']:\n",
    "            if i>10:\n",
    "                break\n",
    "            tasks['Example_' + str(i) + '_input'].append(example['input'])\n",
    "            tasks['Example_' + str(i) + '_output'].append(example['output'][0])\n",
    "            tasks['Example_' + str(i) + '_explanation'].append(\"\")\n",
    "            i+=1\n",
    "\n",
    "        Categories = task['Categories'][0]\n",
    "        name = task_path.split(\"/\")[-1].split(\".\")[0]\n",
    "        tasks['name'].append(name)\n",
    "        tasks['Categories'].append(Categories)\n",
    "        paths.append(task_path)\n",
    "        # break\n",
    "tasks = pd.DataFrame(tasks)"
   ]
  },
  {
   "cell_type": "code",
   "execution_count": 7,
   "metadata": {},
   "outputs": [],
   "source": [
    "tasks.to_csv(\"tasks.csv\", index=None)"
   ]
  },
  {
   "cell_type": "code",
   "execution_count": 15,
   "metadata": {},
   "outputs": [],
   "source": [
    "tasks = pd.read_csv(\"tasks copy.csv\")"
   ]
  },
  {
   "cell_type": "code",
   "execution_count": 19,
   "metadata": {},
   "outputs": [
    {
     "name": "stdout",
     "output_type": "stream",
     "text": [
      "Positive Examples: \n",
      "\n",
      "input: \n",
      "\n",
      "What is the sentiment of the following sentence towards the entity Bill Clinton ? Bill Clinton knows how to win friends and influence people.\n",
      "\n",
      "output: \n",
      "\n",
      "Positive\n",
      "\n",
      "explanation: \n",
      "\n",
      "Here the author of the document praises Bill for this ability to win friends.\n",
      "\n",
      "\n",
      "\n",
      "input: \n",
      "\n",
      "What is the sentiment of the following document towards the entity Bill Clinton ? Former president Bill Clinton is scheduled to visit Sollers Point Library in Dundalk on Monday during a trip to Baltimore. \n",
      "\n",
      "output: \n",
      "\n",
      "Neutral\n",
      "\n",
      "explanation: \n",
      "\n",
      "It is just reporting some facts and it is not clear about the sentiment of the author towards the fact.\n",
      "\n",
      "\n",
      "\n",
      "input: \n",
      "\n",
      "What is the sentiment of the following document towards the entity Bill Clinton ? But the bill that President Clinton signed is not welfare reform. \n",
      "\n",
      "output: \n",
      "\n",
      "Negative\n",
      "\n",
      "explanation: \n",
      "\n",
      "Here the author raises some concerns about the bill that Clinton signed on is not for welfare reform.\n",
      "\n",
      "\n",
      "\n",
      "Negative Examples: \n",
      "\n",
      "input: \n",
      "\n",
      "What is the sentiment of the following document towards the entity Bill Clinton ? Journalist Jen Moore died under suspicious circumstances after contacting both the DHS and the FBI with allegations that former President Bill Clinton committed sexual assault\n",
      "\n",
      "output: \n",
      "\n",
      "Negative\n",
      "\n",
      "explanation: \n",
      "\n",
      "This is an example of a negative fact towards Bill Clinton which is not supported by the author so the sentence will be neutral\n",
      "\n",
      "\n",
      "\n",
      "input: \n",
      "\n",
      "What is the sentiment of the following document towards the entity Obama ? Republican critics say Obama is making too many concessions to Cuba for too little in return, especially on human rights issues.\n",
      "\n",
      "output: \n",
      "\n",
      "Negative\n",
      "\n",
      "explanation: \n",
      "\n",
      "This is an example of a negative quote which is not supported by the author hence makes the document is neutral towards Obama\n",
      "\n",
      "\n",
      "\n",
      "\n"
     ]
    }
   ],
   "source": [
    "print(tasks.iloc[34]['Examples'])"
   ]
  },
  {
   "cell_type": "code",
   "execution_count": null,
   "metadata": {},
   "outputs": [],
   "source": [
    "tasks = {}\n",
    "\n",
    "\n",
    "tasks['Categories'] = []\n",
    "tasks['pos_input'] = []\n",
    "tasks['pos_output'] = []\n",
    "tasks['pos_explanation'] = []\n",
    "\n",
    "tasks['neg_input'] = []\n",
    "tasks['neg_output'] = []\n",
    "tasks['neg_explanation'] = []\n",
    "paths = []\n",
    "\n",
    "for task_path in glob.glob(\"/home/gujiashe/Tk-Instruct/data/tasks/*.json\"):\n",
    "    with open(task_path, \"r\") as task_f:\n",
    "        s = task_f.read()\n",
    "        task = json.loads(s)\n",
    "        if len(task[\"Input_language\"])>1 or task[\"Input_language\"][0] != \"English\":\n",
    "            continue\n",
    "        if len(task[\"Output_language\"])>1 or task[\"Output_language\"][0] != \"English\":\n",
    "            continue\n",
    "\n",
    "        if len(task['Positive Examples']) == 0:\n",
    "            tasks['pos_input'].append(\"\")\n",
    "            tasks['pos_output'].append(\"\")\n",
    "            tasks['pos_explanation'].append(\"\")\n",
    "        \n",
    "        if len(task['Negative Examples']) == 0:\n",
    "            tasks['neg_input'].append(\"\")\n",
    "            tasks['neg_output'].append(\"\")\n",
    "            tasks['neg_explanation'].append(\"\")\n",
    "        for example in task['Positive Examples']:\n",
    "            tasks['pos_input'].append(example['input'])\n",
    "            tasks['pos_output'].append(example['output'])\n",
    "            tasks['pos_explanation'].append(example['explanation'])\n",
    "            break\n",
    "\n",
    "\n",
    "        for example in task['Negative Examples']:\n",
    "            tasks['neg_input'].append(example['input'])\n",
    "            tasks['neg_output'].append(example['output'])\n",
    "            tasks['neg_explanation'].append(example['explanation'])\n",
    "            break\n",
    "\n",
    "        Categories = task['Categories'][0]\n",
    "        tasks['Categories'].append(Categories)\n",
    "        paths.append(task_path)\n",
    "tasks = pd.DataFrame(tasks)"
   ]
  }
 ],
 "metadata": {
  "kernelspec": {
   "display_name": "Python 3.9.12 ('instruction')",
   "language": "python",
   "name": "python3"
  },
  "language_info": {
   "codemirror_mode": {
    "name": "ipython",
    "version": 3
   },
   "file_extension": ".py",
   "mimetype": "text/x-python",
   "name": "python",
   "nbconvert_exporter": "python",
   "pygments_lexer": "ipython3",
   "version": "3.9.12"
  },
  "orig_nbformat": 4,
  "vscode": {
   "interpreter": {
    "hash": "bc2c0cd89e4ba02e191b1e7889aaaf3c8919053db7e24df61ffe975264e317e1"
   }
  }
 },
 "nbformat": 4,
 "nbformat_minor": 2
}
