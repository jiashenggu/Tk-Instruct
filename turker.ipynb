{
 "cells": [
  {
   "cell_type": "code",
   "execution_count": 2,
   "metadata": {},
   "outputs": [],
   "source": [
    "import json\n",
    "import pandas as pd\n",
    "import glob\n"
   ]
  },
  {
   "cell_type": "code",
   "execution_count": 9,
   "metadata": {},
   "outputs": [
    {
     "data": {
      "text/plain": [
       "1613"
      ]
     },
     "execution_count": 9,
     "metadata": {},
     "output_type": "execute_result"
    }
   ],
   "source": [
    "len(glob.glob(\"/home/gujiashe/Tk-Instruct/data/tasks/*.json\"))"
   ]
  },
  {
   "cell_type": "code",
   "execution_count": 17,
   "metadata": {},
   "outputs": [],
   "source": [
    "tasks = {}\n",
    "\n",
    "tasks['Examples'] = []\n",
    "tasks['Categories'] = []\n",
    "\n",
    "for task_path in glob.glob(\"/home/gujiashe/Tk-Instruct/data/tasks/*.json\"):\n",
    "    with open(task_path, \"r\") as task_f:\n",
    "        s = task_f.read()\n",
    "        task = json.loads(s)\n",
    "        if task[\"Input_language\"][0] != \"English\":\n",
    "            continue\n",
    "        if task[\"Output_language\"][0] != \"English\":\n",
    "            continue\n",
    "        pos_samples = \"Positive Examples: \" + '\\n\\n'\n",
    "        for example in task['Positive Examples']:\n",
    "            sample = \"\"\n",
    "            for k in example:\n",
    "                sample += k + ': ' + '\\n\\n'\n",
    "                sample += example[k] + '\\n\\n'\n",
    "            sample += '\\n\\n'\n",
    "            pos_samples += sample\n",
    "\n",
    "        neg_samples = \"Negative Examples: \" + '\\n\\n'\n",
    "        for example in task['Negative Examples']:\n",
    "            sample = \"\"\n",
    "            for k in example:\n",
    "                sample += k + ': ' + '\\n\\n'\n",
    "                sample += example[k] + '\\n\\n'\n",
    "            sample += '\\n\\n'\n",
    "            neg_samples += sample\n",
    "        samples = pos_samples + neg_samples\n",
    "        Categories = task['Categories'][0]\n",
    "        tasks['Examples'].append(samples)\n",
    "        tasks['Categories'].append(Categories)\n",
    "tasks = pd.DataFrame(tasks)"
   ]
  },
  {
   "cell_type": "code",
   "execution_count": 18,
   "metadata": {},
   "outputs": [
    {
     "data": {
      "text/plain": [
       "0       Positive Examples: \\n\\ninput: \\n\\nI have bough...\n",
       "1       Positive Examples: \\n\\ninput: \\n\\nRoman Yakub ...\n",
       "2       Positive Examples: \\n\\ninput: \\n\\nBob helped h...\n",
       "3       Positive Examples: \\n\\ninput: \\n\\nCategory: EV...\n",
       "4       Positive Examples: \\n\\ninput: \\n\\nstory : Hono...\n",
       "                              ...                        \n",
       "1049    Positive Examples: \\n\\ninput: \\n\\n5 + 3\\n\\nout...\n",
       "1050    Positive Examples: \\n\\ninput: \\n\\nText: Abbott...\n",
       "1051    Positive Examples: \\n\\ninput: \\n\\n1, 3, ['238'...\n",
       "1052    Positive Examples: \\n\\ninput: \\n\\nI work 40 ho...\n",
       "1053    Positive Examples: \\n\\ninput: \\n\\nWhich State ...\n",
       "Name: Examples, Length: 1054, dtype: object"
      ]
     },
     "execution_count": 18,
     "metadata": {},
     "output_type": "execute_result"
    }
   ],
   "source": [
    "tasks['Examples']"
   ]
  },
  {
   "cell_type": "code",
   "execution_count": 19,
   "metadata": {},
   "outputs": [],
   "source": [
    "tasks.to_csv(\"tasks.csv\", index=None)"
   ]
  },
  {
   "cell_type": "code",
   "execution_count": 20,
   "metadata": {},
   "outputs": [
    {
     "data": {
      "text/html": [
       "<div>\n",
       "<style scoped>\n",
       "    .dataframe tbody tr th:only-of-type {\n",
       "        vertical-align: middle;\n",
       "    }\n",
       "\n",
       "    .dataframe tbody tr th {\n",
       "        vertical-align: top;\n",
       "    }\n",
       "\n",
       "    .dataframe thead th {\n",
       "        text-align: right;\n",
       "    }\n",
       "</style>\n",
       "<table border=\"1\" class=\"dataframe\">\n",
       "  <thead>\n",
       "    <tr style=\"text-align: right;\">\n",
       "      <th></th>\n",
       "      <th>Examples</th>\n",
       "      <th>Categories</th>\n",
       "    </tr>\n",
       "  </thead>\n",
       "  <tbody>\n",
       "    <tr>\n",
       "      <th>0</th>\n",
       "      <td>Positive Examples: \\n\\ninput: \\n\\nI have bough...</td>\n",
       "      <td>Text Matching</td>\n",
       "    </tr>\n",
       "    <tr>\n",
       "      <th>1</th>\n",
       "      <td>Positive Examples: \\n\\ninput: \\n\\nRoman Yakub ...</td>\n",
       "      <td>Question Answering</td>\n",
       "    </tr>\n",
       "    <tr>\n",
       "      <th>2</th>\n",
       "      <td>Positive Examples: \\n\\ninput: \\n\\nBob helped h...</td>\n",
       "      <td>Linguistic Probing</td>\n",
       "    </tr>\n",
       "    <tr>\n",
       "      <th>3</th>\n",
       "      <td>Positive Examples: \\n\\ninput: \\n\\nCategory: EV...</td>\n",
       "      <td>Misc.</td>\n",
       "    </tr>\n",
       "    <tr>\n",
       "      <th>4</th>\n",
       "      <td>Positive Examples: \\n\\ninput: \\n\\nstory : Hono...</td>\n",
       "      <td>Question Answering</td>\n",
       "    </tr>\n",
       "    <tr>\n",
       "      <th>...</th>\n",
       "      <td>...</td>\n",
       "      <td>...</td>\n",
       "    </tr>\n",
       "    <tr>\n",
       "      <th>1049</th>\n",
       "      <td>Positive Examples: \\n\\ninput: \\n\\n5 + 3\\n\\nout...</td>\n",
       "      <td>Mathematics</td>\n",
       "    </tr>\n",
       "    <tr>\n",
       "      <th>1050</th>\n",
       "      <td>Positive Examples: \\n\\ninput: \\n\\nText: Abbott...</td>\n",
       "      <td>Text Categorization</td>\n",
       "    </tr>\n",
       "    <tr>\n",
       "      <th>1051</th>\n",
       "      <td>Positive Examples: \\n\\ninput: \\n\\n1, 3, ['238'...</td>\n",
       "      <td>Program Execution</td>\n",
       "    </tr>\n",
       "    <tr>\n",
       "      <th>1052</th>\n",
       "      <td>Positive Examples: \\n\\ninput: \\n\\nI work 40 ho...</td>\n",
       "      <td>Text Categorization</td>\n",
       "    </tr>\n",
       "    <tr>\n",
       "      <th>1053</th>\n",
       "      <td>Positive Examples: \\n\\ninput: \\n\\nWhich State ...</td>\n",
       "      <td>Question Answering</td>\n",
       "    </tr>\n",
       "  </tbody>\n",
       "</table>\n",
       "<p>1054 rows × 2 columns</p>\n",
       "</div>"
      ],
      "text/plain": [
       "                                               Examples           Categories\n",
       "0     Positive Examples: \\n\\ninput: \\n\\nI have bough...        Text Matching\n",
       "1     Positive Examples: \\n\\ninput: \\n\\nRoman Yakub ...   Question Answering\n",
       "2     Positive Examples: \\n\\ninput: \\n\\nBob helped h...   Linguistic Probing\n",
       "3     Positive Examples: \\n\\ninput: \\n\\nCategory: EV...                Misc.\n",
       "4     Positive Examples: \\n\\ninput: \\n\\nstory : Hono...   Question Answering\n",
       "...                                                 ...                  ...\n",
       "1049  Positive Examples: \\n\\ninput: \\n\\n5 + 3\\n\\nout...          Mathematics\n",
       "1050  Positive Examples: \\n\\ninput: \\n\\nText: Abbott...  Text Categorization\n",
       "1051  Positive Examples: \\n\\ninput: \\n\\n1, 3, ['238'...    Program Execution\n",
       "1052  Positive Examples: \\n\\ninput: \\n\\nI work 40 ho...  Text Categorization\n",
       "1053  Positive Examples: \\n\\ninput: \\n\\nWhich State ...   Question Answering\n",
       "\n",
       "[1054 rows x 2 columns]"
      ]
     },
     "execution_count": 20,
     "metadata": {},
     "output_type": "execute_result"
    }
   ],
   "source": [
    "pd.read_csv(\"tasks.csv\")"
   ]
  },
  {
   "cell_type": "code",
   "execution_count": null,
   "metadata": {},
   "outputs": [],
   "source": []
  }
 ],
 "metadata": {
  "kernelspec": {
   "display_name": "Python 3.9.12 ('instruction')",
   "language": "python",
   "name": "python3"
  },
  "language_info": {
   "codemirror_mode": {
    "name": "ipython",
    "version": 3
   },
   "file_extension": ".py",
   "mimetype": "text/x-python",
   "name": "python",
   "nbconvert_exporter": "python",
   "pygments_lexer": "ipython3",
   "version": "3.9.12"
  },
  "orig_nbformat": 4,
  "vscode": {
   "interpreter": {
    "hash": "bc2c0cd89e4ba02e191b1e7889aaaf3c8919053db7e24df61ffe975264e317e1"
   }
  }
 },
 "nbformat": 4,
 "nbformat_minor": 2
}
