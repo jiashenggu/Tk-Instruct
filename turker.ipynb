{
 "cells": [
  {
   "cell_type": "code",
   "execution_count": 4,
   "metadata": {},
   "outputs": [],
   "source": [
    "import json\n",
    "import pandas as pd\n",
    "import glob\n"
   ]
  },
  {
   "cell_type": "code",
   "execution_count": 9,
   "metadata": {},
   "outputs": [
    {
     "data": {
      "text/plain": [
       "1613"
      ]
     },
     "execution_count": 9,
     "metadata": {},
     "output_type": "execute_result"
    }
   ],
   "source": [
    "len(glob.glob(\"/home/gujiashe/Tk-Instruct/data/tasks/*.json\"))"
   ]
  },
  {
   "cell_type": "code",
   "execution_count": 4,
   "metadata": {},
   "outputs": [],
   "source": [
    "tasks = {}\n",
    "\n",
    "\n",
    "tasks['Categories'] = []\n",
    "tasks['pos_input'] = []\n",
    "tasks['pos_output'] = []\n",
    "tasks['pos_explanation'] = []\n",
    "\n",
    "tasks['neg_input'] = []\n",
    "tasks['neg_output'] = []\n",
    "tasks['neg_explanation'] = []\n",
    "paths = []\n",
    "\n",
    "for task_path in glob.glob(\"/home/gujiashe/Tk-Instruct/data/tasks/*.json\"):\n",
    "    with open(task_path, \"r\") as task_f:\n",
    "        s = task_f.read()\n",
    "        task = json.loads(s)\n",
    "        if len(task[\"Input_language\"])>1 or task[\"Input_language\"][0] != \"English\":\n",
    "            continue\n",
    "        if len(task[\"Output_language\"])>1 or task[\"Output_language\"][0] != \"English\":\n",
    "            continue\n",
    "\n",
    "        if len(task['Positive Examples']) == 0:\n",
    "            tasks['pos_input'].append(\"\")\n",
    "            tasks['pos_output'].append(\"\")\n",
    "            tasks['pos_explanation'].append(\"\")\n",
    "        \n",
    "        if len(task['Negative Examples']) == 0:\n",
    "            tasks['neg_input'].append(\"\")\n",
    "            tasks['neg_output'].append(\"\")\n",
    "            tasks['neg_explanation'].append(\"\")\n",
    "        for example in task['Positive Examples']:\n",
    "            tasks['pos_input'].append(example['input'])\n",
    "            tasks['pos_output'].append(example['output'])\n",
    "            tasks['pos_explanation'].append(example['explanation'])\n",
    "            break\n",
    "\n",
    "\n",
    "        for example in task['Negative Examples']:\n",
    "            tasks['neg_input'].append(example['input'])\n",
    "            tasks['neg_output'].append(example['output'])\n",
    "            tasks['neg_explanation'].append(example['explanation'])\n",
    "            break\n",
    "\n",
    "        Categories = task['Categories'][0]\n",
    "        tasks['Categories'].append(Categories)\n",
    "        paths.append(task_path)\n",
    "tasks = pd.DataFrame(tasks)"
   ]
  },
  {
   "cell_type": "code",
   "execution_count": 38,
   "metadata": {},
   "outputs": [
    {
     "name": "stdout",
     "output_type": "stream",
     "text": [
      "74\n",
      "96\n",
      "115\n",
      "321\n",
      "341\n",
      "554\n"
     ]
    }
   ],
   "source": [
    "for i, ex in enumerate(tasks['Examples']):\n",
    "    if '🙂' in ex:\n",
    "        print(i)"
   ]
  },
  {
   "cell_type": "code",
   "execution_count": 6,
   "metadata": {},
   "outputs": [],
   "source": [
    "tasks.to_csv(\"tasks.csv\", index=None)"
   ]
  },
  {
   "cell_type": "code",
   "execution_count": 5,
   "metadata": {},
   "outputs": [],
   "source": [
    "tasks = pd.read_csv(\"tasks.csv\")"
   ]
  },
  {
   "cell_type": "code",
   "execution_count": 6,
   "metadata": {},
   "outputs": [],
   "source": [
    "tasks.iloc[:385].to_csv(\"tasks_subset.csv\", index=None)"
   ]
  },
  {
   "cell_type": "code",
   "execution_count": null,
   "metadata": {},
   "outputs": [],
   "source": []
  }
 ],
 "metadata": {
  "kernelspec": {
   "display_name": "Python 3.9.12 ('instruction')",
   "language": "python",
   "name": "python3"
  },
  "language_info": {
   "codemirror_mode": {
    "name": "ipython",
    "version": 3
   },
   "file_extension": ".py",
   "mimetype": "text/x-python",
   "name": "python",
   "nbconvert_exporter": "python",
   "pygments_lexer": "ipython3",
   "version": "3.9.12"
  },
  "orig_nbformat": 4,
  "vscode": {
   "interpreter": {
    "hash": "bc2c0cd89e4ba02e191b1e7889aaaf3c8919053db7e24df61ffe975264e317e1"
   }
  }
 },
 "nbformat": 4,
 "nbformat_minor": 2
}
