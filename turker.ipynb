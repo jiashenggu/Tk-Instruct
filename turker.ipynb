{
 "cells": [
  {
   "cell_type": "code",
   "execution_count": 25,
   "metadata": {},
   "outputs": [],
   "source": [
    "import json\n",
    "import pandas as pd\n",
    "import glob\n"
   ]
  },
  {
   "cell_type": "code",
   "execution_count": 48,
   "metadata": {},
   "outputs": [],
   "source": [
    "tasks = {}\n",
    "\n",
    "tasks['Examples'] = []\n",
    "tasks['Categories'] = []\n",
    "for task_path in glob.glob(\"/home/gujiashe/Tk-Instruct/data/tasks/*.json\"):\n",
    "    with open(task_path, \"r\") as task_f:\n",
    "        s = task_f.read()\n",
    "        task = json.loads(s)\n",
    "        pos_samples = \"Positive Examples: \" + '\\n\\n'\n",
    "        for example in task['Positive Examples']:\n",
    "            sample = \"\"\n",
    "            for k in example:\n",
    "                sample += k + ': ' + '\\n\\n'\n",
    "                sample += example[k] + '\\n\\n'\n",
    "            sample += '\\n\\n'\n",
    "            pos_samples += sample\n",
    "\n",
    "        neg_samples = \"Negative Examples: \" + '\\n\\n'\n",
    "        for example in task['Negative Examples']:\n",
    "            sample = \"\"\n",
    "            for k in example:\n",
    "                sample += k + ': ' + '\\n\\n'\n",
    "                sample += example[k] + '\\n\\n'\n",
    "            sample += '\\n\\n'\n",
    "            neg_samples += sample\n",
    "        samples = pos_samples + neg_samples\n",
    "        Categories = task['Categories'][0]\n",
    "    tasks['Examples'].append(samples)\n",
    "    tasks['Categories'].append(Categories)\n",
    "tasks = pd.DataFrame(tasks)"
   ]
  },
  {
   "cell_type": "code",
   "execution_count": 56,
   "metadata": {},
   "outputs": [
    {
     "data": {
      "text/plain": [
       "'Positive Examples: \\n\\ninput: \\n\\nczy w pobliżu znajdują się jakiekolwiek restauracje \" italian \" z opiniami z 0 gwiazdką/gwiazdkami?\\n\\noutput: \\n\\nare there any \" italian \" restaurants nearby with 0 star reviews ?\\n\\nexplanation: \\n\\nThe translation correctly preserves \" italian \" entity and is accurate\\n\\n\\n\\ninput: \\n\\njakie dania podaje ta restauracja?\\n\\noutput: \\n\\nwhat kind of food does this restaurant serve ?\\n\\nexplanation: \\n\\nThe translation is fluent, formal, and accurate\\n\\n\\n\\ninput: \\n\\ngdzie znajduje się najbliższa restauracja \" chinese \" i jaki jest jej numer telefonu?\\n\\noutput: \\n\\nwhat is the telephone number and location of the nearest \" chinese \" restaurant ?\\n\\nexplanation: \\n\\nThe translation correctly preserves \" chinese \" entity. It\\'s also fluent, correct, and lowercased.\\n\\n\\n\\nNegative Examples: \\n\\ninput: \\n\\ngdzie znajduje się najbliższy obiekt \" wendy \\'s \"?\\n\\noutput: \\n\\nwhere is the closest wendy \\'s ?\\n\\nexplanation: \\n\\nTranslation contain the entity \" wendy \\'s \" but quotation marks are dropped\\n\\n\\n\\ninput: \\n\\nwyświetl najbliższy obiekt \" mcdonald \\'s \"\\n\\noutput: \\n\\nshow me the closest \" McDonald\\'s \"\\n\\nexplanation: \\n\\nThe output is not lowercased\\n\\n\\n\\ninput: \\n\\nwyświetl wszystkie opisy opinii, które zamieścił(a) \" jennifer \".\\n\\noutput: \\n\\ndisplay all authored by \" jennifer \" .\\n\\nexplanation: \\n\\nTranslation of \\'opisy opinii\\' is omitted from the output\\n\\n\\n\\ninput: \\n\\njaki jest numer telefonu \" noodle nirvana \"?\\n\\noutput: \\n\\nwhat is the phone number for \" nirwana makaronowa \" ?\\n\\nexplanation: \\n\\nThe restaurant name \" noodle nirvana \" is translated to \" nirwana makaronowa \" instead of being kept intact\\n\\n\\n\\ninput: \\n\\nczy mogę poznać ocenę \" gold mirror \" w(e) \" san francisco \"?\\n\\noutput: \\n\\ncan you tell me the rating of \" san francisco \" in \" gold mirror \" ?\\n\\nexplanation: \\n\\nThe position of entities is switched in the output\\n\\n\\n\\n'"
      ]
     },
     "execution_count": 56,
     "metadata": {},
     "output_type": "execute_result"
    }
   ],
   "source": [
    "tasks['Examples'][0]"
   ]
  },
  {
   "cell_type": "code",
   "execution_count": 53,
   "metadata": {},
   "outputs": [],
   "source": [
    "tasks.to_csv(\"tasks.csv\", index=None)"
   ]
  },
  {
   "cell_type": "code",
   "execution_count": 6,
   "metadata": {},
   "outputs": [
    {
     "data": {
      "text/html": [
       "<div>\n",
       "<style scoped>\n",
       "    .dataframe tbody tr th:only-of-type {\n",
       "        vertical-align: middle;\n",
       "    }\n",
       "\n",
       "    .dataframe tbody tr th {\n",
       "        vertical-align: top;\n",
       "    }\n",
       "\n",
       "    .dataframe thead th {\n",
       "        text-align: right;\n",
       "    }\n",
       "</style>\n",
       "<table border=\"1\" class=\"dataframe\">\n",
       "  <thead>\n",
       "    <tr style=\"text-align: right;\">\n",
       "      <th></th>\n",
       "      <th>input</th>\n",
       "      <th>output</th>\n",
       "      <th>explanation</th>\n",
       "    </tr>\n",
       "  </thead>\n",
       "  <tbody>\n",
       "    <tr>\n",
       "      <th>0</th>\n",
       "      <td>Passage: Nearing London, Oliver encounters Jac...</td>\n",
       "      <td>Who believes Fagin's gang make wallets and han...</td>\n",
       "      <td>This question is based on the following senten...</td>\n",
       "    </tr>\n",
       "    <tr>\n",
       "      <th>1</th>\n",
       "      <td>Passage: Nearing London, Oliver encounters Jac...</td>\n",
       "      <td>What is the alias of the person whose sidekick...</td>\n",
       "      <td>This question is based on the following senten...</td>\n",
       "    </tr>\n",
       "    <tr>\n",
       "      <th>2</th>\n",
       "      <td>Passage: Nearing London, Oliver encounters Jac...</td>\n",
       "      <td>What are the names of the people whose dishone...</td>\n",
       "      <td>This question is based on the following senten...</td>\n",
       "    </tr>\n",
       "    <tr>\n",
       "      <th>3</th>\n",
       "      <td>Passage: Nearing London, Oliver encounters Jac...</td>\n",
       "      <td>What is the Dodger's real name?.</td>\n",
       "      <td>Question evaluates the understanding that \"The...</td>\n",
       "    </tr>\n",
       "    <tr>\n",
       "      <th>4</th>\n",
       "      <td>Passage: Nearing London, Oliver encounters Jac...</td>\n",
       "      <td>What is the real name of the person who provid...</td>\n",
       "      <td>This question evaluates the understanding that...</td>\n",
       "    </tr>\n",
       "    <tr>\n",
       "      <th>5</th>\n",
       "      <td>Passage: Nearing London, Oliver encounters Jac...</td>\n",
       "      <td>Which place served as Fagin and his gang's lair?.</td>\n",
       "      <td>Question evaluates the understanding that the ...</td>\n",
       "    </tr>\n",
       "  </tbody>\n",
       "</table>\n",
       "</div>"
      ],
      "text/plain": [
       "                                               input  \\\n",
       "0  Passage: Nearing London, Oliver encounters Jac...   \n",
       "1  Passage: Nearing London, Oliver encounters Jac...   \n",
       "2  Passage: Nearing London, Oliver encounters Jac...   \n",
       "3  Passage: Nearing London, Oliver encounters Jac...   \n",
       "4  Passage: Nearing London, Oliver encounters Jac...   \n",
       "5  Passage: Nearing London, Oliver encounters Jac...   \n",
       "\n",
       "                                              output  \\\n",
       "0  Who believes Fagin's gang make wallets and han...   \n",
       "1  What is the alias of the person whose sidekick...   \n",
       "2  What are the names of the people whose dishone...   \n",
       "3                   What is the Dodger's real name?.   \n",
       "4  What is the real name of the person who provid...   \n",
       "5  Which place served as Fagin and his gang's lair?.   \n",
       "\n",
       "                                         explanation  \n",
       "0  This question is based on the following senten...  \n",
       "1  This question is based on the following senten...  \n",
       "2  This question is based on the following senten...  \n",
       "3  Question evaluates the understanding that \"The...  \n",
       "4  This question evaluates the understanding that...  \n",
       "5  Question evaluates the understanding that the ...  "
      ]
     },
     "execution_count": 6,
     "metadata": {},
     "output_type": "execute_result"
    }
   ],
   "source": [
    "pd.DataFrame(tasks)"
   ]
  }
 ],
 "metadata": {
  "kernelspec": {
   "display_name": "Python 3.9.12 ('instruction')",
   "language": "python",
   "name": "python3"
  },
  "language_info": {
   "codemirror_mode": {
    "name": "ipython",
    "version": 3
   },
   "file_extension": ".py",
   "mimetype": "text/x-python",
   "name": "python",
   "nbconvert_exporter": "python",
   "pygments_lexer": "ipython3",
   "version": "3.9.12"
  },
  "orig_nbformat": 4,
  "vscode": {
   "interpreter": {
    "hash": "bc2c0cd89e4ba02e191b1e7889aaaf3c8919053db7e24df61ffe975264e317e1"
   }
  }
 },
 "nbformat": 4,
 "nbformat_minor": 2
}
