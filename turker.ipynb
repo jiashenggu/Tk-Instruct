{
 "cells": [
  {
   "cell_type": "code",
   "execution_count": 2,
   "metadata": {},
   "outputs": [],
   "source": [
    "import json\n",
    "import pandas as pd\n",
    "import glob\n"
   ]
  },
  {
   "cell_type": "code",
   "execution_count": 9,
   "metadata": {},
   "outputs": [
    {
     "data": {
      "text/plain": [
       "1613"
      ]
     },
     "execution_count": 9,
     "metadata": {},
     "output_type": "execute_result"
    }
   ],
   "source": [
    "len(glob.glob(\"/home/gujiashe/Tk-Instruct/data/tasks/*.json\"))"
   ]
  },
  {
   "cell_type": "code",
   "execution_count": 27,
   "metadata": {},
   "outputs": [],
   "source": [
    "tasks = {}\n",
    "\n",
    "tasks['Examples'] = []\n",
    "tasks['Categories'] = []\n",
    "paths = []\n",
    "\n",
    "for task_path in glob.glob(\"/home/gujiashe/Tk-Instruct/data/tasks/*.json\"):\n",
    "    with open(task_path, \"r\") as task_f:\n",
    "        s = task_f.read()\n",
    "        task = json.loads(s)\n",
    "        if len(task[\"Input_language\"])>1 or task[\"Input_language\"][0] != \"English\":\n",
    "            continue\n",
    "        if len(task[\"Output_language\"])>1 or task[\"Output_language\"][0] != \"English\":\n",
    "            continue\n",
    "        pos_samples = \"Positive Examples: \" + '\\n\\n'\n",
    "        for example in task['Positive Examples']:\n",
    "            sample = \"\"\n",
    "            for k in example:\n",
    "                sample += k + ': ' + '\\n\\n'\n",
    "                sample += example[k] + '\\n\\n'\n",
    "            sample += '\\n\\n'\n",
    "            pos_samples += sample\n",
    "\n",
    "        neg_samples = \"Negative Examples: \" + '\\n\\n'\n",
    "        for example in task['Negative Examples']:\n",
    "            sample = \"\"\n",
    "            for k in example:\n",
    "                sample += k + ': ' + '\\n\\n'\n",
    "                sample += example[k] + '\\n\\n'\n",
    "            sample += '\\n\\n'\n",
    "            neg_samples += sample\n",
    "        samples = pos_samples + neg_samples\n",
    "        Categories = task['Categories'][0]\n",
    "        tasks['Examples'].append(samples)\n",
    "        tasks['Categories'].append(Categories)\n",
    "        paths.append(task_path)\n",
    "tasks = pd.DataFrame(tasks)"
   ]
  },
  {
   "cell_type": "code",
   "execution_count": 26,
   "metadata": {},
   "outputs": [
    {
     "data": {
      "text/plain": [
       "'/home/gujiashe/Tk-Instruct/data/tasks/task896_miam_language_classification.json'"
      ]
     },
     "execution_count": 26,
     "metadata": {},
     "output_type": "execute_result"
    }
   ],
   "source": [
    "paths[76]"
   ]
  },
  {
   "cell_type": "code",
   "execution_count": 29,
   "metadata": {},
   "outputs": [
    {
     "data": {
      "text/plain": [
       "0       Positive Examples: \\n\\ninput: \\n\\nI have bough...\n",
       "1       Positive Examples: \\n\\ninput: \\n\\nRoman Yakub ...\n",
       "2       Positive Examples: \\n\\ninput: \\n\\nBob helped h...\n",
       "3       Positive Examples: \\n\\ninput: \\n\\nCategory: EV...\n",
       "4       Positive Examples: \\n\\ninput: \\n\\nstory : Hono...\n",
       "                              ...                        \n",
       "1032    Positive Examples: \\n\\ninput: \\n\\n5 + 3\\n\\nout...\n",
       "1033    Positive Examples: \\n\\ninput: \\n\\nText: Abbott...\n",
       "1034    Positive Examples: \\n\\ninput: \\n\\n1, 3, ['238'...\n",
       "1035    Positive Examples: \\n\\ninput: \\n\\nI work 40 ho...\n",
       "1036    Positive Examples: \\n\\ninput: \\n\\nWhich State ...\n",
       "Name: Examples, Length: 1037, dtype: object"
      ]
     },
     "execution_count": 29,
     "metadata": {},
     "output_type": "execute_result"
    }
   ],
   "source": [
    "tasks['Examples']"
   ]
  },
  {
   "cell_type": "code",
   "execution_count": 40,
   "metadata": {},
   "outputs": [
    {
     "name": "stdout",
     "output_type": "stream",
     "text": [
      "Positive Examples: \n",
      "\n",
      "input: \n",
      "\n",
      "John has y dollars to spend on some new CDs from Music Plus, an online record store. He can buy any CDs at the members' price of x dollars each. To be a member, John has to pay a one-time fee of $19. Which of the following expressions represents the number of CDs John can purchase from Music Plus?\n",
      "(A)\\(\\frac{xy}{19}\\) (B)\\(\\frac{y + 19}{x}\\) (C)\\(\\frac{2y - x}{19}\\) (D)\\(\\frac{y - 19}{x}\\) (E)\\(\\frac{19 - x}{y}\\)\n",
      "\n",
      "output: \n",
      "\n",
      "D\n",
      "\n",
      "explanation: \n",
      "\n",
      "john must pay 19 dollar to buy a membership then he will have \\(y-19\\) dollar remaining so he can buy \\(\frac{y - 19}{x}\\) CDs.\n",
      "\n",
      "\n",
      "\n",
      "input: \n",
      "\n",
      "There are four colors of lottery tickets in a hat. If \\(\\frac { 1 } { 10 } \\) of the tickets in the hat are green, \\(\\frac { 1 } { 2 } \\) are white, \\(\\frac { 1 } { 4 } \\) are blue, and the remaining 30 tickets are pink, what is the number of blue tickets in the hat?\n",
      "(A)25 (B)50 (C)75 (D)120 (E)200\n",
      "\n",
      "output: \n",
      "\n",
      "B\n",
      "\n",
      "explanation: \n",
      "\n",
      "\\(\frac { 17 } { 20 } \\) of the tickets are either green,white or blue. the remaining 30 ticket make \\(\frac { 3 } { 20 } \\) of the tickets and there are 200 tickets in total. \\(\frac { 1 } { 4 } \\) are blue so 50 tickets are blue.\n",
      "\n",
      "\n",
      "\n",
      "Negative Examples: \n",
      "\n",
      "input: \n",
      "\n",
      "There are four colors of lottery tickets in a hat. If \\(\\frac { 1 } { 10 } \\) of the tickets in the hat are green, \\(\\frac { 1 } { 2 } \\) are white, \\(\\frac { 1 } { 4 } \\) are blue, and the remaining 30 tickets are pink, what is the number of blue tickets in the hat?\n",
      "(A)25 (B)50 (C)75 (D)120 (E)200\n",
      "\n",
      "output: \n",
      "\n",
      "B,D\n",
      "\n",
      "explanation: \n",
      "\n",
      "Only one of the following options ('A', 'B', 'C', 'D' or 'E') is allowed to be the answer. Multiple options can not be correct. The correct answer here would have been 'E'.\n",
      "\n",
      "\n",
      "\n",
      "\n"
     ]
    }
   ],
   "source": [
    "print(tasks['Examples'][384])"
   ]
  },
  {
   "cell_type": "code",
   "execution_count": 38,
   "metadata": {},
   "outputs": [
    {
     "name": "stdout",
     "output_type": "stream",
     "text": [
      "74\n",
      "96\n",
      "115\n",
      "321\n",
      "341\n",
      "554\n"
     ]
    }
   ],
   "source": [
    "for i, ex in enumerate(tasks['Examples']):\n",
    "    if '🙂' in ex:\n",
    "        print(i)"
   ]
  },
  {
   "cell_type": "code",
   "execution_count": 30,
   "metadata": {},
   "outputs": [],
   "source": [
    "tasks.to_csv(\"tasks.csv\", index=None)"
   ]
  },
  {
   "cell_type": "code",
   "execution_count": 31,
   "metadata": {},
   "outputs": [
    {
     "data": {
      "text/html": [
       "<div>\n",
       "<style scoped>\n",
       "    .dataframe tbody tr th:only-of-type {\n",
       "        vertical-align: middle;\n",
       "    }\n",
       "\n",
       "    .dataframe tbody tr th {\n",
       "        vertical-align: top;\n",
       "    }\n",
       "\n",
       "    .dataframe thead th {\n",
       "        text-align: right;\n",
       "    }\n",
       "</style>\n",
       "<table border=\"1\" class=\"dataframe\">\n",
       "  <thead>\n",
       "    <tr style=\"text-align: right;\">\n",
       "      <th></th>\n",
       "      <th>Examples</th>\n",
       "      <th>Categories</th>\n",
       "    </tr>\n",
       "  </thead>\n",
       "  <tbody>\n",
       "    <tr>\n",
       "      <th>0</th>\n",
       "      <td>Positive Examples: \\n\\ninput: \\n\\nI have bough...</td>\n",
       "      <td>Text Matching</td>\n",
       "    </tr>\n",
       "    <tr>\n",
       "      <th>1</th>\n",
       "      <td>Positive Examples: \\n\\ninput: \\n\\nRoman Yakub ...</td>\n",
       "      <td>Question Answering</td>\n",
       "    </tr>\n",
       "    <tr>\n",
       "      <th>2</th>\n",
       "      <td>Positive Examples: \\n\\ninput: \\n\\nBob helped h...</td>\n",
       "      <td>Linguistic Probing</td>\n",
       "    </tr>\n",
       "    <tr>\n",
       "      <th>3</th>\n",
       "      <td>Positive Examples: \\n\\ninput: \\n\\nCategory: EV...</td>\n",
       "      <td>Misc.</td>\n",
       "    </tr>\n",
       "    <tr>\n",
       "      <th>4</th>\n",
       "      <td>Positive Examples: \\n\\ninput: \\n\\nstory : Hono...</td>\n",
       "      <td>Question Answering</td>\n",
       "    </tr>\n",
       "    <tr>\n",
       "      <th>...</th>\n",
       "      <td>...</td>\n",
       "      <td>...</td>\n",
       "    </tr>\n",
       "    <tr>\n",
       "      <th>1032</th>\n",
       "      <td>Positive Examples: \\n\\ninput: \\n\\n5 + 3\\n\\nout...</td>\n",
       "      <td>Mathematics</td>\n",
       "    </tr>\n",
       "    <tr>\n",
       "      <th>1033</th>\n",
       "      <td>Positive Examples: \\n\\ninput: \\n\\nText: Abbott...</td>\n",
       "      <td>Text Categorization</td>\n",
       "    </tr>\n",
       "    <tr>\n",
       "      <th>1034</th>\n",
       "      <td>Positive Examples: \\n\\ninput: \\n\\n1, 3, ['238'...</td>\n",
       "      <td>Program Execution</td>\n",
       "    </tr>\n",
       "    <tr>\n",
       "      <th>1035</th>\n",
       "      <td>Positive Examples: \\n\\ninput: \\n\\nI work 40 ho...</td>\n",
       "      <td>Text Categorization</td>\n",
       "    </tr>\n",
       "    <tr>\n",
       "      <th>1036</th>\n",
       "      <td>Positive Examples: \\n\\ninput: \\n\\nWhich State ...</td>\n",
       "      <td>Question Answering</td>\n",
       "    </tr>\n",
       "  </tbody>\n",
       "</table>\n",
       "<p>1037 rows × 2 columns</p>\n",
       "</div>"
      ],
      "text/plain": [
       "                                               Examples           Categories\n",
       "0     Positive Examples: \\n\\ninput: \\n\\nI have bough...        Text Matching\n",
       "1     Positive Examples: \\n\\ninput: \\n\\nRoman Yakub ...   Question Answering\n",
       "2     Positive Examples: \\n\\ninput: \\n\\nBob helped h...   Linguistic Probing\n",
       "3     Positive Examples: \\n\\ninput: \\n\\nCategory: EV...                Misc.\n",
       "4     Positive Examples: \\n\\ninput: \\n\\nstory : Hono...   Question Answering\n",
       "...                                                 ...                  ...\n",
       "1032  Positive Examples: \\n\\ninput: \\n\\n5 + 3\\n\\nout...          Mathematics\n",
       "1033  Positive Examples: \\n\\ninput: \\n\\nText: Abbott...  Text Categorization\n",
       "1034  Positive Examples: \\n\\ninput: \\n\\n1, 3, ['238'...    Program Execution\n",
       "1035  Positive Examples: \\n\\ninput: \\n\\nI work 40 ho...  Text Categorization\n",
       "1036  Positive Examples: \\n\\ninput: \\n\\nWhich State ...   Question Answering\n",
       "\n",
       "[1037 rows x 2 columns]"
      ]
     },
     "execution_count": 31,
     "metadata": {},
     "output_type": "execute_result"
    }
   ],
   "source": [
    "pd.read_csv(\"tasks.csv\")"
   ]
  },
  {
   "cell_type": "code",
   "execution_count": null,
   "metadata": {},
   "outputs": [],
   "source": []
  }
 ],
 "metadata": {
  "kernelspec": {
   "display_name": "Python 3.9.12 ('instruction')",
   "language": "python",
   "name": "python3"
  },
  "language_info": {
   "codemirror_mode": {
    "name": "ipython",
    "version": 3
   },
   "file_extension": ".py",
   "mimetype": "text/x-python",
   "name": "python",
   "nbconvert_exporter": "python",
   "pygments_lexer": "ipython3",
   "version": "3.9.12"
  },
  "orig_nbformat": 4,
  "vscode": {
   "interpreter": {
    "hash": "bc2c0cd89e4ba02e191b1e7889aaaf3c8919053db7e24df61ffe975264e317e1"
   }
  }
 },
 "nbformat": 4,
 "nbformat_minor": 2
}
